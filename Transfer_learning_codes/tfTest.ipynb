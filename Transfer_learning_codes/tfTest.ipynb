{
 "cells": [
  {
   "cell_type": "code",
   "execution_count": 1,
   "metadata": {},
   "outputs": [],
   "source": [
    "import numpy as np # linear algebra\n",
    "import pandas as pd # data processing, CSV file I/O (e.g. pd.read_csv)"
   ]
  },
  {
   "cell_type": "code",
   "execution_count": 2,
   "metadata": {},
   "outputs": [],
   "source": [
    "import tensorflow as tf\n",
    "from tensorflow.keras import layers\n",
    "import os\n",
    "from tensorflow.keras.models import Sequential\n",
    "import tensorflow_hub as hub\n",
    "import scipy"
   ]
  },
  {
   "cell_type": "code",
   "execution_count": 3,
   "metadata": {},
   "outputs": [
    {
     "name": "stdout",
     "output_type": "stream",
     "text": [
      "1.15.0\n",
      "<function set_visible_devices at 0x7fd012646c20>\n",
      "Num GPUs Available:  1\n",
      "Default GPU Device: /device:GPU:0\n"
     ]
    },
    {
     "name": "stderr",
     "output_type": "stream",
     "text": [
      "2022-06-18 16:09:11.466749: I tensorflow/stream_executor/platform/default/dso_loader.cc:44] Successfully opened dynamic library libcuda.so.1\n",
      "2022-06-18 16:09:11.701003: I tensorflow/stream_executor/cuda/cuda_gpu_executor.cc:983] successful NUMA node read from SysFS had negative value (-1), but there must be at least one NUMA node, so returning NUMA node zero\n",
      "2022-06-18 16:09:11.701625: I tensorflow/core/common_runtime/gpu/gpu_device.cc:1618] Found device 0 with properties: \n",
      "name: TITAN Xp major: 6 minor: 1 memoryClockRate(GHz): 1.582\n",
      "pciBusID: 0000:01:00.0\n",
      "2022-06-18 16:09:11.705332: I tensorflow/stream_executor/platform/default/dso_loader.cc:44] Successfully opened dynamic library libcudart.so.10.0\n",
      "2022-06-18 16:09:11.757618: I tensorflow/stream_executor/platform/default/dso_loader.cc:44] Successfully opened dynamic library libcublas.so.10.0\n",
      "2022-06-18 16:09:11.773587: I tensorflow/stream_executor/platform/default/dso_loader.cc:44] Successfully opened dynamic library libcufft.so.10.0\n",
      "2022-06-18 16:09:11.780243: I tensorflow/stream_executor/platform/default/dso_loader.cc:44] Successfully opened dynamic library libcurand.so.10.0\n",
      "2022-06-18 16:09:11.828434: I tensorflow/stream_executor/platform/default/dso_loader.cc:44] Successfully opened dynamic library libcusolver.so.10.0\n",
      "2022-06-18 16:09:11.850860: I tensorflow/stream_executor/platform/default/dso_loader.cc:44] Successfully opened dynamic library libcusparse.so.10.0\n",
      "2022-06-18 16:09:11.914929: I tensorflow/stream_executor/platform/default/dso_loader.cc:44] Successfully opened dynamic library libcudnn.so.7\n",
      "2022-06-18 16:09:11.915092: I tensorflow/stream_executor/cuda/cuda_gpu_executor.cc:983] successful NUMA node read from SysFS had negative value (-1), but there must be at least one NUMA node, so returning NUMA node zero\n",
      "2022-06-18 16:09:11.915694: I tensorflow/stream_executor/cuda/cuda_gpu_executor.cc:983] successful NUMA node read from SysFS had negative value (-1), but there must be at least one NUMA node, so returning NUMA node zero\n",
      "2022-06-18 16:09:11.916198: I tensorflow/core/common_runtime/gpu/gpu_device.cc:1746] Adding visible gpu devices: 0\n",
      "2022-06-18 16:09:11.997697: I tensorflow/core/platform/profile_utils/cpu_utils.cc:94] CPU Frequency: 3392350000 Hz\n",
      "2022-06-18 16:09:11.999522: I tensorflow/compiler/xla/service/service.cc:168] XLA service 0x56319af4f1b0 initialized for platform Host (this does not guarantee that XLA will be used). Devices:\n",
      "2022-06-18 16:09:11.999573: I tensorflow/compiler/xla/service/service.cc:176]   StreamExecutor device (0): Host, Default Version\n",
      "2022-06-18 16:09:12.089630: I tensorflow/stream_executor/cuda/cuda_gpu_executor.cc:983] successful NUMA node read from SysFS had negative value (-1), but there must be at least one NUMA node, so returning NUMA node zero\n",
      "2022-06-18 16:09:12.090309: I tensorflow/compiler/xla/service/service.cc:168] XLA service 0x56319af72930 initialized for platform CUDA (this does not guarantee that XLA will be used). Devices:\n",
      "2022-06-18 16:09:12.090346: I tensorflow/compiler/xla/service/service.cc:176]   StreamExecutor device (0): TITAN Xp, Compute Capability 6.1\n",
      "2022-06-18 16:09:12.090569: I tensorflow/stream_executor/cuda/cuda_gpu_executor.cc:983] successful NUMA node read from SysFS had negative value (-1), but there must be at least one NUMA node, so returning NUMA node zero\n",
      "2022-06-18 16:09:12.091613: I tensorflow/core/common_runtime/gpu/gpu_device.cc:1618] Found device 0 with properties: \n",
      "name: TITAN Xp major: 6 minor: 1 memoryClockRate(GHz): 1.582\n",
      "pciBusID: 0000:01:00.0\n",
      "2022-06-18 16:09:12.091690: I tensorflow/stream_executor/platform/default/dso_loader.cc:44] Successfully opened dynamic library libcudart.so.10.0\n",
      "2022-06-18 16:09:12.091722: I tensorflow/stream_executor/platform/default/dso_loader.cc:44] Successfully opened dynamic library libcublas.so.10.0\n",
      "2022-06-18 16:09:12.091749: I tensorflow/stream_executor/platform/default/dso_loader.cc:44] Successfully opened dynamic library libcufft.so.10.0\n",
      "2022-06-18 16:09:12.091776: I tensorflow/stream_executor/platform/default/dso_loader.cc:44] Successfully opened dynamic library libcurand.so.10.0\n",
      "2022-06-18 16:09:12.091802: I tensorflow/stream_executor/platform/default/dso_loader.cc:44] Successfully opened dynamic library libcusolver.so.10.0\n",
      "2022-06-18 16:09:12.091829: I tensorflow/stream_executor/platform/default/dso_loader.cc:44] Successfully opened dynamic library libcusparse.so.10.0\n",
      "2022-06-18 16:09:12.091863: I tensorflow/stream_executor/platform/default/dso_loader.cc:44] Successfully opened dynamic library libcudnn.so.7\n",
      "2022-06-18 16:09:12.091943: I tensorflow/stream_executor/cuda/cuda_gpu_executor.cc:983] successful NUMA node read from SysFS had negative value (-1), but there must be at least one NUMA node, so returning NUMA node zero\n",
      "2022-06-18 16:09:12.093016: I tensorflow/stream_executor/cuda/cuda_gpu_executor.cc:983] successful NUMA node read from SysFS had negative value (-1), but there must be at least one NUMA node, so returning NUMA node zero\n",
      "2022-06-18 16:09:12.097647: I tensorflow/core/common_runtime/gpu/gpu_device.cc:1746] Adding visible gpu devices: 0\n",
      "2022-06-18 16:09:12.099859: I tensorflow/stream_executor/platform/default/dso_loader.cc:44] Successfully opened dynamic library libcudart.so.10.0\n",
      "2022-06-18 16:09:12.101258: I tensorflow/core/common_runtime/gpu/gpu_device.cc:1159] Device interconnect StreamExecutor with strength 1 edge matrix:\n",
      "2022-06-18 16:09:12.101286: I tensorflow/core/common_runtime/gpu/gpu_device.cc:1165]      0 \n",
      "2022-06-18 16:09:12.101295: I tensorflow/core/common_runtime/gpu/gpu_device.cc:1178] 0:   N \n",
      "2022-06-18 16:09:12.102219: I tensorflow/stream_executor/cuda/cuda_gpu_executor.cc:983] successful NUMA node read from SysFS had negative value (-1), but there must be at least one NUMA node, so returning NUMA node zero\n",
      "2022-06-18 16:09:12.102829: I tensorflow/stream_executor/cuda/cuda_gpu_executor.cc:983] successful NUMA node read from SysFS had negative value (-1), but there must be at least one NUMA node, so returning NUMA node zero\n",
      "2022-06-18 16:09:12.103398: I tensorflow/core/common_runtime/gpu/gpu_device.cc:1304] Created TensorFlow device (/device:GPU:0 with 11437 MB memory) -> physical GPU (device: 0, name: TITAN Xp, pci bus id: 0000:01:00.0, compute capability: 6.1)\n",
      "2022-06-18 16:09:12.106127: I tensorflow/stream_executor/cuda/cuda_gpu_executor.cc:983] successful NUMA node read from SysFS had negative value (-1), but there must be at least one NUMA node, so returning NUMA node zero\n",
      "2022-06-18 16:09:12.110358: I tensorflow/core/common_runtime/gpu/gpu_device.cc:1618] Found device 0 with properties: \n",
      "name: TITAN Xp major: 6 minor: 1 memoryClockRate(GHz): 1.582\n",
      "pciBusID: 0000:01:00.0\n",
      "2022-06-18 16:09:12.110395: I tensorflow/stream_executor/platform/default/dso_loader.cc:44] Successfully opened dynamic library libcudart.so.10.0\n",
      "2022-06-18 16:09:12.110412: I tensorflow/stream_executor/platform/default/dso_loader.cc:44] Successfully opened dynamic library libcublas.so.10.0\n",
      "2022-06-18 16:09:12.110426: I tensorflow/stream_executor/platform/default/dso_loader.cc:44] Successfully opened dynamic library libcufft.so.10.0\n",
      "2022-06-18 16:09:12.110450: I tensorflow/stream_executor/platform/default/dso_loader.cc:44] Successfully opened dynamic library libcurand.so.10.0\n",
      "2022-06-18 16:09:12.110472: I tensorflow/stream_executor/platform/default/dso_loader.cc:44] Successfully opened dynamic library libcusolver.so.10.0\n",
      "2022-06-18 16:09:12.110489: I tensorflow/stream_executor/platform/default/dso_loader.cc:44] Successfully opened dynamic library libcusparse.so.10.0\n",
      "2022-06-18 16:09:12.110504: I tensorflow/stream_executor/platform/default/dso_loader.cc:44] Successfully opened dynamic library libcudnn.so.7\n",
      "2022-06-18 16:09:12.110603: I tensorflow/stream_executor/cuda/cuda_gpu_executor.cc:983] successful NUMA node read from SysFS had negative value (-1), but there must be at least one NUMA node, so returning NUMA node zero\n",
      "2022-06-18 16:09:12.111276: I tensorflow/stream_executor/cuda/cuda_gpu_executor.cc:983] successful NUMA node read from SysFS had negative value (-1), but there must be at least one NUMA node, so returning NUMA node zero\n",
      "2022-06-18 16:09:12.111803: I tensorflow/core/common_runtime/gpu/gpu_device.cc:1746] Adding visible gpu devices: 0\n",
      "2022-06-18 16:09:12.111820: I tensorflow/core/common_runtime/gpu/gpu_device.cc:1159] Device interconnect StreamExecutor with strength 1 edge matrix:\n",
      "2022-06-18 16:09:12.111827: I tensorflow/core/common_runtime/gpu/gpu_device.cc:1165]      0 \n",
      "2022-06-18 16:09:12.111833: I tensorflow/core/common_runtime/gpu/gpu_device.cc:1178] 0:   N \n",
      "2022-06-18 16:09:12.111903: I tensorflow/stream_executor/cuda/cuda_gpu_executor.cc:983] successful NUMA node read from SysFS had negative value (-1), but there must be at least one NUMA node, so returning NUMA node zero\n",
      "2022-06-18 16:09:12.112472: I tensorflow/stream_executor/cuda/cuda_gpu_executor.cc:983] successful NUMA node read from SysFS had negative value (-1), but there must be at least one NUMA node, so returning NUMA node zero\n",
      "2022-06-18 16:09:12.113010: I tensorflow/core/common_runtime/gpu/gpu_device.cc:1304] Created TensorFlow device (/device:GPU:0 with 11437 MB memory) -> physical GPU (device: 0, name: TITAN Xp, pci bus id: 0000:01:00.0, compute capability: 6.1)\n"
     ]
    }
   ],
   "source": [
    "print(tf.__version__)\n",
    "print(tf.compat.v1.config.experimental.set_visible_devices)\n",
    "print(\"Num GPUs Available: \", len(tf.config.experimental.list_physical_devices('GPU'))) \n",
    "\n",
    "if tf.test.gpu_device_name():\n",
    "    print('Default GPU Device: {}'.format(tf.test.gpu_device_name()))\n",
    "else:\n",
    "    print(\"Please install GPU version of TF\")"
   ]
  },
  {
   "cell_type": "code",
   "execution_count": 4,
   "metadata": {},
   "outputs": [],
   "source": [
    "import matplotlib.pyplot as plt\n",
    "import matplotlib.image as mpimg\n",
    "import random"
   ]
  },
  {
   "cell_type": "code",
   "execution_count": 6,
   "metadata": {},
   "outputs": [],
   "source": [
    "from tensorflow.keras.preprocessing.image import load_img, img_to_array, ImageDataGenerator\n",
    "import glob"
   ]
  },
  {
   "cell_type": "code",
   "execution_count": 7,
   "metadata": {},
   "outputs": [],
   "source": [
    "train_dir = 'intel-image-classification/seg_train/seg_train'\n",
    "test_dir = 'intel-image-classification/seg_test/seg_test'\n",
    "pred_dir = 'intel-image-classification/seg_pred/seg_pred'\n",
    "\n",
    "\n",
    "labels = ['buildings', 'forest', 'glacier', 'mountain', 'sea', 'street']"
   ]
  },
  {
   "cell_type": "code",
   "execution_count": 8,
   "metadata": {},
   "outputs": [],
   "source": [
    "trainGen = ImageDataGenerator(rescale = 1./255)\n",
    "testGen = ImageDataGenerator(rescale = 1./255)"
   ]
  },
  {
   "cell_type": "code",
   "execution_count": 9,
   "metadata": {},
   "outputs": [
    {
     "name": "stdout",
     "output_type": "stream",
     "text": [
      "Found 14034 images belonging to 6 classes.\n",
      "Found 3000 images belonging to 6 classes.\n"
     ]
    }
   ],
   "source": [
    "train = trainGen.flow_from_directory(train_dir,\n",
    "                                        class_mode='categorical',\n",
    "                                        target_size=(224,224),\n",
    "                                        batch_size=32,\n",
    "                                         classes = labels\n",
    "                                    )\n",
    "\n",
    "test = testGen.flow_from_directory(test_dir,\n",
    "                                  class_mode='categorical',\n",
    "                                  target_size=(224,224),\n",
    "                                  batch_size=32,\n",
    "                                   classes = labels\n",
    "                                  )"
   ]
  },
  {
   "cell_type": "code",
   "execution_count": 10,
   "metadata": {},
   "outputs": [],
   "source": [
    "def view_random_image(dirname):\n",
    "    class_names = train.class_names\n",
    "    random_class = random.choice(class_names)\n",
    "    dirname = train_dir\n",
    "    random_image_folder = os.path.join(dirname,random_class)\n",
    "    random_image = random.choice(os.listdir(random_image_folder))\n",
    "    random_image_path = os.path.join(random_image_folder,random_image)\n",
    "    image = mpimg.imread(random_image_path)\n",
    "    plt.imshow(image)\n",
    "    plt.title(f\"Random Image of: {random_class}\");\n"
   ]
  },
  {
   "cell_type": "code",
   "execution_count": 11,
   "metadata": {},
   "outputs": [
    {
     "ename": "AttributeError",
     "evalue": "'DirectoryIterator' object has no attribute 'class_names'",
     "output_type": "error",
     "traceback": [
      "\u001b[0;31m---------------------------------------------------------------------------\u001b[0m",
      "\u001b[0;31mAttributeError\u001b[0m                            Traceback (most recent call last)",
      "\u001b[0;32m/tmp/ipykernel_21740/3745459427.py\u001b[0m in \u001b[0;36m<module>\u001b[0;34m\u001b[0m\n\u001b[0;32m----> 1\u001b[0;31m \u001b[0mview_random_image\u001b[0m\u001b[0;34m(\u001b[0m\u001b[0mtrain_dir\u001b[0m\u001b[0;34m)\u001b[0m\u001b[0;34m\u001b[0m\u001b[0;34m\u001b[0m\u001b[0m\n\u001b[0m",
      "\u001b[0;32m/tmp/ipykernel_21740/224601187.py\u001b[0m in \u001b[0;36mview_random_image\u001b[0;34m(dirname)\u001b[0m\n\u001b[1;32m      1\u001b[0m \u001b[0;32mdef\u001b[0m \u001b[0mview_random_image\u001b[0m\u001b[0;34m(\u001b[0m\u001b[0mdirname\u001b[0m\u001b[0;34m)\u001b[0m\u001b[0;34m:\u001b[0m\u001b[0;34m\u001b[0m\u001b[0;34m\u001b[0m\u001b[0m\n\u001b[0;32m----> 2\u001b[0;31m     \u001b[0mclass_names\u001b[0m \u001b[0;34m=\u001b[0m \u001b[0mtrain\u001b[0m\u001b[0;34m.\u001b[0m\u001b[0mclass_names\u001b[0m\u001b[0;34m\u001b[0m\u001b[0;34m\u001b[0m\u001b[0m\n\u001b[0m\u001b[1;32m      3\u001b[0m     \u001b[0mrandom_class\u001b[0m \u001b[0;34m=\u001b[0m \u001b[0mrandom\u001b[0m\u001b[0;34m.\u001b[0m\u001b[0mchoice\u001b[0m\u001b[0;34m(\u001b[0m\u001b[0mclass_names\u001b[0m\u001b[0;34m)\u001b[0m\u001b[0;34m\u001b[0m\u001b[0;34m\u001b[0m\u001b[0m\n\u001b[1;32m      4\u001b[0m     \u001b[0mdirname\u001b[0m \u001b[0;34m=\u001b[0m \u001b[0mtrain_dir\u001b[0m\u001b[0;34m\u001b[0m\u001b[0;34m\u001b[0m\u001b[0m\n\u001b[1;32m      5\u001b[0m     \u001b[0mrandom_image_folder\u001b[0m \u001b[0;34m=\u001b[0m \u001b[0mos\u001b[0m\u001b[0;34m.\u001b[0m\u001b[0mpath\u001b[0m\u001b[0;34m.\u001b[0m\u001b[0mjoin\u001b[0m\u001b[0;34m(\u001b[0m\u001b[0mdirname\u001b[0m\u001b[0;34m,\u001b[0m\u001b[0mrandom_class\u001b[0m\u001b[0;34m)\u001b[0m\u001b[0;34m\u001b[0m\u001b[0;34m\u001b[0m\u001b[0m\n",
      "\u001b[0;31mAttributeError\u001b[0m: 'DirectoryIterator' object has no attribute 'class_names'"
     ]
    }
   ],
   "source": [
    "view_random_image(train_dir)"
   ]
  },
  {
   "cell_type": "code",
   "execution_count": 8,
   "metadata": {},
   "outputs": [],
   "source": [
    "# normalization_layer = tf.keras.layers.Rescaling(1./255)\n",
    "# train = train.map(lambda x, y: (normalization_layer(x), y)) # Where x—images, y—labels.\n",
    "# test = test.map(lambda x, y: (normalization_layer(x), y)) # Where x—images, y—labels.\n",
    "\n",
    "# labels = ['buildings', 'forest', 'glacier', 'mountain', 'sea', 'street']"
   ]
  },
  {
   "cell_type": "markdown",
   "metadata": {},
   "source": [
    "# MobileNet_v2"
   ]
  },
  {
   "cell_type": "markdown",
   "metadata": {},
   "source": [
    "Get the mobilenet_v2 pretrained model and then add my dataset in the last layer and then train and save the model."
   ]
  },
  {
   "cell_type": "code",
   "execution_count": 115,
   "metadata": {},
   "outputs": [],
   "source": [
    "feature_extractor_model = \"https://tfhub.dev/google/tf2-preview/mobilenet_v2/feature_vector/4\"\n",
    "\n",
    "pretrained_model_without_top_layer = hub.KerasLayer(\n",
    "    feature_extractor_model, input_shape=(224, 224, 3), trainable=False)"
   ]
  },
  {
   "cell_type": "markdown",
   "metadata": {},
   "source": [
    "# Adam Optimizer (MobileNet)"
   ]
  },
  {
   "cell_type": "code",
   "execution_count": null,
   "metadata": {},
   "outputs": [],
   "source": [
    "num_of_classes = 6\n",
    "\n",
    "model = tf.keras.Sequential([\n",
    "  pretrained_model_without_top_layer,\n",
    "  tf.keras.layers.Dense(num_of_classes, activation='softmax')\n",
    "])\n",
    "\n",
    "model.summary()"
   ]
  },
  {
   "cell_type": "code",
   "execution_count": 12,
   "metadata": {},
   "outputs": [
    {
     "name": "stderr",
     "output_type": "stream",
     "text": [
      "2022-06-04 16:04:51.236012: I tensorflow/stream_executor/cuda/cuda_gpu_executor.cc:983] successful NUMA node read from SysFS had negative value (-1), but there must be at least one NUMA node, so returning NUMA node zero\n",
      "2022-06-04 16:04:51.237257: I tensorflow/core/common_runtime/gpu/gpu_device.cc:1618] Found device 0 with properties: \n",
      "name: TITAN Xp major: 6 minor: 1 memoryClockRate(GHz): 1.582\n",
      "pciBusID: 0000:01:00.0\n",
      "2022-06-04 16:04:51.237329: I tensorflow/stream_executor/platform/default/dso_loader.cc:44] Successfully opened dynamic library libcudart.so.10.0\n",
      "2022-06-04 16:04:51.237366: I tensorflow/stream_executor/platform/default/dso_loader.cc:44] Successfully opened dynamic library libcublas.so.10.0\n",
      "2022-06-04 16:04:51.237400: I tensorflow/stream_executor/platform/default/dso_loader.cc:44] Successfully opened dynamic library libcufft.so.10.0\n",
      "2022-06-04 16:04:51.237433: I tensorflow/stream_executor/platform/default/dso_loader.cc:44] Successfully opened dynamic library libcurand.so.10.0\n",
      "2022-06-04 16:04:51.237465: I tensorflow/stream_executor/platform/default/dso_loader.cc:44] Successfully opened dynamic library libcusolver.so.10.0\n",
      "2022-06-04 16:04:51.237498: I tensorflow/stream_executor/platform/default/dso_loader.cc:44] Successfully opened dynamic library libcusparse.so.10.0\n",
      "2022-06-04 16:04:51.237532: I tensorflow/stream_executor/platform/default/dso_loader.cc:44] Successfully opened dynamic library libcudnn.so.7\n",
      "2022-06-04 16:04:51.237629: I tensorflow/stream_executor/cuda/cuda_gpu_executor.cc:983] successful NUMA node read from SysFS had negative value (-1), but there must be at least one NUMA node, so returning NUMA node zero\n",
      "2022-06-04 16:04:51.238784: I tensorflow/stream_executor/cuda/cuda_gpu_executor.cc:983] successful NUMA node read from SysFS had negative value (-1), but there must be at least one NUMA node, so returning NUMA node zero\n",
      "2022-06-04 16:04:51.239948: I tensorflow/core/common_runtime/gpu/gpu_device.cc:1746] Adding visible gpu devices: 0\n",
      "2022-06-04 16:04:51.239990: I tensorflow/core/common_runtime/gpu/gpu_device.cc:1159] Device interconnect StreamExecutor with strength 1 edge matrix:\n",
      "2022-06-04 16:04:51.240004: I tensorflow/core/common_runtime/gpu/gpu_device.cc:1165]      0 \n",
      "2022-06-04 16:04:51.240015: I tensorflow/core/common_runtime/gpu/gpu_device.cc:1178] 0:   N \n",
      "2022-06-04 16:04:51.240147: I tensorflow/stream_executor/cuda/cuda_gpu_executor.cc:983] successful NUMA node read from SysFS had negative value (-1), but there must be at least one NUMA node, so returning NUMA node zero\n",
      "2022-06-04 16:04:51.241377: I tensorflow/stream_executor/cuda/cuda_gpu_executor.cc:983] successful NUMA node read from SysFS had negative value (-1), but there must be at least one NUMA node, so returning NUMA node zero\n",
      "2022-06-04 16:04:51.242584: I tensorflow/core/common_runtime/gpu/gpu_device.cc:1304] Created TensorFlow device (/job:localhost/replica:0/task:0/device:GPU:0 with 11437 MB memory) -> physical GPU (device: 0, name: TITAN Xp, pci bus id: 0000:01:00.0, compute capability: 6.1)\n"
     ]
    },
    {
     "name": "stdout",
     "output_type": "stream",
     "text": [
      "Epoch 1/10\n"
     ]
    },
    {
     "name": "stderr",
     "output_type": "stream",
     "text": [
      "2022-06-04 16:05:00.327176: I tensorflow/stream_executor/platform/default/dso_loader.cc:44] Successfully opened dynamic library libcublas.so.10.0\n",
      "2022-06-04 16:05:01.315936: I tensorflow/stream_executor/platform/default/dso_loader.cc:44] Successfully opened dynamic library libcudnn.so.7\n"
     ]
    },
    {
     "name": "stdout",
     "output_type": "stream",
     "text": [
      "438/439 [============================>.] - ETA: 0s - loss: 1.1914 - acc: 0.8797Epoch 1/10\n",
      "439/439 [==============================] - 55s 125ms/step - loss: 1.1913 - acc: 0.8797 - val_loss: 1.1551 - val_acc: 0.8941\n",
      "Epoch 2/10\n",
      "438/439 [============================>.] - ETA: 0s - loss: 1.1363 - acc: 0.9173Epoch 1/10\n",
      "439/439 [==============================] - 27s 60ms/step - loss: 1.1362 - acc: 0.9173 - val_loss: 1.1397 - val_acc: 0.9045\n",
      "Epoch 3/10\n",
      "438/439 [============================>.] - ETA: 0s - loss: 1.1270 - acc: 0.9242Epoch 1/10\n",
      "439/439 [==============================] - 27s 60ms/step - loss: 1.1269 - acc: 0.9243 - val_loss: 1.1302 - val_acc: 0.9236\n",
      "Epoch 4/10\n",
      "438/439 [============================>.] - ETA: 0s - loss: 1.1210 - acc: 0.9297Epoch 1/10\n",
      "439/439 [==============================] - 25s 58ms/step - loss: 1.1209 - acc: 0.9298 - val_loss: 1.1304 - val_acc: 0.9201\n",
      "Epoch 5/10\n",
      "438/439 [============================>.] - ETA: 0s - loss: 1.1163 - acc: 0.9332Epoch 1/10\n",
      "439/439 [==============================] - 26s 59ms/step - loss: 1.1163 - acc: 0.9332 - val_loss: 1.1322 - val_acc: 0.9132\n",
      "Epoch 6/10\n",
      "438/439 [============================>.] - ETA: 0s - loss: 1.1125 - acc: 0.9381Epoch 1/10\n",
      "439/439 [==============================] - 27s 62ms/step - loss: 1.1126 - acc: 0.9379 - val_loss: 1.1275 - val_acc: 0.9167\n",
      "Epoch 7/10\n",
      "438/439 [============================>.] - ETA: 0s - loss: 1.1087 - acc: 0.9418Epoch 1/10\n",
      "439/439 [==============================] - 26s 59ms/step - loss: 1.1090 - acc: 0.9415 - val_loss: 1.1285 - val_acc: 0.9132\n",
      "Epoch 8/10\n",
      "438/439 [============================>.] - ETA: 0s - loss: 1.1065 - acc: 0.9434Epoch 1/10\n",
      "439/439 [==============================] - 26s 59ms/step - loss: 1.1065 - acc: 0.9434 - val_loss: 1.1284 - val_acc: 0.9201\n",
      "Epoch 9/10\n",
      "438/439 [============================>.] - ETA: 0s - loss: 1.1045 - acc: 0.9449Epoch 1/10\n",
      "439/439 [==============================] - 27s 61ms/step - loss: 1.1044 - acc: 0.9450 - val_loss: 1.1231 - val_acc: 0.9288\n",
      "Epoch 10/10\n",
      "438/439 [============================>.] - ETA: 0s - loss: 1.1021 - acc: 0.9480Epoch 1/10\n",
      "439/439 [==============================] - 26s 59ms/step - loss: 1.1020 - acc: 0.9481 - val_loss: 1.1228 - val_acc: 0.9288\n"
     ]
    }
   ],
   "source": [
    "model.compile(\n",
    "  optimizer=\"adam\",\n",
    "  loss=tf.keras.losses.CategoricalCrossentropy(from_logits=True),\n",
    "  metrics=['acc'])\n",
    "\n",
    "history = model.fit(train, epochs=10, verbose=1, steps_per_epoch=len(train), \n",
    "         validation_data=test, validation_steps= int(0.2*len(test)))"
   ]
  },
  {
   "cell_type": "code",
   "execution_count": 13,
   "metadata": {},
   "outputs": [
    {
     "name": "stdout",
     "output_type": "stream",
     "text": [
      "94/94 [==============================] - 10s 103ms/step - loss: 1.1257 - acc: 0.9217\n"
     ]
    },
    {
     "data": {
      "text/plain": [
       "[1.1257393677183922, 0.9216667]"
      ]
     },
     "execution_count": 13,
     "metadata": {},
     "output_type": "execute_result"
    }
   ],
   "source": [
    "model.evaluate(test)"
   ]
  },
  {
   "cell_type": "code",
   "execution_count": 15,
   "metadata": {},
   "outputs": [
    {
     "data": {
      "image/png": "[encoded data removed]",
      "text/plain": [
       "<Figure size 432x288 with 1 Axes>"
      ]
     },
     "metadata": {
      "needs_background": "light"
     },
     "output_type": "display_data"
    },
    {
     "data": {
      "image/png": "[encoded data removed]",
      "text/plain": [
       "<Figure size 432x288 with 1 Axes>"
      ]
     },
     "metadata": {
      "needs_background": "light"
     },
     "output_type": "display_data"
    }
   ],
   "source": [
    "import matplotlib.pyplot as plt\n",
    "\n",
    "# summarize history for accuracy\n",
    "plt.plot(history.history['acc'])\n",
    "plt.plot(history.history['val_acc'])\n",
    "plt.title('model accuracy')\n",
    "plt.ylabel('accuracy')\n",
    "plt.xlabel('epoch')\n",
    "plt.legend(['Train', 'Validation'], loc='upper left')\n",
    "plt.show()\n",
    "# summarize history for loss\n",
    "plt.plot(history.history['loss'])\n",
    "plt.plot(history.history['val_loss'])\n",
    "plt.title('model loss')\n",
    "plt.ylabel('loss')\n",
    "plt.xlabel('epoch')\n",
    "plt.legend(['Train', 'Validation'], loc='upper left')\n",
    "plt.show()"
   ]
  },
  {
   "cell_type": "code",
   "execution_count": 16,
   "metadata": {},
   "outputs": [
    {
     "data": {
      "text/plain": [
       "'savedModels/Intel_MN_Adam'"
      ]
     },
     "execution_count": 16,
     "metadata": {},
     "output_type": "execute_result"
    }
   ],
   "source": [
    "import time\n",
    "import datetime\n",
    "\n",
    "t = time.time()\n",
    "\n",
    "export_path = \"savedModels/Intel_MN_Adam\"\n",
    "model.save(export_path)\n",
    "\n",
    "export_path"
   ]
  },
  {
   "cell_type": "code",
   "execution_count": 17,
   "metadata": {},
   "outputs": [
    {
     "name": "stdout",
     "output_type": "stream",
     "text": [
      "WARNING:tensorflow:From /home/ge67per/.local/lib/python3.7/site-packages/tensorflow_core/python/ops/init_ops.py:97: calling GlorotUniform.__init__ (from tensorflow.python.ops.init_ops) with dtype is deprecated and will be removed in a future version.\n",
      "Instructions for updating:\n",
      "Call initializer instance with the dtype argument instead of passing it to the constructor\n"
     ]
    },
    {
     "name": "stderr",
     "output_type": "stream",
     "text": [
      "WARNING:tensorflow:From /home/ge67per/.local/lib/python3.7/site-packages/tensorflow_core/python/ops/init_ops.py:97: calling GlorotUniform.__init__ (from tensorflow.python.ops.init_ops) with dtype is deprecated and will be removed in a future version.\n",
      "Instructions for updating:\n",
      "Call initializer instance with the dtype argument instead of passing it to the constructor\n"
     ]
    },
    {
     "name": "stdout",
     "output_type": "stream",
     "text": [
      "WARNING:tensorflow:From /home/ge67per/.local/lib/python3.7/site-packages/tensorflow_core/python/ops/init_ops.py:97: calling Zeros.__init__ (from tensorflow.python.ops.init_ops) with dtype is deprecated and will be removed in a future version.\n",
      "Instructions for updating:\n",
      "Call initializer instance with the dtype argument instead of passing it to the constructor\n"
     ]
    },
    {
     "name": "stderr",
     "output_type": "stream",
     "text": [
      "WARNING:tensorflow:From /home/ge67per/.local/lib/python3.7/site-packages/tensorflow_core/python/ops/init_ops.py:97: calling Zeros.__init__ (from tensorflow.python.ops.init_ops) with dtype is deprecated and will be removed in a future version.\n",
      "Instructions for updating:\n",
      "Call initializer instance with the dtype argument instead of passing it to the constructor\n"
     ]
    },
    {
     "name": "stdout",
     "output_type": "stream",
     "text": [
      "94/94 [==============================] - 7s 75ms/step - loss: 1.1261 - acc: 0.9217\n"
     ]
    },
    {
     "data": {
      "text/plain": [
       "[1.126060814299482, 0.9216667]"
      ]
     },
     "execution_count": 17,
     "metadata": {},
     "output_type": "execute_result"
    }
   ],
   "source": [
    "# Get the saved model to perform further actions maybe.\n",
    "export_path = \"savedModels/Intel_MN_Adam\"\n",
    "reloaded = tf.keras.models.load_model(export_path,custom_objects={'KerasLayer':hub.KerasLayer})\n",
    "\n",
    "reloaded.evaluate(test)"
   ]
  },
  {
   "cell_type": "markdown",
   "metadata": {},
   "source": [
    "# SGD Optimizer (MobileNet)"
   ]
  },
  {
   "cell_type": "code",
   "execution_count": null,
   "metadata": {},
   "outputs": [],
   "source": [
    "num_of_classes = 6\n",
    "\n",
    "model = tf.keras.Sequential([\n",
    "  pretrained_model_without_top_layer,\n",
    "  tf.keras.layers.Dense(num_of_classes, activation='softmax')\n",
    "])\n",
    "\n",
    "model.summary()"
   ]
  },
  {
   "cell_type": "code",
   "execution_count": 21,
   "metadata": {},
   "outputs": [
    {
     "name": "stdout",
     "output_type": "stream",
     "text": [
      "Epoch 1/10\n",
      "438/439 [============================>.] - ETA: 0s - loss: 1.3634 - acc: 0.7529Epoch 1/10\n",
      "439/439 [==============================] - 34s 77ms/step - loss: 1.3632 - acc: 0.7531 - val_loss: 1.2290 - val_acc: 0.8924\n",
      "Epoch 2/10\n",
      "438/439 [============================>.] - ETA: 0s - loss: 1.2000 - acc: 0.8923Epoch 1/10\n",
      "439/439 [==============================] - 28s 64ms/step - loss: 1.2000 - acc: 0.8923 - val_loss: 1.1876 - val_acc: 0.9062\n",
      "Epoch 3/10\n",
      "438/439 [============================>.] - ETA: 0s - loss: 1.1761 - acc: 0.9006Epoch 1/10\n",
      "439/439 [==============================] - 26s 60ms/step - loss: 1.1760 - acc: 0.9006 - val_loss: 1.1718 - val_acc: 0.9080\n",
      "Epoch 4/10\n",
      "438/439 [============================>.] - ETA: 0s - loss: 1.1650 - acc: 0.9057Epoch 1/10\n",
      "439/439 [==============================] - 26s 60ms/step - loss: 1.1651 - acc: 0.9056 - val_loss: 1.1634 - val_acc: 0.9115\n",
      "Epoch 5/10\n",
      "438/439 [============================>.] - ETA: 0s - loss: 1.1584 - acc: 0.9074Epoch 1/10\n",
      "439/439 [==============================] - 26s 60ms/step - loss: 1.1584 - acc: 0.9074 - val_loss: 1.1594 - val_acc: 0.9167\n",
      "Epoch 6/10\n",
      "438/439 [============================>.] - ETA: 0s - loss: 1.1539 - acc: 0.9094Epoch 1/10\n",
      "439/439 [==============================] - 27s 62ms/step - loss: 1.1539 - acc: 0.9094 - val_loss: 1.1544 - val_acc: 0.9132\n",
      "Epoch 7/10\n",
      "438/439 [============================>.] - ETA: 0s - loss: 1.1502 - acc: 0.9119Epoch 1/10\n",
      "439/439 [==============================] - 27s 61ms/step - loss: 1.1502 - acc: 0.9119 - val_loss: 1.1519 - val_acc: 0.9167\n",
      "Epoch 8/10\n",
      "438/439 [============================>.] - ETA: 0s - loss: 1.1471 - acc: 0.9132Epoch 1/10\n",
      "439/439 [==============================] - 27s 62ms/step - loss: 1.1473 - acc: 0.9131 - val_loss: 1.1486 - val_acc: 0.9167\n",
      "Epoch 9/10\n",
      "438/439 [============================>.] - ETA: 0s - loss: 1.1448 - acc: 0.9150Epoch 1/10\n",
      "439/439 [==============================] - 26s 60ms/step - loss: 1.1450 - acc: 0.9148 - val_loss: 1.1478 - val_acc: 0.9201\n",
      "Epoch 10/10\n",
      "438/439 [============================>.] - ETA: 0s - loss: 1.1431 - acc: 0.9154Epoch 1/10\n",
      "439/439 [==============================] - 26s 60ms/step - loss: 1.1431 - acc: 0.9155 - val_loss: 1.1461 - val_acc: 0.9184\n"
     ]
    }
   ],
   "source": [
    "model.compile(\n",
    "  optimizer=\"SGD\",\n",
    "  loss=tf.keras.losses.CategoricalCrossentropy(from_logits=True),\n",
    "  metrics=['acc'])\n",
    "\n",
    "history = model.fit(train, epochs=10, verbose=1, steps_per_epoch=len(train), \n",
    "         validation_data=test, validation_steps= int(0.2*len(test)))"
   ]
  },
  {
   "cell_type": "code",
   "execution_count": 22,
   "metadata": {},
   "outputs": [
    {
     "name": "stdout",
     "output_type": "stream",
     "text": [
      "94/94 [==============================] - 6s 66ms/step - loss: 1.1479 - acc: 0.9100\n"
     ]
    },
    {
     "data": {
      "text/plain": [
       "[1.1479454091254702, 0.91]"
      ]
     },
     "execution_count": 22,
     "metadata": {},
     "output_type": "execute_result"
    }
   ],
   "source": [
    "model.evaluate(test)"
   ]
  },
  {
   "cell_type": "code",
   "execution_count": 23,
   "metadata": {},
   "outputs": [
    {
     "data": {
      "image/png": "[encoded data removed]",
      "text/plain": [
       "<Figure size 432x288 with 1 Axes>"
      ]
     },
     "metadata": {
      "needs_background": "light"
     },
     "output_type": "display_data"
    },
    {
     "data": {
      "image/png": "[encoded data removed]",
      "text/plain": [
       "<Figure size 432x288 with 1 Axes>"
      ]
     },
     "metadata": {
      "needs_background": "light"
     },
     "output_type": "display_data"
    }
   ],
   "source": [
    "import matplotlib.pyplot as plt\n",
    "\n",
    "# summarize history for accuracy\n",
    "plt.plot(history.history['acc'])\n",
    "plt.plot(history.history['val_acc'])\n",
    "plt.title('model accuracy')\n",
    "plt.ylabel('accuracy')\n",
    "plt.xlabel('epoch')\n",
    "plt.legend(['Train', 'Validation'], loc='upper left')\n",
    "plt.show()\n",
    "# summarize history for loss\n",
    "plt.plot(history.history['loss'])\n",
    "plt.plot(history.history['val_loss'])\n",
    "plt.title('model loss')\n",
    "plt.ylabel('loss')\n",
    "plt.xlabel('epoch')\n",
    "plt.legend(['Train', 'Validation'], loc='upper left')\n",
    "plt.show()"
   ]
  },
  {
   "cell_type": "code",
   "execution_count": 24,
   "metadata": {},
   "outputs": [
    {
     "data": {
      "text/plain": [
       "'savedModels/Intel_MN_Sgd'"
      ]
     },
     "execution_count": 24,
     "metadata": {},
     "output_type": "execute_result"
    }
   ],
   "source": [
    "import time\n",
    "import datetime\n",
    "\n",
    "t = time.time()\n",
    "\n",
    "export_path = \"savedModels/Intel_MN_Sgd\"\n",
    "model.save(export_path)\n",
    "\n",
    "export_path"
   ]
  },
  {
   "cell_type": "code",
   "execution_count": 25,
   "metadata": {},
   "outputs": [
    {
     "name": "stdout",
     "output_type": "stream",
     "text": [
      "94/94 [==============================] - 8s 84ms/step - loss: 1.1477 - acc: 0.9100\n"
     ]
    },
    {
     "data": {
      "text/plain": [
       "[1.1477400888787939, 0.91]"
      ]
     },
     "execution_count": 25,
     "metadata": {},
     "output_type": "execute_result"
    }
   ],
   "source": [
    "# Get the saved model to perform further actions maybe.\n",
    "export_path = \"savedModels/Intel_MN_Sgd\"\n",
    "reloaded = tf.keras.models.load_model(export_path,custom_objects={'KerasLayer':hub.KerasLayer})\n",
    "\n",
    "reloaded.evaluate(test)"
   ]
  },
  {
   "cell_type": "markdown",
   "metadata": {},
   "source": [
    "# Newton Optimizer (MobileNet)"
   ]
  },
  {
   "cell_type": "code",
   "execution_count": 116,
   "metadata": {},
   "outputs": [],
   "source": [
    "import newton_cg as es"
   ]
  },
  {
   "cell_type": "code",
   "execution_count": 117,
   "metadata": {},
   "outputs": [
    {
     "name": "stdout",
     "output_type": "stream",
     "text": [
      "Model: \"sequential_20\"\n",
      "_________________________________________________________________\n",
      "Layer (type)                 Output Shape              Param #   \n",
      "=================================================================\n",
      "keras_layer_6 (KerasLayer)   (None, 1280)              2257984   \n",
      "_________________________________________________________________\n",
      "dense_20 (Dense)             (None, 6)                 7686      \n",
      "=================================================================\n",
      "Total params: 2,265,670\n",
      "Trainable params: 7,686\n",
      "Non-trainable params: 2,257,984\n",
      "_________________________________________________________________\n"
     ]
    }
   ],
   "source": [
    "num_of_classes = 6\n",
    "\n",
    "model = tf.keras.Sequential([\n",
    "  pretrained_model_without_top_layer,\n",
    "  tf.keras.layers.Dense(num_of_classes, activation='softmax')\n",
    "])\n",
    "\n",
    "model.summary()"
   ]
  },
  {
   "cell_type": "code",
   "execution_count": 118,
   "metadata": {},
   "outputs": [
    {
     "name": "stdout",
     "output_type": "stream",
     "text": [
      "Epoch 1/10\n",
      "eso._resource_compute_dense() called.\n",
      "eso._resource_compute_dense() FINISHED.\n",
      "eso._resource_compute_dense() called.\n",
      "eso._resource_compute_dense() FINISHED.\n",
      "438/439 [============================>.] - ETA: 0s - loss: 1.6810 - acc: 0.3827Epoch 1/10\n",
      "439/439 [==============================] - 42s 95ms/step - loss: 1.6809 - acc: 0.3829 - val_loss: 1.6201 - val_acc: 0.4670\n",
      "Epoch 2/10\n",
      "438/439 [============================>.] - ETA: 0s - loss: 1.5891 - acc: 0.4933Epoch 1/10\n",
      "439/439 [==============================] - 27s 62ms/step - loss: 1.5892 - acc: 0.4931 - val_loss: 1.5760 - val_acc: 0.4948\n",
      "Epoch 3/10\n",
      "438/439 [============================>.] - ETA: 0s - loss: 1.5655 - acc: 0.5044Epoch 1/10\n",
      "439/439 [==============================] - 29s 65ms/step - loss: 1.5655 - acc: 0.5046 - val_loss: 1.5644 - val_acc: 0.5382\n",
      "Epoch 4/10\n",
      "438/439 [============================>.] - ETA: 0s - loss: 1.5187 - acc: 0.5856Epoch 1/10\n",
      "439/439 [==============================] - 27s 61ms/step - loss: 1.5185 - acc: 0.5859 - val_loss: 1.5119 - val_acc: 0.5851\n",
      "Epoch 5/10\n",
      "438/439 [============================>.] - ETA: 0s - loss: 1.4818 - acc: 0.6128Epoch 1/10\n",
      "439/439 [==============================] - 27s 61ms/step - loss: 1.4817 - acc: 0.6127 - val_loss: 1.4841 - val_acc: 0.6024\n",
      "Epoch 6/10\n",
      "438/439 [============================>.] - ETA: 0s - loss: 1.4600 - acc: 0.6231Epoch 1/10\n",
      "439/439 [==============================] - 27s 60ms/step - loss: 1.4598 - acc: 0.6234 - val_loss: 1.4708 - val_acc: 0.6076\n",
      "Epoch 7/10\n",
      "438/439 [============================>.] - ETA: 0s - loss: 1.4507 - acc: 0.6248Epoch 1/10\n",
      "439/439 [==============================] - 27s 61ms/step - loss: 1.4507 - acc: 0.6248 - val_loss: 1.4631 - val_acc: 0.6024\n",
      "Epoch 8/10\n",
      "438/439 [============================>.] - ETA: 0s - loss: 1.4414 - acc: 0.6271Epoch 1/10\n",
      "439/439 [==============================] - 27s 61ms/step - loss: 1.4414 - acc: 0.6271 - val_loss: 1.4519 - val_acc: 0.6111\n",
      "Epoch 9/10\n",
      "438/439 [============================>.] - ETA: 0s - loss: 1.4333 - acc: 0.6307Epoch 1/10\n",
      "439/439 [==============================] - 27s 61ms/step - loss: 1.4335 - acc: 0.6306 - val_loss: 1.4474 - val_acc: 0.6111\n",
      "Epoch 10/10\n",
      "438/439 [============================>.] - ETA: 0s - loss: 1.4290 - acc: 0.6303Epoch 1/10\n",
      "439/439 [==============================] - 27s 61ms/step - loss: 1.4290 - acc: 0.6302 - val_loss: 1.4473 - val_acc: 0.6042\n"
     ]
    }
   ],
   "source": [
    "newton_opt = es.EHNewtonOptimizer(0.001)\n",
    "\n",
    "model.compile(\n",
    "  optimizer=newton_opt,\n",
    "  loss=tf.keras.losses.CategoricalCrossentropy(from_logits=True),\n",
    "  metrics=['acc'])\n",
    "\n",
    "history = model.fit(train, epochs=10, verbose=1, steps_per_epoch=len(train), \n",
    "         validation_data=test, validation_steps= int(0.2*len(test)))"
   ]
  },
  {
   "cell_type": "code",
   "execution_count": 119,
   "metadata": {},
   "outputs": [
    {
     "name": "stdout",
     "output_type": "stream",
     "text": [
      "94/94 [==============================] - 6s 62ms/step - loss: 1.4494 - acc: 0.6087\n"
     ]
    },
    {
     "data": {
      "text/plain": [
       "[1.4493756535205435, 0.60866666]"
      ]
     },
     "execution_count": 119,
     "metadata": {},
     "output_type": "execute_result"
    }
   ],
   "source": [
    "model.evaluate(test)"
   ]
  },
  {
   "cell_type": "code",
   "execution_count": 120,
   "metadata": {},
   "outputs": [
    {
     "data": {
      "image/png": "[encoded data removed]",
      "text/plain": [
       "<Figure size 432x288 with 1 Axes>"
      ]
     },
     "metadata": {
      "needs_background": "light"
     },
     "output_type": "display_data"
    },
    {
     "data": {
      "image/png": "[encoded data removed]",
      "text/plain": [
       "<Figure size 432x288 with 1 Axes>"
      ]
     },
     "metadata": {
      "needs_background": "light"
     },
     "output_type": "display_data"
    }
   ],
   "source": [
    "import matplotlib.pyplot as plt\n",
    "\n",
    "# summarize history for accuracy\n",
    "plt.plot(history.history['acc'])\n",
    "plt.plot(history.history['val_acc'])\n",
    "plt.title('model accuracy')\n",
    "plt.ylabel('accuracy')\n",
    "plt.xlabel('epoch')\n",
    "plt.legend(['Train', 'Validation'], loc='upper left')\n",
    "plt.show()\n",
    "# summarize history for loss\n",
    "plt.plot(history.history['loss'])\n",
    "plt.plot(history.history['val_loss'])\n",
    "plt.title('model loss')\n",
    "plt.ylabel('loss')\n",
    "plt.xlabel('epoch')\n",
    "plt.legend(['Train', 'Validation'], loc='upper left')\n",
    "plt.show()"
   ]
  },
  {
   "cell_type": "code",
   "execution_count": 121,
   "metadata": {},
   "outputs": [
    {
     "data": {
      "text/plain": [
       "'savedModels/Intel_MN_newton'"
      ]
     },
     "execution_count": 121,
     "metadata": {},
     "output_type": "execute_result"
    }
   ],
   "source": [
    "import time\n",
    "import datetime\n",
    "\n",
    "t = time.time()\n",
    "\n",
    "export_path = \"savedModels/Intel_MN_newton\"\n",
    "model.save(export_path)\n",
    "\n",
    "export_path"
   ]
  },
  {
   "cell_type": "code",
   "execution_count": 73,
   "metadata": {},
   "outputs": [
    {
     "ename": "ValueError",
     "evalue": "Unknown optimizer: EHNewtonOptimizer",
     "output_type": "error",
     "traceback": [
      "\u001b[0;31m---------------------------------------------------------------------------\u001b[0m",
      "\u001b[0;31mValueError\u001b[0m                                Traceback (most recent call last)",
      "\u001b[0;32m/tmp/ipykernel_7971/3518306906.py\u001b[0m in \u001b[0;36m<module>\u001b[0;34m\u001b[0m\n\u001b[1;32m      1\u001b[0m \u001b[0;31m# Get the saved model to perform further actions maybe.\u001b[0m\u001b[0;34m\u001b[0m\u001b[0;34m\u001b[0m\u001b[0;34m\u001b[0m\u001b[0m\n\u001b[1;32m      2\u001b[0m \u001b[0mexport_path\u001b[0m \u001b[0;34m=\u001b[0m \u001b[0;34m\"savedModels/Intel_MN_newton\"\u001b[0m\u001b[0;34m\u001b[0m\u001b[0;34m\u001b[0m\u001b[0m\n\u001b[0;32m----> 3\u001b[0;31m \u001b[0mreloaded\u001b[0m \u001b[0;34m=\u001b[0m \u001b[0mtf\u001b[0m\u001b[0;34m.\u001b[0m\u001b[0mkeras\u001b[0m\u001b[0;34m.\u001b[0m\u001b[0mmodels\u001b[0m\u001b[0;34m.\u001b[0m\u001b[0mload_model\u001b[0m\u001b[0;34m(\u001b[0m\u001b[0mexport_path\u001b[0m\u001b[0;34m,\u001b[0m\u001b[0mcustom_objects\u001b[0m\u001b[0;34m=\u001b[0m\u001b[0;34m{\u001b[0m\u001b[0;34m'KerasLayer'\u001b[0m\u001b[0;34m:\u001b[0m\u001b[0mhub\u001b[0m\u001b[0;34m.\u001b[0m\u001b[0mKerasLayer\u001b[0m\u001b[0;34m,\u001b[0m \u001b[0;34m'MyOptimizer'\u001b[0m\u001b[0;34m:\u001b[0m \u001b[0mnewton_opt\u001b[0m\u001b[0;34m}\u001b[0m\u001b[0;34m)\u001b[0m\u001b[0;34m\u001b[0m\u001b[0;34m\u001b[0m\u001b[0m\n\u001b[0m\u001b[1;32m      4\u001b[0m \u001b[0;34m\u001b[0m\u001b[0m\n\u001b[1;32m      5\u001b[0m \u001b[0mreloaded\u001b[0m\u001b[0;34m.\u001b[0m\u001b[0mevaluate\u001b[0m\u001b[0;34m(\u001b[0m\u001b[0mtest\u001b[0m\u001b[0;34m)\u001b[0m\u001b[0;34m\u001b[0m\u001b[0;34m\u001b[0m\u001b[0m\n",
      "\u001b[0;32m~/.local/lib/python3.7/site-packages/tensorflow_core/python/keras/saving/save.py\u001b[0m in \u001b[0;36mload_model\u001b[0;34m(filepath, custom_objects, compile)\u001b[0m\n\u001b[1;32m    141\u001b[0m   if (h5py is not None and (\n\u001b[1;32m    142\u001b[0m       isinstance(filepath, h5py.File) or h5py.is_hdf5(filepath))):\n\u001b[0;32m--> 143\u001b[0;31m     \u001b[0;32mreturn\u001b[0m \u001b[0mhdf5_format\u001b[0m\u001b[0;34m.\u001b[0m\u001b[0mload_model_from_hdf5\u001b[0m\u001b[0;34m(\u001b[0m\u001b[0mfilepath\u001b[0m\u001b[0;34m,\u001b[0m \u001b[0mcustom_objects\u001b[0m\u001b[0;34m,\u001b[0m \u001b[0mcompile\u001b[0m\u001b[0;34m)\u001b[0m\u001b[0;34m\u001b[0m\u001b[0;34m\u001b[0m\u001b[0m\n\u001b[0m\u001b[1;32m    144\u001b[0m \u001b[0;34m\u001b[0m\u001b[0m\n\u001b[1;32m    145\u001b[0m   \u001b[0;32mif\u001b[0m \u001b[0misinstance\u001b[0m\u001b[0;34m(\u001b[0m\u001b[0mfilepath\u001b[0m\u001b[0;34m,\u001b[0m \u001b[0msix\u001b[0m\u001b[0;34m.\u001b[0m\u001b[0mstring_types\u001b[0m\u001b[0;34m)\u001b[0m\u001b[0;34m:\u001b[0m\u001b[0;34m\u001b[0m\u001b[0;34m\u001b[0m\u001b[0m\n",
      "\u001b[0;32m~/.local/lib/python3.7/site-packages/tensorflow_core/python/keras/saving/hdf5_format.py\u001b[0m in \u001b[0;36mload_model_from_hdf5\u001b[0;34m(filepath, custom_objects, compile)\u001b[0m\n\u001b[1;32m    176\u001b[0m       \u001b[0;31m# Compile model.\u001b[0m\u001b[0;34m\u001b[0m\u001b[0;34m\u001b[0m\u001b[0;34m\u001b[0m\u001b[0m\n\u001b[1;32m    177\u001b[0m       model.compile(**saving_utils.compile_args_from_training_config(\n\u001b[0;32m--> 178\u001b[0;31m           training_config, custom_objects))\n\u001b[0m\u001b[1;32m    179\u001b[0m \u001b[0;34m\u001b[0m\u001b[0m\n\u001b[1;32m    180\u001b[0m       \u001b[0;31m# Set optimizer weights.\u001b[0m\u001b[0;34m\u001b[0m\u001b[0;34m\u001b[0m\u001b[0;34m\u001b[0m\u001b[0m\n",
      "\u001b[0;32m~/.local/lib/python3.7/site-packages/tensorflow_core/python/keras/saving/saving_utils.py\u001b[0m in \u001b[0;36mcompile_args_from_training_config\u001b[0;34m(training_config, custom_objects)\u001b[0m\n\u001b[1;32m    215\u001b[0m   \u001b[0moptimizer_config\u001b[0m \u001b[0;34m=\u001b[0m \u001b[0mtraining_config\u001b[0m\u001b[0;34m[\u001b[0m\u001b[0;34m'optimizer_config'\u001b[0m\u001b[0;34m]\u001b[0m\u001b[0;34m\u001b[0m\u001b[0;34m\u001b[0m\u001b[0m\n\u001b[1;32m    216\u001b[0m   optimizer = optimizers.deserialize(\n\u001b[0;32m--> 217\u001b[0;31m       optimizer_config, custom_objects=custom_objects)\n\u001b[0m\u001b[1;32m    218\u001b[0m \u001b[0;34m\u001b[0m\u001b[0m\n\u001b[1;32m    219\u001b[0m   \u001b[0;31m# Recover loss functions and metrics.\u001b[0m\u001b[0;34m\u001b[0m\u001b[0;34m\u001b[0m\u001b[0;34m\u001b[0m\u001b[0m\n",
      "\u001b[0;32m~/.local/lib/python3.7/site-packages/tensorflow_core/python/keras/optimizers.py\u001b[0m in \u001b[0;36mdeserialize\u001b[0;34m(config, custom_objects)\u001b[0m\n\u001b[1;32m    813\u001b[0m       \u001b[0mmodule_objects\u001b[0m\u001b[0;34m=\u001b[0m\u001b[0mall_classes\u001b[0m\u001b[0;34m,\u001b[0m\u001b[0;34m\u001b[0m\u001b[0;34m\u001b[0m\u001b[0m\n\u001b[1;32m    814\u001b[0m       \u001b[0mcustom_objects\u001b[0m\u001b[0;34m=\u001b[0m\u001b[0mcustom_objects\u001b[0m\u001b[0;34m,\u001b[0m\u001b[0;34m\u001b[0m\u001b[0;34m\u001b[0m\u001b[0m\n\u001b[0;32m--> 815\u001b[0;31m       printable_module_name='optimizer')\n\u001b[0m\u001b[1;32m    816\u001b[0m \u001b[0;34m\u001b[0m\u001b[0m\n\u001b[1;32m    817\u001b[0m \u001b[0;34m\u001b[0m\u001b[0m\n",
      "\u001b[0;32m~/.local/lib/python3.7/site-packages/tensorflow_core/python/keras/utils/generic_utils.py\u001b[0m in \u001b[0;36mdeserialize_keras_object\u001b[0;34m(identifier, module_objects, custom_objects, printable_module_name)\u001b[0m\n\u001b[1;32m    178\u001b[0m     \u001b[0mconfig\u001b[0m \u001b[0;34m=\u001b[0m \u001b[0midentifier\u001b[0m\u001b[0;34m\u001b[0m\u001b[0;34m\u001b[0m\u001b[0m\n\u001b[1;32m    179\u001b[0m     (cls, cls_config) = class_and_config_for_serialized_keras_object(\n\u001b[0;32m--> 180\u001b[0;31m         config, module_objects, custom_objects, printable_module_name)\n\u001b[0m\u001b[1;32m    181\u001b[0m \u001b[0;34m\u001b[0m\u001b[0m\n\u001b[1;32m    182\u001b[0m     \u001b[0;32mif\u001b[0m \u001b[0mhasattr\u001b[0m\u001b[0;34m(\u001b[0m\u001b[0mcls\u001b[0m\u001b[0;34m,\u001b[0m \u001b[0;34m'from_config'\u001b[0m\u001b[0;34m)\u001b[0m\u001b[0;34m:\u001b[0m\u001b[0;34m\u001b[0m\u001b[0;34m\u001b[0m\u001b[0m\n",
      "\u001b[0;32m~/.local/lib/python3.7/site-packages/tensorflow_core/python/keras/utils/generic_utils.py\u001b[0m in \u001b[0;36mclass_and_config_for_serialized_keras_object\u001b[0;34m(config, module_objects, custom_objects, printable_module_name)\u001b[0m\n\u001b[1;32m    163\u001b[0m     \u001b[0mcls\u001b[0m \u001b[0;34m=\u001b[0m \u001b[0mmodule_objects\u001b[0m\u001b[0;34m.\u001b[0m\u001b[0mget\u001b[0m\u001b[0;34m(\u001b[0m\u001b[0mclass_name\u001b[0m\u001b[0;34m)\u001b[0m\u001b[0;34m\u001b[0m\u001b[0;34m\u001b[0m\u001b[0m\n\u001b[1;32m    164\u001b[0m     \u001b[0;32mif\u001b[0m \u001b[0mcls\u001b[0m \u001b[0;32mis\u001b[0m \u001b[0;32mNone\u001b[0m\u001b[0;34m:\u001b[0m\u001b[0;34m\u001b[0m\u001b[0;34m\u001b[0m\u001b[0m\n\u001b[0;32m--> 165\u001b[0;31m       \u001b[0;32mraise\u001b[0m \u001b[0mValueError\u001b[0m\u001b[0;34m(\u001b[0m\u001b[0;34m'Unknown '\u001b[0m \u001b[0;34m+\u001b[0m \u001b[0mprintable_module_name\u001b[0m \u001b[0;34m+\u001b[0m \u001b[0;34m': '\u001b[0m \u001b[0;34m+\u001b[0m \u001b[0mclass_name\u001b[0m\u001b[0;34m)\u001b[0m\u001b[0;34m\u001b[0m\u001b[0;34m\u001b[0m\u001b[0m\n\u001b[0m\u001b[1;32m    166\u001b[0m   \u001b[0;32mreturn\u001b[0m \u001b[0;34m(\u001b[0m\u001b[0mcls\u001b[0m\u001b[0;34m,\u001b[0m \u001b[0mconfig\u001b[0m\u001b[0;34m[\u001b[0m\u001b[0;34m'config'\u001b[0m\u001b[0;34m]\u001b[0m\u001b[0;34m)\u001b[0m\u001b[0;34m\u001b[0m\u001b[0;34m\u001b[0m\u001b[0m\n\u001b[1;32m    167\u001b[0m \u001b[0;34m\u001b[0m\u001b[0m\n",
      "\u001b[0;31mValueError\u001b[0m: Unknown optimizer: EHNewtonOptimizer"
     ]
    }
   ],
   "source": [
    "# Get the saved model to perform further actions maybe.\n",
    "export_path = \"savedModels/Intel_MN_newton\"\n",
    "reloaded = tf.keras.models.load_model(export_path,custom_objects={'KerasLayer':hub.KerasLayer, 'MyOptimizer': newton_opt})\n",
    "\n",
    "reloaded.evaluate(test)"
   ]
  },
  {
   "cell_type": "code",
   "execution_count": null,
   "metadata": {},
   "outputs": [],
   "source": []
  },
  {
   "cell_type": "markdown",
   "metadata": {},
   "source": [
    "# Testing on an image from the internet"
   ]
  },
  {
   "cell_type": "code",
   "execution_count": 56,
   "metadata": {},
   "outputs": [],
   "source": [
    "import urllib.request\n",
    "from tensorflow.keras.preprocessing import image\n",
    "\n",
    "\n",
    "# url = \"https://image.freepik.com/free-photo/front-view-nice-street-city_23-2148798644.jpg\"\n",
    "url = \"https://media.istockphoto.com/photos/snowcapped-k2-peak-picture-id1288385045?b=1&k=20&m=1288385045&s=170667a&w=0&h=3M3ZRl1bxOGxcvmYZ-TOtuJ3idm0psm4c7GFba1TA5g=\"\n",
    "urllib.request.urlretrieve(url, 'image.jpg')\n",
    "\n",
    "# Load image and resize (doesn't keep aspect ratio)\n",
    "img1 = image.load_img('image.jpg', target_size=(224, 224))\n",
    "# Turn to array of shape (224, 224, 3)\n",
    "img = image.img_to_array(img1)\n",
    "# Expand array into (1, 224, 224, 3)\n",
    "img = np.expand_dims(img, 0)\n",
    "\n",
    "img = img /255"
   ]
  },
  {
   "cell_type": "code",
   "execution_count": 61,
   "metadata": {},
   "outputs": [
    {
     "name": "stdout",
     "output_type": "stream",
     "text": [
      "[[0.0000015  0.00000097 0.03524365 0.9647522  0.00000005 0.0000017 ]]\n",
      "This image is a mountain\n"
     ]
    },
    {
     "data": {
      "image/png": "[encoded data removed]",
      "text/plain": [
       "<Figure size 432x288 with 1 Axes>"
      ]
     },
     "metadata": {
      "needs_background": "light"
     },
     "output_type": "display_data"
    }
   ],
   "source": [
    "np.set_printoptions(suppress=True)\n",
    "pred = reloaded.predict(img)\n",
    "print (pred)\n",
    "\n",
    "print ('This image is a', labels[np.argmax(pred)])\n",
    "plt.imshow(img1)\n",
    "plt.show()"
   ]
  },
  {
   "cell_type": "markdown",
   "metadata": {},
   "source": [
    "If I need to get a percentage and probability for each class, I should add softmax on the output as the activation layer so as to get the probability of each class. So, get the saved model and add a layer with the softmax function and try again."
   ]
  },
  {
   "cell_type": "markdown",
   "metadata": {},
   "source": [
    "# ----------------------------------------------------------"
   ]
  },
  {
   "cell_type": "markdown",
   "metadata": {},
   "source": [
    "# Inception_v3"
   ]
  },
  {
   "cell_type": "code",
   "execution_count": 90,
   "metadata": {},
   "outputs": [],
   "source": [
    "feature_extractor_model = \"https://tfhub.dev/google/tf2-preview/inception_v3/feature_vector/4\"\n",
    "\n",
    "pretrained_model_without_top_layer = hub.KerasLayer(\n",
    "    feature_extractor_model, input_shape=(224, 224, 3), trainable=False)"
   ]
  },
  {
   "cell_type": "markdown",
   "metadata": {},
   "source": [
    "# Adam Optimizer (Inception)"
   ]
  },
  {
   "cell_type": "code",
   "execution_count": 10,
   "metadata": {},
   "outputs": [
    {
     "name": "stderr",
     "output_type": "stream",
     "text": [
      "2022-06-04 17:17:25.571134: I tensorflow/stream_executor/cuda/cuda_gpu_executor.cc:983] successful NUMA node read from SysFS had negative value (-1), but there must be at least one NUMA node, so returning NUMA node zero\n",
      "2022-06-04 17:17:25.572342: I tensorflow/core/common_runtime/gpu/gpu_device.cc:1618] Found device 0 with properties: \n",
      "name: TITAN Xp major: 6 minor: 1 memoryClockRate(GHz): 1.582\n",
      "pciBusID: 0000:01:00.0\n",
      "2022-06-04 17:17:25.572410: I tensorflow/stream_executor/platform/default/dso_loader.cc:44] Successfully opened dynamic library libcudart.so.10.0\n",
      "2022-06-04 17:17:25.572446: I tensorflow/stream_executor/platform/default/dso_loader.cc:44] Successfully opened dynamic library libcublas.so.10.0\n",
      "2022-06-04 17:17:25.572479: I tensorflow/stream_executor/platform/default/dso_loader.cc:44] Successfully opened dynamic library libcufft.so.10.0\n",
      "2022-06-04 17:17:25.572511: I tensorflow/stream_executor/platform/default/dso_loader.cc:44] Successfully opened dynamic library libcurand.so.10.0\n",
      "2022-06-04 17:17:25.572544: I tensorflow/stream_executor/platform/default/dso_loader.cc:44] Successfully opened dynamic library libcusolver.so.10.0\n",
      "2022-06-04 17:17:25.572576: I tensorflow/stream_executor/platform/default/dso_loader.cc:44] Successfully opened dynamic library libcusparse.so.10.0\n",
      "2022-06-04 17:17:25.572609: I tensorflow/stream_executor/platform/default/dso_loader.cc:44] Successfully opened dynamic library libcudnn.so.7\n",
      "2022-06-04 17:17:25.572705: I tensorflow/stream_executor/cuda/cuda_gpu_executor.cc:983] successful NUMA node read from SysFS had negative value (-1), but there must be at least one NUMA node, so returning NUMA node zero\n",
      "2022-06-04 17:17:25.573950: I tensorflow/stream_executor/cuda/cuda_gpu_executor.cc:983] successful NUMA node read from SysFS had negative value (-1), but there must be at least one NUMA node, so returning NUMA node zero\n",
      "2022-06-04 17:17:25.575118: I tensorflow/core/common_runtime/gpu/gpu_device.cc:1746] Adding visible gpu devices: 0\n",
      "2022-06-04 17:17:25.575156: I tensorflow/core/common_runtime/gpu/gpu_device.cc:1159] Device interconnect StreamExecutor with strength 1 edge matrix:\n",
      "2022-06-04 17:17:25.575170: I tensorflow/core/common_runtime/gpu/gpu_device.cc:1165]      0 \n",
      "2022-06-04 17:17:25.575180: I tensorflow/core/common_runtime/gpu/gpu_device.cc:1178] 0:   N \n",
      "2022-06-04 17:17:25.575310: I tensorflow/stream_executor/cuda/cuda_gpu_executor.cc:983] successful NUMA node read from SysFS had negative value (-1), but there must be at least one NUMA node, so returning NUMA node zero\n",
      "2022-06-04 17:17:25.576538: I tensorflow/stream_executor/cuda/cuda_gpu_executor.cc:983] successful NUMA node read from SysFS had negative value (-1), but there must be at least one NUMA node, so returning NUMA node zero\n",
      "2022-06-04 17:17:25.577735: I tensorflow/core/common_runtime/gpu/gpu_device.cc:1304] Created TensorFlow device (/job:localhost/replica:0/task:0/device:GPU:0 with 11437 MB memory) -> physical GPU (device: 0, name: TITAN Xp, pci bus id: 0000:01:00.0, compute capability: 6.1)\n"
     ]
    },
    {
     "name": "stdout",
     "output_type": "stream",
     "text": [
      "Model: \"sequential\"\n",
      "_________________________________________________________________\n",
      "Layer (type)                 Output Shape              Param #   \n",
      "=================================================================\n",
      "keras_layer (KerasLayer)     (None, 2048)              21802784  \n",
      "_________________________________________________________________\n",
      "dense (Dense)                (None, 6)                 12294     \n",
      "=================================================================\n",
      "Total params: 21,815,078\n",
      "Trainable params: 12,294\n",
      "Non-trainable params: 21,802,784\n",
      "_________________________________________________________________\n"
     ]
    }
   ],
   "source": [
    "num_of_classes = 6\n",
    "\n",
    "model = tf.keras.Sequential([\n",
    "  pretrained_model_without_top_layer,\n",
    "  tf.keras.layers.Dense(num_of_classes)\n",
    "])\n",
    "\n",
    "model.summary()"
   ]
  },
  {
   "cell_type": "code",
   "execution_count": 11,
   "metadata": {},
   "outputs": [
    {
     "name": "stderr",
     "output_type": "stream",
     "text": [
      "2022-06-04 17:20:04.311310: I tensorflow/stream_executor/cuda/cuda_gpu_executor.cc:983] successful NUMA node read from SysFS had negative value (-1), but there must be at least one NUMA node, so returning NUMA node zero\n",
      "2022-06-04 17:20:04.312551: I tensorflow/core/common_runtime/gpu/gpu_device.cc:1618] Found device 0 with properties: \n",
      "name: TITAN Xp major: 6 minor: 1 memoryClockRate(GHz): 1.582\n",
      "pciBusID: 0000:01:00.0\n",
      "2022-06-04 17:20:04.312619: I tensorflow/stream_executor/platform/default/dso_loader.cc:44] Successfully opened dynamic library libcudart.so.10.0\n",
      "2022-06-04 17:20:04.312655: I tensorflow/stream_executor/platform/default/dso_loader.cc:44] Successfully opened dynamic library libcublas.so.10.0\n",
      "2022-06-04 17:20:04.312687: I tensorflow/stream_executor/platform/default/dso_loader.cc:44] Successfully opened dynamic library libcufft.so.10.0\n",
      "2022-06-04 17:20:04.312718: I tensorflow/stream_executor/platform/default/dso_loader.cc:44] Successfully opened dynamic library libcurand.so.10.0\n",
      "2022-06-04 17:20:04.312749: I tensorflow/stream_executor/platform/default/dso_loader.cc:44] Successfully opened dynamic library libcusolver.so.10.0\n",
      "2022-06-04 17:20:04.312780: I tensorflow/stream_executor/platform/default/dso_loader.cc:44] Successfully opened dynamic library libcusparse.so.10.0\n",
      "2022-06-04 17:20:04.312811: I tensorflow/stream_executor/platform/default/dso_loader.cc:44] Successfully opened dynamic library libcudnn.so.7\n",
      "2022-06-04 17:20:04.312916: I tensorflow/stream_executor/cuda/cuda_gpu_executor.cc:983] successful NUMA node read from SysFS had negative value (-1), but there must be at least one NUMA node, so returning NUMA node zero\n",
      "2022-06-04 17:20:04.314165: I tensorflow/stream_executor/cuda/cuda_gpu_executor.cc:983] successful NUMA node read from SysFS had negative value (-1), but there must be at least one NUMA node, so returning NUMA node zero\n",
      "2022-06-04 17:20:04.315345: I tensorflow/core/common_runtime/gpu/gpu_device.cc:1746] Adding visible gpu devices: 0\n",
      "2022-06-04 17:20:04.315386: I tensorflow/core/common_runtime/gpu/gpu_device.cc:1159] Device interconnect StreamExecutor with strength 1 edge matrix:\n",
      "2022-06-04 17:20:04.315399: I tensorflow/core/common_runtime/gpu/gpu_device.cc:1165]      0 \n",
      "2022-06-04 17:20:04.315410: I tensorflow/core/common_runtime/gpu/gpu_device.cc:1178] 0:   N \n",
      "2022-06-04 17:20:04.315542: I tensorflow/stream_executor/cuda/cuda_gpu_executor.cc:983] successful NUMA node read from SysFS had negative value (-1), but there must be at least one NUMA node, so returning NUMA node zero\n",
      "2022-06-04 17:20:04.316773: I tensorflow/stream_executor/cuda/cuda_gpu_executor.cc:983] successful NUMA node read from SysFS had negative value (-1), but there must be at least one NUMA node, so returning NUMA node zero\n",
      "2022-06-04 17:20:04.317987: I tensorflow/core/common_runtime/gpu/gpu_device.cc:1304] Created TensorFlow device (/job:localhost/replica:0/task:0/device:GPU:0 with 11437 MB memory) -> physical GPU (device: 0, name: TITAN Xp, pci bus id: 0000:01:00.0, compute capability: 6.1)\n"
     ]
    },
    {
     "name": "stdout",
     "output_type": "stream",
     "text": [
      "Epoch 1/10\n"
     ]
    },
    {
     "name": "stderr",
     "output_type": "stream",
     "text": [
      "2022-06-04 17:20:11.226722: I tensorflow/stream_executor/platform/default/dso_loader.cc:44] Successfully opened dynamic library libcublas.so.10.0\n",
      "2022-06-04 17:20:12.113918: I tensorflow/stream_executor/platform/default/dso_loader.cc:44] Successfully opened dynamic library libcudnn.so.7\n"
     ]
    },
    {
     "name": "stdout",
     "output_type": "stream",
     "text": [
      "438/439 [============================>.] - ETA: 0s - loss: 0.3394 - acc: 0.8743Epoch 1/10\n",
      "439/439 [==============================] - 37s 84ms/step - loss: 0.3394 - acc: 0.8743 - val_loss: 0.2609 - val_acc: 0.8993\n",
      "Epoch 2/10\n",
      "438/439 [============================>.] - ETA: 0s - loss: 0.2392 - acc: 0.9130Epoch 1/10\n",
      "439/439 [==============================] - 26s 60ms/step - loss: 0.2392 - acc: 0.9129 - val_loss: 0.2394 - val_acc: 0.9010\n",
      "Epoch 3/10\n",
      "438/439 [============================>.] - ETA: 0s - loss: 0.2100 - acc: 0.9212Epoch 1/10\n",
      "439/439 [==============================] - 27s 62ms/step - loss: 0.2099 - acc: 0.9211 - val_loss: 0.2891 - val_acc: 0.8802\n",
      "Epoch 4/10\n",
      "438/439 [============================>.] - ETA: 0s - loss: 0.1936 - acc: 0.9292Epoch 1/10\n",
      "439/439 [==============================] - 26s 60ms/step - loss: 0.1937 - acc: 0.9290 - val_loss: 0.2588 - val_acc: 0.9045\n",
      "Epoch 5/10\n",
      "438/439 [============================>.] - ETA: 0s - loss: 0.1810 - acc: 0.9332Epoch 1/10\n",
      "439/439 [==============================] - 27s 61ms/step - loss: 0.1812 - acc: 0.9332 - val_loss: 0.2547 - val_acc: 0.8958\n",
      "Epoch 6/10\n",
      "438/439 [============================>.] - ETA: 0s - loss: 0.1735 - acc: 0.9354Epoch 1/10\n",
      "439/439 [==============================] - 28s 63ms/step - loss: 0.1739 - acc: 0.9352 - val_loss: 0.2824 - val_acc: 0.8993\n",
      "Epoch 7/10\n",
      "438/439 [============================>.] - ETA: 0s - loss: 0.1653 - acc: 0.9382Epoch 1/10\n",
      "439/439 [==============================] - 27s 61ms/step - loss: 0.1652 - acc: 0.9382 - val_loss: 0.2914 - val_acc: 0.8924\n",
      "Epoch 8/10\n",
      "438/439 [============================>.] - ETA: 0s - loss: 0.1565 - acc: 0.9410Epoch 1/10\n",
      "439/439 [==============================] - 27s 61ms/step - loss: 0.1563 - acc: 0.9411 - val_loss: 0.3203 - val_acc: 0.8924\n",
      "Epoch 9/10\n",
      "438/439 [============================>.] - ETA: 0s - loss: 0.1562 - acc: 0.9409Epoch 1/10\n",
      "439/439 [==============================] - 28s 63ms/step - loss: 0.1560 - acc: 0.9409 - val_loss: 0.2915 - val_acc: 0.8958\n",
      "Epoch 10/10\n",
      "438/439 [============================>.] - ETA: 0s - loss: 0.1444 - acc: 0.9461Epoch 1/10\n",
      "439/439 [==============================] - 26s 60ms/step - loss: 0.1443 - acc: 0.9461 - val_loss: 0.2566 - val_acc: 0.9045\n"
     ]
    }
   ],
   "source": [
    "model.compile(\n",
    "  optimizer=\"adam\",\n",
    "  loss=tf.keras.losses.CategoricalCrossentropy(from_logits=True),\n",
    "  metrics=['acc'])\n",
    "\n",
    "history = model.fit(train, epochs=10, verbose=1, steps_per_epoch=len(train), \n",
    "         validation_data=test, validation_steps= int(0.2*len(test)))"
   ]
  },
  {
   "cell_type": "code",
   "execution_count": 12,
   "metadata": {},
   "outputs": [
    {
     "name": "stdout",
     "output_type": "stream",
     "text": [
      "94/94 [==============================] - 6s 62ms/step - loss: 0.2572 - acc: 0.9050\n"
     ]
    },
    {
     "data": {
      "text/plain": [
       "[0.2571768554997571, 0.905]"
      ]
     },
     "execution_count": 12,
     "metadata": {},
     "output_type": "execute_result"
    }
   ],
   "source": [
    "model.evaluate(test)"
   ]
  },
  {
   "cell_type": "code",
   "execution_count": 13,
   "metadata": {},
   "outputs": [
    {
     "data": {
      "image/png": "[encoded data removed]",
      "text/plain": [
       "<Figure size 432x288 with 1 Axes>"
      ]
     },
     "metadata": {
      "needs_background": "light"
     },
     "output_type": "display_data"
    },
    {
     "data": {
      "image/png": "[encoded data removed]",
      "text/plain": [
       "<Figure size 432x288 with 1 Axes>"
      ]
     },
     "metadata": {
      "needs_background": "light"
     },
     "output_type": "display_data"
    }
   ],
   "source": [
    "import matplotlib.pyplot as plt\n",
    "\n",
    "# summarize history for accuracy\n",
    "plt.plot(history.history['acc'])\n",
    "plt.plot(history.history['val_acc'])\n",
    "plt.title('model accuracy')\n",
    "plt.ylabel('accuracy')\n",
    "plt.xlabel('epoch')\n",
    "plt.legend(['Train', 'Validation'], loc='upper left')\n",
    "plt.show()\n",
    "# summarize history for loss\n",
    "plt.plot(history.history['loss'])\n",
    "plt.plot(history.history['val_loss'])\n",
    "plt.title('model loss')\n",
    "plt.ylabel('loss')\n",
    "plt.xlabel('epoch')\n",
    "plt.legend(['Train', 'Validation'], loc='upper left')\n",
    "plt.show()"
   ]
  },
  {
   "cell_type": "code",
   "execution_count": 14,
   "metadata": {},
   "outputs": [
    {
     "data": {
      "text/plain": [
       "'savedModels/Intel_inception_adam'"
      ]
     },
     "execution_count": 14,
     "metadata": {},
     "output_type": "execute_result"
    }
   ],
   "source": [
    "import time\n",
    "import datetime\n",
    "\n",
    "t = time.time()\n",
    "\n",
    "export_path = \"savedModels/Intel_inception_adam\"\n",
    "model.save(export_path)\n",
    "\n",
    "export_path"
   ]
  },
  {
   "cell_type": "code",
   "execution_count": 15,
   "metadata": {},
   "outputs": [
    {
     "name": "stdout",
     "output_type": "stream",
     "text": [
      "WARNING:tensorflow:From /home/ge67per/.local/lib/python3.7/site-packages/tensorflow_core/python/ops/init_ops.py:97: calling GlorotUniform.__init__ (from tensorflow.python.ops.init_ops) with dtype is deprecated and will be removed in a future version.\n",
      "Instructions for updating:\n",
      "Call initializer instance with the dtype argument instead of passing it to the constructor\n"
     ]
    },
    {
     "name": "stderr",
     "output_type": "stream",
     "text": [
      "WARNING:tensorflow:From /home/ge67per/.local/lib/python3.7/site-packages/tensorflow_core/python/ops/init_ops.py:97: calling GlorotUniform.__init__ (from tensorflow.python.ops.init_ops) with dtype is deprecated and will be removed in a future version.\n",
      "Instructions for updating:\n",
      "Call initializer instance with the dtype argument instead of passing it to the constructor\n"
     ]
    },
    {
     "name": "stdout",
     "output_type": "stream",
     "text": [
      "WARNING:tensorflow:From /home/ge67per/.local/lib/python3.7/site-packages/tensorflow_core/python/ops/init_ops.py:97: calling Zeros.__init__ (from tensorflow.python.ops.init_ops) with dtype is deprecated and will be removed in a future version.\n",
      "Instructions for updating:\n",
      "Call initializer instance with the dtype argument instead of passing it to the constructor\n"
     ]
    },
    {
     "name": "stderr",
     "output_type": "stream",
     "text": [
      "WARNING:tensorflow:From /home/ge67per/.local/lib/python3.7/site-packages/tensorflow_core/python/ops/init_ops.py:97: calling Zeros.__init__ (from tensorflow.python.ops.init_ops) with dtype is deprecated and will be removed in a future version.\n",
      "Instructions for updating:\n",
      "Call initializer instance with the dtype argument instead of passing it to the constructor\n"
     ]
    },
    {
     "name": "stdout",
     "output_type": "stream",
     "text": [
      "94/94 [==============================] - 9s 97ms/step - loss: 0.2569 - acc: 0.9050\n"
     ]
    },
    {
     "data": {
      "text/plain": [
       "[0.25692372578889766, 0.905]"
      ]
     },
     "execution_count": 15,
     "metadata": {},
     "output_type": "execute_result"
    }
   ],
   "source": [
    "export_path = \"savedModels/Intel_inception_adam\"\n",
    "reloaded = tf.keras.models.load_model(export_path,custom_objects={'KerasLayer':hub.KerasLayer})\n",
    "\n",
    "reloaded.evaluate(test)"
   ]
  },
  {
   "cell_type": "markdown",
   "metadata": {},
   "source": [
    "## SGD Optimizer (Inception)"
   ]
  },
  {
   "cell_type": "code",
   "execution_count": 11,
   "metadata": {},
   "outputs": [
    {
     "name": "stderr",
     "output_type": "stream",
     "text": [
      "2022-06-06 15:01:41.979846: I tensorflow/stream_executor/cuda/cuda_gpu_executor.cc:983] successful NUMA node read from SysFS had negative value (-1), but there must be at least one NUMA node, so returning NUMA node zero\n",
      "2022-06-06 15:01:41.981088: I tensorflow/core/common_runtime/gpu/gpu_device.cc:1618] Found device 0 with properties: \n",
      "name: TITAN Xp major: 6 minor: 1 memoryClockRate(GHz): 1.582\n",
      "pciBusID: 0000:01:00.0\n",
      "2022-06-06 15:01:41.981146: I tensorflow/stream_executor/platform/default/dso_loader.cc:44] Successfully opened dynamic library libcudart.so.10.0\n",
      "2022-06-06 15:01:41.981179: I tensorflow/stream_executor/platform/default/dso_loader.cc:44] Successfully opened dynamic library libcublas.so.10.0\n",
      "2022-06-06 15:01:41.981209: I tensorflow/stream_executor/platform/default/dso_loader.cc:44] Successfully opened dynamic library libcufft.so.10.0\n",
      "2022-06-06 15:01:41.981238: I tensorflow/stream_executor/platform/default/dso_loader.cc:44] Successfully opened dynamic library libcurand.so.10.0\n",
      "2022-06-06 15:01:41.981281: I tensorflow/stream_executor/platform/default/dso_loader.cc:44] Successfully opened dynamic library libcusolver.so.10.0\n",
      "2022-06-06 15:01:41.981327: I tensorflow/stream_executor/platform/default/dso_loader.cc:44] Successfully opened dynamic library libcusparse.so.10.0\n",
      "2022-06-06 15:01:41.981373: I tensorflow/stream_executor/platform/default/dso_loader.cc:44] Successfully opened dynamic library libcudnn.so.7\n",
      "2022-06-06 15:01:41.981483: I tensorflow/stream_executor/cuda/cuda_gpu_executor.cc:983] successful NUMA node read from SysFS had negative value (-1), but there must be at least one NUMA node, so returning NUMA node zero\n",
      "2022-06-06 15:01:41.982722: I tensorflow/stream_executor/cuda/cuda_gpu_executor.cc:983] successful NUMA node read from SysFS had negative value (-1), but there must be at least one NUMA node, so returning NUMA node zero\n",
      "2022-06-06 15:01:41.983904: I tensorflow/core/common_runtime/gpu/gpu_device.cc:1746] Adding visible gpu devices: 0\n",
      "2022-06-06 15:01:41.983943: I tensorflow/core/common_runtime/gpu/gpu_device.cc:1159] Device interconnect StreamExecutor with strength 1 edge matrix:\n",
      "2022-06-06 15:01:41.983957: I tensorflow/core/common_runtime/gpu/gpu_device.cc:1165]      0 \n",
      "2022-06-06 15:01:41.983968: I tensorflow/core/common_runtime/gpu/gpu_device.cc:1178] 0:   N \n",
      "2022-06-06 15:01:41.984097: I tensorflow/stream_executor/cuda/cuda_gpu_executor.cc:983] successful NUMA node read from SysFS had negative value (-1), but there must be at least one NUMA node, so returning NUMA node zero\n",
      "2022-06-06 15:01:41.985324: I tensorflow/stream_executor/cuda/cuda_gpu_executor.cc:983] successful NUMA node read from SysFS had negative value (-1), but there must be at least one NUMA node, so returning NUMA node zero\n",
      "2022-06-06 15:01:41.986531: I tensorflow/core/common_runtime/gpu/gpu_device.cc:1304] Created TensorFlow device (/job:localhost/replica:0/task:0/device:GPU:0 with 11437 MB memory) -> physical GPU (device: 0, name: TITAN Xp, pci bus id: 0000:01:00.0, compute capability: 6.1)\n"
     ]
    },
    {
     "name": "stdout",
     "output_type": "stream",
     "text": [
      "Model: \"sequential\"\n",
      "_________________________________________________________________\n",
      "Layer (type)                 Output Shape              Param #   \n",
      "=================================================================\n",
      "keras_layer (KerasLayer)     (None, 2048)              21802784  \n",
      "_________________________________________________________________\n",
      "dense (Dense)                (None, 6)                 12294     \n",
      "=================================================================\n",
      "Total params: 21,815,078\n",
      "Trainable params: 12,294\n",
      "Non-trainable params: 21,802,784\n",
      "_________________________________________________________________\n"
     ]
    }
   ],
   "source": [
    "num_of_classes = 6\n",
    "\n",
    "model = tf.keras.Sequential([\n",
    "  pretrained_model_without_top_layer,\n",
    "  tf.keras.layers.Dense(num_of_classes)\n",
    "])\n",
    "\n",
    "model.summary()"
   ]
  },
  {
   "cell_type": "code",
   "execution_count": 13,
   "metadata": {},
   "outputs": [
    {
     "name": "stderr",
     "output_type": "stream",
     "text": [
      "2022-06-06 15:02:04.804182: I tensorflow/stream_executor/cuda/cuda_gpu_executor.cc:983] successful NUMA node read from SysFS had negative value (-1), but there must be at least one NUMA node, so returning NUMA node zero\n",
      "2022-06-06 15:02:04.805566: I tensorflow/core/common_runtime/gpu/gpu_device.cc:1618] Found device 0 with properties: \n",
      "name: TITAN Xp major: 6 minor: 1 memoryClockRate(GHz): 1.582\n",
      "pciBusID: 0000:01:00.0\n",
      "2022-06-06 15:02:04.805636: I tensorflow/stream_executor/platform/default/dso_loader.cc:44] Successfully opened dynamic library libcudart.so.10.0\n",
      "2022-06-06 15:02:04.805673: I tensorflow/stream_executor/platform/default/dso_loader.cc:44] Successfully opened dynamic library libcublas.so.10.0\n",
      "2022-06-06 15:02:04.805706: I tensorflow/stream_executor/platform/default/dso_loader.cc:44] Successfully opened dynamic library libcufft.so.10.0\n",
      "2022-06-06 15:02:04.805737: I tensorflow/stream_executor/platform/default/dso_loader.cc:44] Successfully opened dynamic library libcurand.so.10.0\n",
      "2022-06-06 15:02:04.805789: I tensorflow/stream_executor/platform/default/dso_loader.cc:44] Successfully opened dynamic library libcusolver.so.10.0\n",
      "2022-06-06 15:02:04.805839: I tensorflow/stream_executor/platform/default/dso_loader.cc:44] Successfully opened dynamic library libcusparse.so.10.0\n",
      "2022-06-06 15:02:04.805871: I tensorflow/stream_executor/platform/default/dso_loader.cc:44] Successfully opened dynamic library libcudnn.so.7\n",
      "2022-06-06 15:02:04.805986: I tensorflow/stream_executor/cuda/cuda_gpu_executor.cc:983] successful NUMA node read from SysFS had negative value (-1), but there must be at least one NUMA node, so returning NUMA node zero\n",
      "2022-06-06 15:02:04.807254: I tensorflow/stream_executor/cuda/cuda_gpu_executor.cc:983] successful NUMA node read from SysFS had negative value (-1), but there must be at least one NUMA node, so returning NUMA node zero\n",
      "2022-06-06 15:02:04.808437: I tensorflow/core/common_runtime/gpu/gpu_device.cc:1746] Adding visible gpu devices: 0\n",
      "2022-06-06 15:02:04.808477: I tensorflow/core/common_runtime/gpu/gpu_device.cc:1159] Device interconnect StreamExecutor with strength 1 edge matrix:\n",
      "2022-06-06 15:02:04.808491: I tensorflow/core/common_runtime/gpu/gpu_device.cc:1165]      0 \n",
      "2022-06-06 15:02:04.808502: I tensorflow/core/common_runtime/gpu/gpu_device.cc:1178] 0:   N \n",
      "2022-06-06 15:02:04.808631: I tensorflow/stream_executor/cuda/cuda_gpu_executor.cc:983] successful NUMA node read from SysFS had negative value (-1), but there must be at least one NUMA node, so returning NUMA node zero\n",
      "2022-06-06 15:02:04.809940: I tensorflow/stream_executor/cuda/cuda_gpu_executor.cc:983] successful NUMA node read from SysFS had negative value (-1), but there must be at least one NUMA node, so returning NUMA node zero\n",
      "2022-06-06 15:02:04.811141: I tensorflow/core/common_runtime/gpu/gpu_device.cc:1304] Created TensorFlow device (/job:localhost/replica:0/task:0/device:GPU:0 with 11437 MB memory) -> physical GPU (device: 0, name: TITAN Xp, pci bus id: 0000:01:00.0, compute capability: 6.1)\n"
     ]
    },
    {
     "name": "stdout",
     "output_type": "stream",
     "text": [
      "Epoch 1/10\n"
     ]
    },
    {
     "name": "stderr",
     "output_type": "stream",
     "text": [
      "2022-06-06 15:02:16.844963: I tensorflow/stream_executor/platform/default/dso_loader.cc:44] Successfully opened dynamic library libcublas.so.10.0\n",
      "2022-06-06 15:02:17.793136: I tensorflow/stream_executor/platform/default/dso_loader.cc:44] Successfully opened dynamic library libcudnn.so.7\n"
     ]
    },
    {
     "name": "stdout",
     "output_type": "stream",
     "text": [
      "438/439 [============================>.] - ETA: 0s - loss: 0.4007 - acc: 0.8597Epoch 1/10\n",
      "439/439 [==============================] - 62s 142ms/step - loss: 0.4009 - acc: 0.8598 - val_loss: 0.3222 - val_acc: 0.8715\n",
      "Epoch 2/10\n",
      "438/439 [============================>.] - ETA: 0s - loss: 0.2737 - acc: 0.9007Epoch 1/10\n",
      "439/439 [==============================] - 30s 69ms/step - loss: 0.2732 - acc: 0.9010 - val_loss: 0.2989 - val_acc: 0.8854\n",
      "Epoch 3/10\n",
      "438/439 [============================>.] - ETA: 0s - loss: 0.2497 - acc: 0.9114Epoch 1/10\n",
      "439/439 [==============================] - 27s 62ms/step - loss: 0.2501 - acc: 0.9114 - val_loss: 0.2841 - val_acc: 0.8889\n",
      "Epoch 4/10\n",
      "438/439 [============================>.] - ETA: 0s - loss: 0.2359 - acc: 0.9154Epoch 1/10\n",
      "439/439 [==============================] - 28s 64ms/step - loss: 0.2357 - acc: 0.9155 - val_loss: 0.2811 - val_acc: 0.8906\n",
      "Epoch 5/10\n",
      "438/439 [============================>.] - ETA: 0s - loss: 0.2254 - acc: 0.9192Epoch 1/10\n",
      "439/439 [==============================] - 27s 62ms/step - loss: 0.2257 - acc: 0.9190 - val_loss: 0.2824 - val_acc: 0.8924\n",
      "Epoch 6/10\n",
      "438/439 [============================>.] - ETA: 0s - loss: 0.2163 - acc: 0.9213Epoch 1/10\n",
      "439/439 [==============================] - 27s 63ms/step - loss: 0.2164 - acc: 0.9211 - val_loss: 0.2700 - val_acc: 0.8958\n",
      "Epoch 7/10\n",
      "438/439 [============================>.] - ETA: 0s - loss: 0.2100 - acc: 0.9233Epoch 1/10\n",
      "439/439 [==============================] - 27s 61ms/step - loss: 0.2099 - acc: 0.9233 - val_loss: 0.2705 - val_acc: 0.9045\n",
      "Epoch 8/10\n",
      "438/439 [============================>.] - ETA: 0s - loss: 0.2047 - acc: 0.9262Epoch 1/10\n",
      "439/439 [==============================] - 27s 62ms/step - loss: 0.2046 - acc: 0.9263 - val_loss: 0.2745 - val_acc: 0.8993\n",
      "Epoch 9/10\n",
      "438/439 [============================>.] - ETA: 0s - loss: 0.1986 - acc: 0.9279Epoch 1/10\n",
      "439/439 [==============================] - 28s 64ms/step - loss: 0.1985 - acc: 0.9279 - val_loss: 0.2671 - val_acc: 0.9045\n",
      "Epoch 10/10\n",
      "438/439 [============================>.] - ETA: 0s - loss: 0.1948 - acc: 0.9299Epoch 1/10\n",
      "439/439 [==============================] - 28s 63ms/step - loss: 0.1946 - acc: 0.9300 - val_loss: 0.2686 - val_acc: 0.8993\n"
     ]
    }
   ],
   "source": [
    "model.compile(\n",
    "  optimizer=\"SGD\",\n",
    "  loss=tf.keras.losses.CategoricalCrossentropy(from_logits=True),\n",
    "  metrics=['acc'])\n",
    "\n",
    "history = model.fit(train, epochs=10, verbose=1, steps_per_epoch=len(train), \n",
    "         validation_data=test, validation_steps= int(0.2*len(test)))"
   ]
  },
  {
   "cell_type": "code",
   "execution_count": 15,
   "metadata": {},
   "outputs": [
    {
     "name": "stdout",
     "output_type": "stream",
     "text": [
      "94/94 [==============================] - 6s 59ms/step - loss: 0.2362 - acc: 0.9117\n"
     ]
    },
    {
     "data": {
      "text/plain": [
       "[0.23620409510554152, 0.9116667]"
      ]
     },
     "execution_count": 15,
     "metadata": {},
     "output_type": "execute_result"
    }
   ],
   "source": [
    "model.evaluate(test)"
   ]
  },
  {
   "cell_type": "code",
   "execution_count": 16,
   "metadata": {},
   "outputs": [
    {
     "data": {
      "image/png": "[encoded data removed]",
      "text/plain": [
       "<Figure size 432x288 with 1 Axes>"
      ]
     },
     "metadata": {
      "needs_background": "light"
     },
     "output_type": "display_data"
    },
    {
     "data": {
      "image/png": "[encoded data removed]",
      "text/plain": [
       "<Figure size 432x288 with 1 Axes>"
      ]
     },
     "metadata": {
      "needs_background": "light"
     },
     "output_type": "display_data"
    }
   ],
   "source": [
    "import matplotlib.pyplot as plt\n",
    "\n",
    "# summarize history for accuracy\n",
    "plt.plot(history.history['acc'])\n",
    "plt.plot(history.history['val_acc'])\n",
    "plt.title('model accuracy')\n",
    "plt.ylabel('accuracy')\n",
    "plt.xlabel('epoch')\n",
    "plt.legend(['Train', 'Validation'], loc='upper left')\n",
    "plt.show()\n",
    "# summarize history for loss\n",
    "plt.plot(history.history['loss'])\n",
    "plt.plot(history.history['val_loss'])\n",
    "plt.title('model loss')\n",
    "plt.ylabel('loss')\n",
    "plt.xlabel('epoch')\n",
    "plt.legend(['Train', 'Validation'], loc='upper left')\n",
    "plt.show()"
   ]
  },
  {
   "cell_type": "code",
   "execution_count": 17,
   "metadata": {},
   "outputs": [
    {
     "data": {
      "text/plain": [
       "'savedModels/Intel_inception_Sgd'"
      ]
     },
     "execution_count": 17,
     "metadata": {},
     "output_type": "execute_result"
    }
   ],
   "source": [
    "import time\n",
    "import datetime\n",
    "\n",
    "t = time.time()\n",
    "\n",
    "export_path = \"savedModels/Intel_inception_Sgd\"\n",
    "model.save(export_path)\n",
    "\n",
    "export_path"
   ]
  },
  {
   "cell_type": "code",
   "execution_count": 18,
   "metadata": {},
   "outputs": [
    {
     "name": "stdout",
     "output_type": "stream",
     "text": [
      "WARNING:tensorflow:From /home/ge67per/.local/lib/python3.7/site-packages/tensorflow_core/python/ops/init_ops.py:97: calling GlorotUniform.__init__ (from tensorflow.python.ops.init_ops) with dtype is deprecated and will be removed in a future version.\n",
      "Instructions for updating:\n",
      "Call initializer instance with the dtype argument instead of passing it to the constructor\n"
     ]
    },
    {
     "name": "stderr",
     "output_type": "stream",
     "text": [
      "WARNING:tensorflow:From /home/ge67per/.local/lib/python3.7/site-packages/tensorflow_core/python/ops/init_ops.py:97: calling GlorotUniform.__init__ (from tensorflow.python.ops.init_ops) with dtype is deprecated and will be removed in a future version.\n",
      "Instructions for updating:\n",
      "Call initializer instance with the dtype argument instead of passing it to the constructor\n"
     ]
    },
    {
     "name": "stdout",
     "output_type": "stream",
     "text": [
      "WARNING:tensorflow:From /home/ge67per/.local/lib/python3.7/site-packages/tensorflow_core/python/ops/init_ops.py:97: calling Zeros.__init__ (from tensorflow.python.ops.init_ops) with dtype is deprecated and will be removed in a future version.\n",
      "Instructions for updating:\n",
      "Call initializer instance with the dtype argument instead of passing it to the constructor\n"
     ]
    },
    {
     "name": "stderr",
     "output_type": "stream",
     "text": [
      "WARNING:tensorflow:From /home/ge67per/.local/lib/python3.7/site-packages/tensorflow_core/python/ops/init_ops.py:97: calling Zeros.__init__ (from tensorflow.python.ops.init_ops) with dtype is deprecated and will be removed in a future version.\n",
      "Instructions for updating:\n",
      "Call initializer instance with the dtype argument instead of passing it to the constructor\n"
     ]
    },
    {
     "name": "stdout",
     "output_type": "stream",
     "text": [
      "94/94 [==============================] - 9s 94ms/step - loss: 0.2368 - acc: 0.9117\n"
     ]
    },
    {
     "data": {
      "text/plain": [
       "[0.23681069997713922, 0.9116667]"
      ]
     },
     "execution_count": 18,
     "metadata": {},
     "output_type": "execute_result"
    }
   ],
   "source": [
    "export_path = \"savedModels/Intel_inception_Sgd\"\n",
    "reloaded = tf.keras.models.load_model(export_path,custom_objects={'KerasLayer':hub.KerasLayer})\n",
    "\n",
    "reloaded.evaluate(test)"
   ]
  },
  {
   "cell_type": "markdown",
   "metadata": {},
   "source": [
    "# Newton Optimizer (Inception)"
   ]
  },
  {
   "cell_type": "code",
   "execution_count": 91,
   "metadata": {},
   "outputs": [],
   "source": [
    "import newton_cg as es"
   ]
  },
  {
   "cell_type": "code",
   "execution_count": 92,
   "metadata": {},
   "outputs": [
    {
     "name": "stdout",
     "output_type": "stream",
     "text": [
      "Model: \"sequential_16\"\n",
      "_________________________________________________________________\n",
      "Layer (type)                 Output Shape              Param #   \n",
      "=================================================================\n",
      "keras_layer_2 (KerasLayer)   (None, 2048)              21802784  \n",
      "_________________________________________________________________\n",
      "dense_16 (Dense)             (None, 6)                 12294     \n",
      "=================================================================\n",
      "Total params: 21,815,078\n",
      "Trainable params: 12,294\n",
      "Non-trainable params: 21,802,784\n",
      "_________________________________________________________________\n"
     ]
    }
   ],
   "source": [
    "num_of_classes = 6\n",
    "\n",
    "model = tf.keras.Sequential([\n",
    "  pretrained_model_without_top_layer,\n",
    "  tf.keras.layers.Dense(num_of_classes, activation='softmax')\n",
    "])\n",
    "\n",
    "model.summary()"
   ]
  },
  {
   "cell_type": "code",
   "execution_count": 93,
   "metadata": {},
   "outputs": [
    {
     "name": "stdout",
     "output_type": "stream",
     "text": [
      "Epoch 1/10\n",
      "eso._resource_compute_dense() called.\n",
      "eso._resource_compute_dense() FINISHED.\n",
      "eso._resource_compute_dense() called.\n",
      "eso._resource_compute_dense() FINISHED.\n",
      "438/439 [============================>.] - ETA: 0s - loss: 1.7030 - acc: 0.3578Epoch 1/10\n",
      "439/439 [==============================] - 45s 103ms/step - loss: 1.7029 - acc: 0.3579 - val_loss: 1.6313 - val_acc: 0.4392\n",
      "Epoch 2/10\n",
      "438/439 [============================>.] - ETA: 0s - loss: 1.5753 - acc: 0.5154Epoch 1/10\n",
      "439/439 [==============================] - 34s 77ms/step - loss: 1.5751 - acc: 0.5158 - val_loss: 1.4946 - val_acc: 0.6562\n",
      "Epoch 3/10\n",
      "438/439 [============================>.] - ETA: 0s - loss: 1.4221 - acc: 0.7242Epoch 1/10\n",
      "439/439 [==============================] - 34s 78ms/step - loss: 1.4219 - acc: 0.7243 - val_loss: 1.3731 - val_acc: 0.7674\n",
      "Epoch 4/10\n",
      "438/439 [============================>.] - ETA: 0s - loss: 1.3343 - acc: 0.8029Epoch 1/10\n",
      "439/439 [==============================] - 34s 79ms/step - loss: 1.3342 - acc: 0.8030 - val_loss: 1.3049 - val_acc: 0.8229\n",
      "Epoch 5/10\n",
      "438/439 [============================>.] - ETA: 0s - loss: 1.2878 - acc: 0.8320Epoch 1/10\n",
      "439/439 [==============================] - 34s 78ms/step - loss: 1.2880 - acc: 0.8318 - val_loss: 1.2720 - val_acc: 0.8368\n",
      "Epoch 6/10\n",
      "438/439 [============================>.] - ETA: 0s - loss: 1.2581 - acc: 0.8508Epoch 1/10\n",
      "439/439 [==============================] - 35s 79ms/step - loss: 1.2580 - acc: 0.8509 - val_loss: 1.2464 - val_acc: 0.8681\n",
      "Epoch 7/10\n",
      "438/439 [============================>.] - ETA: 0s - loss: 1.2419 - acc: 0.8581Epoch 1/10\n",
      "439/439 [==============================] - 34s 78ms/step - loss: 1.2420 - acc: 0.8578 - val_loss: 1.3193 - val_acc: 0.7535\n",
      "Epoch 8/10\n",
      "438/439 [============================>.] - ETA: 0s - loss: 1.3081 - acc: 0.7577Epoch 1/10\n",
      "439/439 [==============================] - 34s 78ms/step - loss: 1.3078 - acc: 0.7579 - val_loss: 1.2944 - val_acc: 0.7622\n",
      "Epoch 9/10\n",
      "438/439 [============================>.] - ETA: 0s - loss: 1.2784 - acc: 0.7845Epoch 1/10\n",
      "439/439 [==============================] - 34s 79ms/step - loss: 1.2783 - acc: 0.7846 - val_loss: 1.2679 - val_acc: 0.7865\n",
      "Epoch 10/10\n",
      "438/439 [============================>.] - ETA: 0s - loss: 1.2618 - acc: 0.7985Epoch 1/10\n",
      "439/439 [==============================] - 35s 79ms/step - loss: 1.2618 - acc: 0.7986 - val_loss: 1.2647 - val_acc: 0.7882\n"
     ]
    }
   ],
   "source": [
    "newton_opt = es.EHNewtonOptimizer(0.001)\n",
    "\n",
    "model.compile(\n",
    "  optimizer=newton_opt,\n",
    "  loss=tf.keras.losses.CategoricalCrossentropy(from_logits=True),\n",
    "  metrics=['acc'])\n",
    "\n",
    "history = model.fit(train, epochs=10, verbose=1, steps_per_epoch=len(train), \n",
    "         validation_data=test, validation_steps= int(0.2*len(test)))"
   ]
  },
  {
   "cell_type": "code",
   "execution_count": 94,
   "metadata": {},
   "outputs": [
    {
     "name": "stdout",
     "output_type": "stream",
     "text": [
      "94/94 [==============================] - 5s 51ms/step - loss: 1.2677 - acc: 0.7883\n"
     ]
    },
    {
     "data": {
      "text/plain": [
       "[1.2676870949724888, 0.78833336]"
      ]
     },
     "execution_count": 94,
     "metadata": {},
     "output_type": "execute_result"
    }
   ],
   "source": [
    "model.evaluate(test)"
   ]
  },
  {
   "cell_type": "code",
   "execution_count": 95,
   "metadata": {},
   "outputs": [
    {
     "data": {
      "image/png": "[encoded data removed]",
      "text/plain": [
       "<Figure size 432x288 with 1 Axes>"
      ]
     },
     "metadata": {
      "needs_background": "light"
     },
     "output_type": "display_data"
    },
    {
     "data": {
      "image/png": "[encoded data removed]",
      "text/plain": [
       "<Figure size 432x288 with 1 Axes>"
      ]
     },
     "metadata": {
      "needs_background": "light"
     },
     "output_type": "display_data"
    }
   ],
   "source": [
    "import matplotlib.pyplot as plt\n",
    "\n",
    "# summarize history for accuracy\n",
    "plt.plot(history.history['acc'])\n",
    "plt.plot(history.history['val_acc'])\n",
    "plt.title('model accuracy')\n",
    "plt.ylabel('accuracy')\n",
    "plt.xlabel('epoch')\n",
    "plt.legend(['Train', 'Validation'], loc='upper left')\n",
    "plt.show()\n",
    "# summarize history for loss\n",
    "plt.plot(history.history['loss'])\n",
    "plt.plot(history.history['val_loss'])\n",
    "plt.title('model loss')\n",
    "plt.ylabel('loss')\n",
    "plt.xlabel('epoch')\n",
    "plt.legend(['Train', 'Validation'], loc='upper left')\n",
    "plt.show()"
   ]
  },
  {
   "cell_type": "code",
   "execution_count": 96,
   "metadata": {},
   "outputs": [
    {
     "data": {
      "text/plain": [
       "'savedModels/Intel_inception_newton'"
      ]
     },
     "execution_count": 96,
     "metadata": {},
     "output_type": "execute_result"
    }
   ],
   "source": [
    "import time\n",
    "import datetime\n",
    "\n",
    "t = time.time()\n",
    "\n",
    "export_path = \"savedModels/Intel_inception_newton\"\n",
    "model.save(export_path)\n",
    "\n",
    "export_path"
   ]
  },
  {
   "cell_type": "code",
   "execution_count": 82,
   "metadata": {},
   "outputs": [
    {
     "ename": "ValueError",
     "evalue": "Unknown optimizer: EHNewtonOptimizer",
     "output_type": "error",
     "traceback": [
      "\u001b[0;31m---------------------------------------------------------------------------\u001b[0m",
      "\u001b[0;31mValueError\u001b[0m                                Traceback (most recent call last)",
      "\u001b[0;32m/tmp/ipykernel_7971/2123442189.py\u001b[0m in \u001b[0;36m<module>\u001b[0;34m\u001b[0m\n\u001b[1;32m      1\u001b[0m \u001b[0mexport_path\u001b[0m \u001b[0;34m=\u001b[0m \u001b[0;34m\"savedModels/Intel_inception_newton\"\u001b[0m\u001b[0;34m\u001b[0m\u001b[0;34m\u001b[0m\u001b[0m\n\u001b[0;32m----> 2\u001b[0;31m \u001b[0mreloaded\u001b[0m \u001b[0;34m=\u001b[0m \u001b[0mtf\u001b[0m\u001b[0;34m.\u001b[0m\u001b[0mkeras\u001b[0m\u001b[0;34m.\u001b[0m\u001b[0mmodels\u001b[0m\u001b[0;34m.\u001b[0m\u001b[0mload_model\u001b[0m\u001b[0;34m(\u001b[0m\u001b[0mexport_path\u001b[0m\u001b[0;34m,\u001b[0m\u001b[0mcustom_objects\u001b[0m\u001b[0;34m=\u001b[0m\u001b[0;34m{\u001b[0m\u001b[0;34m'KerasLayer'\u001b[0m\u001b[0;34m:\u001b[0m\u001b[0mhub\u001b[0m\u001b[0;34m.\u001b[0m\u001b[0mKerasLayer\u001b[0m\u001b[0;34m}\u001b[0m\u001b[0;34m)\u001b[0m\u001b[0;34m\u001b[0m\u001b[0;34m\u001b[0m\u001b[0m\n\u001b[0m\u001b[1;32m      3\u001b[0m \u001b[0;34m\u001b[0m\u001b[0m\n\u001b[1;32m      4\u001b[0m \u001b[0mreloaded\u001b[0m\u001b[0;34m.\u001b[0m\u001b[0mevaluate\u001b[0m\u001b[0;34m(\u001b[0m\u001b[0mtest\u001b[0m\u001b[0;34m)\u001b[0m\u001b[0;34m\u001b[0m\u001b[0;34m\u001b[0m\u001b[0m\n",
      "\u001b[0;32m~/.local/lib/python3.7/site-packages/tensorflow_core/python/keras/saving/save.py\u001b[0m in \u001b[0;36mload_model\u001b[0;34m(filepath, custom_objects, compile)\u001b[0m\n\u001b[1;32m    141\u001b[0m   if (h5py is not None and (\n\u001b[1;32m    142\u001b[0m       isinstance(filepath, h5py.File) or h5py.is_hdf5(filepath))):\n\u001b[0;32m--> 143\u001b[0;31m     \u001b[0;32mreturn\u001b[0m \u001b[0mhdf5_format\u001b[0m\u001b[0;34m.\u001b[0m\u001b[0mload_model_from_hdf5\u001b[0m\u001b[0;34m(\u001b[0m\u001b[0mfilepath\u001b[0m\u001b[0;34m,\u001b[0m \u001b[0mcustom_objects\u001b[0m\u001b[0;34m,\u001b[0m \u001b[0mcompile\u001b[0m\u001b[0;34m)\u001b[0m\u001b[0;34m\u001b[0m\u001b[0;34m\u001b[0m\u001b[0m\n\u001b[0m\u001b[1;32m    144\u001b[0m \u001b[0;34m\u001b[0m\u001b[0m\n\u001b[1;32m    145\u001b[0m   \u001b[0;32mif\u001b[0m \u001b[0misinstance\u001b[0m\u001b[0;34m(\u001b[0m\u001b[0mfilepath\u001b[0m\u001b[0;34m,\u001b[0m \u001b[0msix\u001b[0m\u001b[0;34m.\u001b[0m\u001b[0mstring_types\u001b[0m\u001b[0;34m)\u001b[0m\u001b[0;34m:\u001b[0m\u001b[0;34m\u001b[0m\u001b[0;34m\u001b[0m\u001b[0m\n",
      "\u001b[0;32m~/.local/lib/python3.7/site-packages/tensorflow_core/python/keras/saving/hdf5_format.py\u001b[0m in \u001b[0;36mload_model_from_hdf5\u001b[0;34m(filepath, custom_objects, compile)\u001b[0m\n\u001b[1;32m    176\u001b[0m       \u001b[0;31m# Compile model.\u001b[0m\u001b[0;34m\u001b[0m\u001b[0;34m\u001b[0m\u001b[0;34m\u001b[0m\u001b[0m\n\u001b[1;32m    177\u001b[0m       model.compile(**saving_utils.compile_args_from_training_config(\n\u001b[0;32m--> 178\u001b[0;31m           training_config, custom_objects))\n\u001b[0m\u001b[1;32m    179\u001b[0m \u001b[0;34m\u001b[0m\u001b[0m\n\u001b[1;32m    180\u001b[0m       \u001b[0;31m# Set optimizer weights.\u001b[0m\u001b[0;34m\u001b[0m\u001b[0;34m\u001b[0m\u001b[0;34m\u001b[0m\u001b[0m\n",
      "\u001b[0;32m~/.local/lib/python3.7/site-packages/tensorflow_core/python/keras/saving/saving_utils.py\u001b[0m in \u001b[0;36mcompile_args_from_training_config\u001b[0;34m(training_config, custom_objects)\u001b[0m\n\u001b[1;32m    215\u001b[0m   \u001b[0moptimizer_config\u001b[0m \u001b[0;34m=\u001b[0m \u001b[0mtraining_config\u001b[0m\u001b[0;34m[\u001b[0m\u001b[0;34m'optimizer_config'\u001b[0m\u001b[0;34m]\u001b[0m\u001b[0;34m\u001b[0m\u001b[0;34m\u001b[0m\u001b[0m\n\u001b[1;32m    216\u001b[0m   optimizer = optimizers.deserialize(\n\u001b[0;32m--> 217\u001b[0;31m       optimizer_config, custom_objects=custom_objects)\n\u001b[0m\u001b[1;32m    218\u001b[0m \u001b[0;34m\u001b[0m\u001b[0m\n\u001b[1;32m    219\u001b[0m   \u001b[0;31m# Recover loss functions and metrics.\u001b[0m\u001b[0;34m\u001b[0m\u001b[0;34m\u001b[0m\u001b[0;34m\u001b[0m\u001b[0m\n",
      "\u001b[0;32m~/.local/lib/python3.7/site-packages/tensorflow_core/python/keras/optimizers.py\u001b[0m in \u001b[0;36mdeserialize\u001b[0;34m(config, custom_objects)\u001b[0m\n\u001b[1;32m    813\u001b[0m       \u001b[0mmodule_objects\u001b[0m\u001b[0;34m=\u001b[0m\u001b[0mall_classes\u001b[0m\u001b[0;34m,\u001b[0m\u001b[0;34m\u001b[0m\u001b[0;34m\u001b[0m\u001b[0m\n\u001b[1;32m    814\u001b[0m       \u001b[0mcustom_objects\u001b[0m\u001b[0;34m=\u001b[0m\u001b[0mcustom_objects\u001b[0m\u001b[0;34m,\u001b[0m\u001b[0;34m\u001b[0m\u001b[0;34m\u001b[0m\u001b[0m\n\u001b[0;32m--> 815\u001b[0;31m       printable_module_name='optimizer')\n\u001b[0m\u001b[1;32m    816\u001b[0m \u001b[0;34m\u001b[0m\u001b[0m\n\u001b[1;32m    817\u001b[0m \u001b[0;34m\u001b[0m\u001b[0m\n",
      "\u001b[0;32m~/.local/lib/python3.7/site-packages/tensorflow_core/python/keras/utils/generic_utils.py\u001b[0m in \u001b[0;36mdeserialize_keras_object\u001b[0;34m(identifier, module_objects, custom_objects, printable_module_name)\u001b[0m\n\u001b[1;32m    178\u001b[0m     \u001b[0mconfig\u001b[0m \u001b[0;34m=\u001b[0m \u001b[0midentifier\u001b[0m\u001b[0;34m\u001b[0m\u001b[0;34m\u001b[0m\u001b[0m\n\u001b[1;32m    179\u001b[0m     (cls, cls_config) = class_and_config_for_serialized_keras_object(\n\u001b[0;32m--> 180\u001b[0;31m         config, module_objects, custom_objects, printable_module_name)\n\u001b[0m\u001b[1;32m    181\u001b[0m \u001b[0;34m\u001b[0m\u001b[0m\n\u001b[1;32m    182\u001b[0m     \u001b[0;32mif\u001b[0m \u001b[0mhasattr\u001b[0m\u001b[0;34m(\u001b[0m\u001b[0mcls\u001b[0m\u001b[0;34m,\u001b[0m \u001b[0;34m'from_config'\u001b[0m\u001b[0;34m)\u001b[0m\u001b[0;34m:\u001b[0m\u001b[0;34m\u001b[0m\u001b[0;34m\u001b[0m\u001b[0m\n",
      "\u001b[0;32m~/.local/lib/python3.7/site-packages/tensorflow_core/python/keras/utils/generic_utils.py\u001b[0m in \u001b[0;36mclass_and_config_for_serialized_keras_object\u001b[0;34m(config, module_objects, custom_objects, printable_module_name)\u001b[0m\n\u001b[1;32m    163\u001b[0m     \u001b[0mcls\u001b[0m \u001b[0;34m=\u001b[0m \u001b[0mmodule_objects\u001b[0m\u001b[0;34m.\u001b[0m\u001b[0mget\u001b[0m\u001b[0;34m(\u001b[0m\u001b[0mclass_name\u001b[0m\u001b[0;34m)\u001b[0m\u001b[0;34m\u001b[0m\u001b[0;34m\u001b[0m\u001b[0m\n\u001b[1;32m    164\u001b[0m     \u001b[0;32mif\u001b[0m \u001b[0mcls\u001b[0m \u001b[0;32mis\u001b[0m \u001b[0;32mNone\u001b[0m\u001b[0;34m:\u001b[0m\u001b[0;34m\u001b[0m\u001b[0;34m\u001b[0m\u001b[0m\n\u001b[0;32m--> 165\u001b[0;31m       \u001b[0;32mraise\u001b[0m \u001b[0mValueError\u001b[0m\u001b[0;34m(\u001b[0m\u001b[0;34m'Unknown '\u001b[0m \u001b[0;34m+\u001b[0m \u001b[0mprintable_module_name\u001b[0m \u001b[0;34m+\u001b[0m \u001b[0;34m': '\u001b[0m \u001b[0;34m+\u001b[0m \u001b[0mclass_name\u001b[0m\u001b[0;34m)\u001b[0m\u001b[0;34m\u001b[0m\u001b[0;34m\u001b[0m\u001b[0m\n\u001b[0m\u001b[1;32m    166\u001b[0m   \u001b[0;32mreturn\u001b[0m \u001b[0;34m(\u001b[0m\u001b[0mcls\u001b[0m\u001b[0;34m,\u001b[0m \u001b[0mconfig\u001b[0m\u001b[0;34m[\u001b[0m\u001b[0;34m'config'\u001b[0m\u001b[0;34m]\u001b[0m\u001b[0;34m)\u001b[0m\u001b[0;34m\u001b[0m\u001b[0;34m\u001b[0m\u001b[0m\n\u001b[1;32m    167\u001b[0m \u001b[0;34m\u001b[0m\u001b[0m\n",
      "\u001b[0;31mValueError\u001b[0m: Unknown optimizer: EHNewtonOptimizer"
     ]
    }
   ],
   "source": [
    "export_path = \"savedModels/Intel_inception_newton\"\n",
    "reloaded = tf.keras.models.load_model(export_path,custom_objects={'KerasLayer':hub.KerasLayer})\n",
    "\n",
    "reloaded.evaluate(test)"
   ]
  },
  {
   "cell_type": "markdown",
   "metadata": {},
   "source": [
    "# --------------------------------------------------------------------"
   ]
  },
  {
   "cell_type": "markdown",
   "metadata": {},
   "source": [
    "# ResNet Model"
   ]
  },
  {
   "cell_type": "code",
   "execution_count": 83,
   "metadata": {},
   "outputs": [],
   "source": [
    "feature_extractor_model = \"https://tfhub.dev/google/imagenet/resnet_v2_50/feature_vector/5\"\n",
    "\n",
    "pretrained_model_without_top_layer = hub.KerasLayer(\n",
    "    feature_extractor_model, input_shape=(224, 224, 3), trainable=False)"
   ]
  },
  {
   "cell_type": "markdown",
   "metadata": {},
   "source": [
    "# Adam Optimizer (ResNet)"
   ]
  },
  {
   "cell_type": "code",
   "execution_count": 26,
   "metadata": {},
   "outputs": [
    {
     "name": "stdout",
     "output_type": "stream",
     "text": [
      "Model: \"sequential_3\"\n",
      "_________________________________________________________________\n",
      "Layer (type)                 Output Shape              Param #   \n",
      "=================================================================\n",
      "keras_layer_2 (KerasLayer)   (None, 2048)              23564800  \n",
      "_________________________________________________________________\n",
      "dense_3 (Dense)              (None, 6)                 12294     \n",
      "=================================================================\n",
      "Total params: 23,577,094\n",
      "Trainable params: 12,294\n",
      "Non-trainable params: 23,564,800\n",
      "_________________________________________________________________\n"
     ]
    }
   ],
   "source": [
    "num_of_classes = 6\n",
    "\n",
    "model = tf.keras.Sequential([\n",
    "  pretrained_model_without_top_layer,\n",
    "  tf.keras.layers.Dense(num_of_classes)\n",
    "])\n",
    "\n",
    "model.summary()"
   ]
  },
  {
   "cell_type": "code",
   "execution_count": 27,
   "metadata": {},
   "outputs": [
    {
     "name": "stdout",
     "output_type": "stream",
     "text": [
      "Epoch 1/10\n",
      "438/439 [============================>.] - ETA: 0s - loss: 0.3087 - acc: 0.8870Epoch 1/10\n",
      "439/439 [==============================] - 39s 89ms/step - loss: 0.3093 - acc: 0.8869 - val_loss: 0.2129 - val_acc: 0.9149\n",
      "Epoch 2/10\n",
      "438/439 [============================>.] - ETA: 0s - loss: 0.1983 - acc: 0.9281Epoch 1/10\n",
      "439/439 [==============================] - 28s 65ms/step - loss: 0.1986 - acc: 0.9280 - val_loss: 0.2177 - val_acc: 0.9167\n",
      "Epoch 3/10\n",
      "438/439 [============================>.] - ETA: 0s - loss: 0.1708 - acc: 0.9374Epoch 1/10\n",
      "439/439 [==============================] - 29s 66ms/step - loss: 0.1706 - acc: 0.9374 - val_loss: 0.1972 - val_acc: 0.9132\n",
      "Epoch 4/10\n",
      "438/439 [============================>.] - ETA: 0s - loss: 0.1533 - acc: 0.9428Epoch 1/10\n",
      "439/439 [==============================] - 29s 67ms/step - loss: 0.1534 - acc: 0.9428 - val_loss: 0.2100 - val_acc: 0.9184\n",
      "Epoch 5/10\n",
      "438/439 [============================>.] - ETA: 0s - loss: 0.1399 - acc: 0.9492Epoch 1/10\n",
      "439/439 [==============================] - 30s 68ms/step - loss: 0.1401 - acc: 0.9491 - val_loss: 0.2017 - val_acc: 0.9201\n",
      "Epoch 6/10\n",
      "438/439 [============================>.] - ETA: 0s - loss: 0.1289 - acc: 0.9532Epoch 1/10\n",
      "439/439 [==============================] - 29s 66ms/step - loss: 0.1293 - acc: 0.9532 - val_loss: 0.2076 - val_acc: 0.9201\n",
      "Epoch 7/10\n",
      "438/439 [============================>.] - ETA: 0s - loss: 0.1207 - acc: 0.9577Epoch 1/10\n",
      "439/439 [==============================] - 30s 67ms/step - loss: 0.1207 - acc: 0.9577 - val_loss: 0.2068 - val_acc: 0.9132\n",
      "Epoch 8/10\n",
      "438/439 [============================>.] - ETA: 0s - loss: 0.1143 - acc: 0.9573Epoch 1/10\n",
      "439/439 [==============================] - 29s 66ms/step - loss: 0.1143 - acc: 0.9573 - val_loss: 0.2154 - val_acc: 0.9115\n",
      "Epoch 9/10\n",
      "438/439 [============================>.] - ETA: 0s - loss: 0.1088 - acc: 0.9600Epoch 1/10\n",
      "439/439 [==============================] - 29s 66ms/step - loss: 0.1087 - acc: 0.9600 - val_loss: 0.2075 - val_acc: 0.9097\n",
      "Epoch 10/10\n",
      "438/439 [============================>.] - ETA: 0s - loss: 0.1017 - acc: 0.9644Epoch 1/10\n",
      "439/439 [==============================] - 28s 65ms/step - loss: 0.1017 - acc: 0.9644 - val_loss: 0.2143 - val_acc: 0.9167\n"
     ]
    }
   ],
   "source": [
    "model.compile(\n",
    "  optimizer=\"adam\",\n",
    "  loss=tf.keras.losses.CategoricalCrossentropy(from_logits=True),\n",
    "  metrics=['acc'])\n",
    "\n",
    "history = model.fit(train, epochs=10, verbose=1, steps_per_epoch=len(train), \n",
    "         validation_data=test, validation_steps= int(0.2*len(test)))"
   ]
  },
  {
   "cell_type": "code",
   "execution_count": 28,
   "metadata": {},
   "outputs": [
    {
     "name": "stdout",
     "output_type": "stream",
     "text": [
      "94/94 [==============================] - 6s 62ms/step - loss: 0.2237 - acc: 0.9143\n"
     ]
    },
    {
     "data": {
      "text/plain": [
       "[0.22372987319497353, 0.91433334]"
      ]
     },
     "execution_count": 28,
     "metadata": {},
     "output_type": "execute_result"
    }
   ],
   "source": [
    "model.evaluate(test)"
   ]
  },
  {
   "cell_type": "code",
   "execution_count": 29,
   "metadata": {},
   "outputs": [
    {
     "data": {
      "image/png": "[encoded data removed]",
      "text/plain": [
       "<Figure size 432x288 with 1 Axes>"
      ]
     },
     "metadata": {
      "needs_background": "light"
     },
     "output_type": "display_data"
    },
    {
     "data": {
      "image/png": "[encoded data removed]",
      "text/plain": [
       "<Figure size 432x288 with 1 Axes>"
      ]
     },
     "metadata": {
      "needs_background": "light"
     },
     "output_type": "display_data"
    }
   ],
   "source": [
    "import matplotlib.pyplot as plt\n",
    "\n",
    "# summarize history for accuracy\n",
    "plt.plot(history.history['acc'])\n",
    "plt.plot(history.history['val_acc'])\n",
    "plt.title('model accuracy')\n",
    "plt.ylabel('accuracy')\n",
    "plt.xlabel('epoch')\n",
    "plt.legend(['Train', 'Validation'], loc='upper left')\n",
    "plt.show()\n",
    "# summarize history for loss\n",
    "plt.plot(history.history['loss'])\n",
    "plt.plot(history.history['val_loss'])\n",
    "plt.title('model loss')\n",
    "plt.ylabel('loss')\n",
    "plt.xlabel('epoch')\n",
    "plt.legend(['Train', 'Validation'], loc='upper left')\n",
    "plt.show()"
   ]
  },
  {
   "cell_type": "code",
   "execution_count": 30,
   "metadata": {},
   "outputs": [
    {
     "data": {
      "text/plain": [
       "'savedModels/Intel_Resnet_adam'"
      ]
     },
     "execution_count": 30,
     "metadata": {},
     "output_type": "execute_result"
    }
   ],
   "source": [
    "import time\n",
    "import datetime\n",
    "\n",
    "t = time.time()\n",
    "\n",
    "export_path = \"savedModels/Intel_Resnet_adam\"\n",
    "model.save(export_path)\n",
    "\n",
    "export_path"
   ]
  },
  {
   "cell_type": "code",
   "execution_count": 31,
   "metadata": {},
   "outputs": [
    {
     "name": "stdout",
     "output_type": "stream",
     "text": [
      "94/94 [==============================] - 10s 107ms/step - loss: 0.2236 - acc: 0.9143\n"
     ]
    },
    {
     "data": {
      "text/plain": [
       "[0.22355147756319096, 0.91433334]"
      ]
     },
     "execution_count": 31,
     "metadata": {},
     "output_type": "execute_result"
    }
   ],
   "source": [
    "export_path = \"savedModels/Intel_Resnet_adam\"\n",
    "reloaded = tf.keras.models.load_model(export_path,custom_objects={'KerasLayer':hub.KerasLayer})\n",
    "\n",
    "reloaded.evaluate(test)"
   ]
  },
  {
   "cell_type": "markdown",
   "metadata": {},
   "source": [
    "# SGD Optimizer (ResNet)"
   ]
  },
  {
   "cell_type": "code",
   "execution_count": 10,
   "metadata": {},
   "outputs": [
    {
     "name": "stderr",
     "output_type": "stream",
     "text": [
      "2022-06-06 21:08:59.629069: I tensorflow/stream_executor/cuda/cuda_gpu_executor.cc:983] successful NUMA node read from SysFS had negative value (-1), but there must be at least one NUMA node, so returning NUMA node zero\n",
      "2022-06-06 21:08:59.630314: I tensorflow/core/common_runtime/gpu/gpu_device.cc:1618] Found device 0 with properties: \n",
      "name: TITAN Xp major: 6 minor: 1 memoryClockRate(GHz): 1.582\n",
      "pciBusID: 0000:01:00.0\n",
      "2022-06-06 21:08:59.630373: I tensorflow/stream_executor/platform/default/dso_loader.cc:44] Successfully opened dynamic library libcudart.so.10.0\n",
      "2022-06-06 21:08:59.630406: I tensorflow/stream_executor/platform/default/dso_loader.cc:44] Successfully opened dynamic library libcublas.so.10.0\n",
      "2022-06-06 21:08:59.630434: I tensorflow/stream_executor/platform/default/dso_loader.cc:44] Successfully opened dynamic library libcufft.so.10.0\n",
      "2022-06-06 21:08:59.630463: I tensorflow/stream_executor/platform/default/dso_loader.cc:44] Successfully opened dynamic library libcurand.so.10.0\n",
      "2022-06-06 21:08:59.630492: I tensorflow/stream_executor/platform/default/dso_loader.cc:44] Successfully opened dynamic library libcusolver.so.10.0\n",
      "2022-06-06 21:08:59.630520: I tensorflow/stream_executor/platform/default/dso_loader.cc:44] Successfully opened dynamic library libcusparse.so.10.0\n",
      "2022-06-06 21:08:59.630549: I tensorflow/stream_executor/platform/default/dso_loader.cc:44] Successfully opened dynamic library libcudnn.so.7\n",
      "2022-06-06 21:08:59.630643: I tensorflow/stream_executor/cuda/cuda_gpu_executor.cc:983] successful NUMA node read from SysFS had negative value (-1), but there must be at least one NUMA node, so returning NUMA node zero\n",
      "2022-06-06 21:08:59.631862: I tensorflow/stream_executor/cuda/cuda_gpu_executor.cc:983] successful NUMA node read from SysFS had negative value (-1), but there must be at least one NUMA node, so returning NUMA node zero\n",
      "2022-06-06 21:08:59.633052: I tensorflow/core/common_runtime/gpu/gpu_device.cc:1746] Adding visible gpu devices: 0\n",
      "2022-06-06 21:08:59.633089: I tensorflow/core/common_runtime/gpu/gpu_device.cc:1159] Device interconnect StreamExecutor with strength 1 edge matrix:\n",
      "2022-06-06 21:08:59.633102: I tensorflow/core/common_runtime/gpu/gpu_device.cc:1165]      0 \n",
      "2022-06-06 21:08:59.633112: I tensorflow/core/common_runtime/gpu/gpu_device.cc:1178] 0:   N \n",
      "2022-06-06 21:08:59.633238: I tensorflow/stream_executor/cuda/cuda_gpu_executor.cc:983] successful NUMA node read from SysFS had negative value (-1), but there must be at least one NUMA node, so returning NUMA node zero\n",
      "2022-06-06 21:08:59.634488: I tensorflow/stream_executor/cuda/cuda_gpu_executor.cc:983] successful NUMA node read from SysFS had negative value (-1), but there must be at least one NUMA node, so returning NUMA node zero\n",
      "2022-06-06 21:08:59.635683: I tensorflow/core/common_runtime/gpu/gpu_device.cc:1304] Created TensorFlow device (/job:localhost/replica:0/task:0/device:GPU:0 with 11437 MB memory) -> physical GPU (device: 0, name: TITAN Xp, pci bus id: 0000:01:00.0, compute capability: 6.1)\n"
     ]
    },
    {
     "name": "stdout",
     "output_type": "stream",
     "text": [
      "Model: \"sequential\"\n",
      "_________________________________________________________________\n",
      "Layer (type)                 Output Shape              Param #   \n",
      "=================================================================\n",
      "keras_layer (KerasLayer)     (None, 2048)              23564800  \n",
      "_________________________________________________________________\n",
      "dense (Dense)                (None, 6)                 12294     \n",
      "=================================================================\n",
      "Total params: 23,577,094\n",
      "Trainable params: 12,294\n",
      "Non-trainable params: 23,564,800\n",
      "_________________________________________________________________\n"
     ]
    }
   ],
   "source": [
    "num_of_classes = 6\n",
    "\n",
    "model = tf.keras.Sequential([\n",
    "  pretrained_model_without_top_layer,\n",
    "  tf.keras.layers.Dense(num_of_classes)\n",
    "])\n",
    "\n",
    "model.summary()"
   ]
  },
  {
   "cell_type": "code",
   "execution_count": 11,
   "metadata": {},
   "outputs": [
    {
     "name": "stderr",
     "output_type": "stream",
     "text": [
      "2022-06-06 21:09:13.040945: I tensorflow/stream_executor/cuda/cuda_gpu_executor.cc:983] successful NUMA node read from SysFS had negative value (-1), but there must be at least one NUMA node, so returning NUMA node zero\n",
      "2022-06-06 21:09:13.042309: I tensorflow/core/common_runtime/gpu/gpu_device.cc:1618] Found device 0 with properties: \n",
      "name: TITAN Xp major: 6 minor: 1 memoryClockRate(GHz): 1.582\n",
      "pciBusID: 0000:01:00.0\n",
      "2022-06-06 21:09:13.042387: I tensorflow/stream_executor/platform/default/dso_loader.cc:44] Successfully opened dynamic library libcudart.so.10.0\n",
      "2022-06-06 21:09:13.042427: I tensorflow/stream_executor/platform/default/dso_loader.cc:44] Successfully opened dynamic library libcublas.so.10.0\n",
      "2022-06-06 21:09:13.042460: I tensorflow/stream_executor/platform/default/dso_loader.cc:44] Successfully opened dynamic library libcufft.so.10.0\n",
      "2022-06-06 21:09:13.042492: I tensorflow/stream_executor/platform/default/dso_loader.cc:44] Successfully opened dynamic library libcurand.so.10.0\n",
      "2022-06-06 21:09:13.042524: I tensorflow/stream_executor/platform/default/dso_loader.cc:44] Successfully opened dynamic library libcusolver.so.10.0\n",
      "2022-06-06 21:09:13.042555: I tensorflow/stream_executor/platform/default/dso_loader.cc:44] Successfully opened dynamic library libcusparse.so.10.0\n",
      "2022-06-06 21:09:13.042588: I tensorflow/stream_executor/platform/default/dso_loader.cc:44] Successfully opened dynamic library libcudnn.so.7\n",
      "2022-06-06 21:09:13.042691: I tensorflow/stream_executor/cuda/cuda_gpu_executor.cc:983] successful NUMA node read from SysFS had negative value (-1), but there must be at least one NUMA node, so returning NUMA node zero\n",
      "2022-06-06 21:09:13.044010: I tensorflow/stream_executor/cuda/cuda_gpu_executor.cc:983] successful NUMA node read from SysFS had negative value (-1), but there must be at least one NUMA node, so returning NUMA node zero\n",
      "2022-06-06 21:09:13.045245: I tensorflow/core/common_runtime/gpu/gpu_device.cc:1746] Adding visible gpu devices: 0\n",
      "2022-06-06 21:09:13.045301: I tensorflow/core/common_runtime/gpu/gpu_device.cc:1159] Device interconnect StreamExecutor with strength 1 edge matrix:\n",
      "2022-06-06 21:09:13.045328: I tensorflow/core/common_runtime/gpu/gpu_device.cc:1165]      0 \n",
      "2022-06-06 21:09:13.045347: I tensorflow/core/common_runtime/gpu/gpu_device.cc:1178] 0:   N \n",
      "2022-06-06 21:09:13.045516: I tensorflow/stream_executor/cuda/cuda_gpu_executor.cc:983] successful NUMA node read from SysFS had negative value (-1), but there must be at least one NUMA node, so returning NUMA node zero\n",
      "2022-06-06 21:09:13.046819: I tensorflow/stream_executor/cuda/cuda_gpu_executor.cc:983] successful NUMA node read from SysFS had negative value (-1), but there must be at least one NUMA node, so returning NUMA node zero\n",
      "2022-06-06 21:09:13.048056: I tensorflow/core/common_runtime/gpu/gpu_device.cc:1304] Created TensorFlow device (/job:localhost/replica:0/task:0/device:GPU:0 with 11437 MB memory) -> physical GPU (device: 0, name: TITAN Xp, pci bus id: 0000:01:00.0, compute capability: 6.1)\n"
     ]
    },
    {
     "name": "stdout",
     "output_type": "stream",
     "text": [
      "Epoch 1/10\n"
     ]
    },
    {
     "name": "stderr",
     "output_type": "stream",
     "text": [
      "2022-06-06 21:09:17.837494: I tensorflow/stream_executor/platform/default/dso_loader.cc:44] Successfully opened dynamic library libcublas.so.10.0\n",
      "2022-06-06 21:09:18.476072: I tensorflow/stream_executor/platform/default/dso_loader.cc:44] Successfully opened dynamic library libcudnn.so.7\n"
     ]
    },
    {
     "name": "stdout",
     "output_type": "stream",
     "text": [
      "438/439 [============================>.] - ETA: 0s - loss: 0.3195 - acc: 0.8843Epoch 1/10\n",
      "439/439 [==============================] - 33s 76ms/step - loss: 0.3191 - acc: 0.8844 - val_loss: 0.2473 - val_acc: 0.9045\n",
      "Epoch 2/10\n",
      "438/439 [============================>.] - ETA: 0s - loss: 0.2365 - acc: 0.9117Epoch 1/10\n",
      "439/439 [==============================] - 27s 62ms/step - loss: 0.2362 - acc: 0.9117 - val_loss: 0.2429 - val_acc: 0.9010\n",
      "Epoch 3/10\n",
      "438/439 [============================>.] - ETA: 0s - loss: 0.2164 - acc: 0.9207Epoch 1/10\n",
      "439/439 [==============================] - 27s 61ms/step - loss: 0.2161 - acc: 0.9208 - val_loss: 0.2197 - val_acc: 0.9184\n",
      "Epoch 4/10\n",
      "438/439 [============================>.] - ETA: 0s - loss: 0.2058 - acc: 0.9250Epoch 1/10\n",
      "439/439 [==============================] - 27s 62ms/step - loss: 0.2058 - acc: 0.9250 - val_loss: 0.2242 - val_acc: 0.9167\n",
      "Epoch 5/10\n",
      "438/439 [============================>.] - ETA: 0s - loss: 0.1980 - acc: 0.9277Epoch 1/10\n",
      "439/439 [==============================] - 27s 62ms/step - loss: 0.1978 - acc: 0.9278 - val_loss: 0.2179 - val_acc: 0.9184\n",
      "Epoch 6/10\n",
      "438/439 [============================>.] - ETA: 0s - loss: 0.1911 - acc: 0.9309Epoch 1/10\n",
      "439/439 [==============================] - 27s 62ms/step - loss: 0.1908 - acc: 0.9310 - val_loss: 0.2139 - val_acc: 0.9184\n",
      "Epoch 7/10\n",
      "438/439 [============================>.] - ETA: 0s - loss: 0.1830 - acc: 0.9339Epoch 1/10\n",
      "439/439 [==============================] - 28s 64ms/step - loss: 0.1834 - acc: 0.9337 - val_loss: 0.2390 - val_acc: 0.9062\n",
      "Epoch 8/10\n",
      "438/439 [============================>.] - ETA: 0s - loss: 0.1808 - acc: 0.9357Epoch 1/10\n",
      "439/439 [==============================] - 28s 64ms/step - loss: 0.1809 - acc: 0.9357 - val_loss: 0.2061 - val_acc: 0.9288\n",
      "Epoch 9/10\n",
      "438/439 [============================>.] - ETA: 0s - loss: 0.1756 - acc: 0.9368Epoch 1/10\n",
      "439/439 [==============================] - 28s 63ms/step - loss: 0.1753 - acc: 0.9369 - val_loss: 0.2053 - val_acc: 0.9288\n",
      "Epoch 10/10\n",
      "438/439 [============================>.] - ETA: 0s - loss: 0.1704 - acc: 0.9380Epoch 1/10\n",
      "439/439 [==============================] - 28s 63ms/step - loss: 0.1707 - acc: 0.9379 - val_loss: 0.2248 - val_acc: 0.9132\n"
     ]
    }
   ],
   "source": [
    "model.compile(\n",
    "  optimizer=\"SGD\",\n",
    "  loss=tf.keras.losses.CategoricalCrossentropy(from_logits=True),\n",
    "  metrics=['acc'])\n",
    "\n",
    "history = model.fit(train, epochs=10, verbose=1, steps_per_epoch=len(train), \n",
    "         validation_data=test, validation_steps= int(0.2*len(test)))"
   ]
  },
  {
   "cell_type": "code",
   "execution_count": 12,
   "metadata": {},
   "outputs": [
    {
     "name": "stdout",
     "output_type": "stream",
     "text": [
      "94/94 [==============================] - 8s 90ms/step - loss: 0.2196 - acc: 0.9170\n"
     ]
    },
    {
     "data": {
      "text/plain": [
       "[0.2196206596699801, 0.917]"
      ]
     },
     "execution_count": 12,
     "metadata": {},
     "output_type": "execute_result"
    }
   ],
   "source": [
    "model.evaluate(test)"
   ]
  },
  {
   "cell_type": "code",
   "execution_count": 13,
   "metadata": {},
   "outputs": [
    {
     "data": {
      "image/png": "[encoded data removed]",
      "text/plain": [
       "<Figure size 432x288 with 1 Axes>"
      ]
     },
     "metadata": {
      "needs_background": "light"
     },
     "output_type": "display_data"
    },
    {
     "data": {
      "image/png": "[encoded data removed]",
      "text/plain": [
       "<Figure size 432x288 with 1 Axes>"
      ]
     },
     "metadata": {
      "needs_background": "light"
     },
     "output_type": "display_data"
    }
   ],
   "source": [
    "import matplotlib.pyplot as plt\n",
    "\n",
    "# summarize history for accuracy\n",
    "plt.plot(history.history['acc'])\n",
    "plt.plot(history.history['val_acc'])\n",
    "plt.title('model accuracy')\n",
    "plt.ylabel('accuracy')\n",
    "plt.xlabel('epoch')\n",
    "plt.legend(['Train', 'Validation'], loc='upper left')\n",
    "plt.show()\n",
    "# summarize history for loss\n",
    "plt.plot(history.history['loss'])\n",
    "plt.plot(history.history['val_loss'])\n",
    "plt.title('model loss')\n",
    "plt.ylabel('loss')\n",
    "plt.xlabel('epoch')\n",
    "plt.legend(['Train', 'Validation'], loc='upper left')\n",
    "plt.show()"
   ]
  },
  {
   "cell_type": "code",
   "execution_count": 14,
   "metadata": {},
   "outputs": [
    {
     "data": {
      "text/plain": [
       "'savedModels/Intel_Resnet_Sgd'"
      ]
     },
     "execution_count": 14,
     "metadata": {},
     "output_type": "execute_result"
    }
   ],
   "source": [
    "import time\n",
    "import datetime\n",
    "\n",
    "t = time.time()\n",
    "\n",
    "export_path = \"savedModels/Intel_Resnet_Sgd\"\n",
    "model.save(export_path)\n",
    "\n",
    "export_path"
   ]
  },
  {
   "cell_type": "code",
   "execution_count": 15,
   "metadata": {},
   "outputs": [
    {
     "name": "stdout",
     "output_type": "stream",
     "text": [
      "WARNING:tensorflow:From /home/ge67per/.local/lib/python3.7/site-packages/tensorflow_core/python/ops/init_ops.py:97: calling GlorotUniform.__init__ (from tensorflow.python.ops.init_ops) with dtype is deprecated and will be removed in a future version.\n",
      "Instructions for updating:\n",
      "Call initializer instance with the dtype argument instead of passing it to the constructor\n"
     ]
    },
    {
     "name": "stderr",
     "output_type": "stream",
     "text": [
      "WARNING:tensorflow:From /home/ge67per/.local/lib/python3.7/site-packages/tensorflow_core/python/ops/init_ops.py:97: calling GlorotUniform.__init__ (from tensorflow.python.ops.init_ops) with dtype is deprecated and will be removed in a future version.\n",
      "Instructions for updating:\n",
      "Call initializer instance with the dtype argument instead of passing it to the constructor\n"
     ]
    },
    {
     "name": "stdout",
     "output_type": "stream",
     "text": [
      "WARNING:tensorflow:From /home/ge67per/.local/lib/python3.7/site-packages/tensorflow_core/python/ops/init_ops.py:97: calling Zeros.__init__ (from tensorflow.python.ops.init_ops) with dtype is deprecated and will be removed in a future version.\n",
      "Instructions for updating:\n",
      "Call initializer instance with the dtype argument instead of passing it to the constructor\n"
     ]
    },
    {
     "name": "stderr",
     "output_type": "stream",
     "text": [
      "WARNING:tensorflow:From /home/ge67per/.local/lib/python3.7/site-packages/tensorflow_core/python/ops/init_ops.py:97: calling Zeros.__init__ (from tensorflow.python.ops.init_ops) with dtype is deprecated and will be removed in a future version.\n",
      "Instructions for updating:\n",
      "Call initializer instance with the dtype argument instead of passing it to the constructor\n"
     ]
    },
    {
     "name": "stdout",
     "output_type": "stream",
     "text": [
      "94/94 [==============================] - 14s 144ms/step - loss: 0.2201 - acc: 0.9170\n"
     ]
    },
    {
     "data": {
      "text/plain": [
       "[0.22010378501913014, 0.917]"
      ]
     },
     "execution_count": 15,
     "metadata": {},
     "output_type": "execute_result"
    }
   ],
   "source": [
    "export_path = \"savedModels/Intel_Resnet_Sgd\"\n",
    "reloaded = tf.keras.models.load_model(export_path,custom_objects={'KerasLayer':hub.KerasLayer})\n",
    "\n",
    "reloaded.evaluate(test)"
   ]
  },
  {
   "cell_type": "markdown",
   "metadata": {},
   "source": [
    "# "
   ]
  },
  {
   "cell_type": "markdown",
   "metadata": {},
   "source": [
    "# Newton Optimizer (ResNet)"
   ]
  },
  {
   "cell_type": "code",
   "execution_count": 84,
   "metadata": {},
   "outputs": [],
   "source": [
    "import newton_cg as es"
   ]
  },
  {
   "cell_type": "code",
   "execution_count": 85,
   "metadata": {},
   "outputs": [
    {
     "name": "stdout",
     "output_type": "stream",
     "text": [
      "Model: \"sequential_15\"\n",
      "_________________________________________________________________\n",
      "Layer (type)                 Output Shape              Param #   \n",
      "=================================================================\n",
      "keras_layer_1 (KerasLayer)   (None, 2048)              23564800  \n",
      "_________________________________________________________________\n",
      "dense_15 (Dense)             (None, 6)                 12294     \n",
      "=================================================================\n",
      "Total params: 23,577,094\n",
      "Trainable params: 12,294\n",
      "Non-trainable params: 23,564,800\n",
      "_________________________________________________________________\n"
     ]
    }
   ],
   "source": [
    "num_of_classes = 6\n",
    "\n",
    "model = tf.keras.Sequential([\n",
    "  pretrained_model_without_top_layer,\n",
    "  tf.keras.layers.Dense(num_of_classes)\n",
    "])\n",
    "\n",
    "model.summary()"
   ]
  },
  {
   "cell_type": "code",
   "execution_count": 86,
   "metadata": {},
   "outputs": [
    {
     "name": "stdout",
     "output_type": "stream",
     "text": [
      "Epoch 1/10\n",
      "eso._resource_compute_dense() called.\n",
      "eso._resource_compute_dense() FINISHED.\n",
      "eso._resource_compute_dense() called.\n",
      "eso._resource_compute_dense() FINISHED.\n",
      "438/439 [============================>.] - ETA: 0s - loss: 1.4739 - acc: 0.3778Epoch 1/10\n",
      "439/439 [==============================] - 41s 94ms/step - loss: 1.4731 - acc: 0.3786 - val_loss: 1.1226 - val_acc: 0.6094\n",
      "Epoch 2/10\n",
      "438/439 [============================>.] - ETA: 0s - loss: 0.9473 - acc: 0.7025Epoch 1/10\n",
      "439/439 [==============================] - 32s 72ms/step - loss: 0.9472 - acc: 0.7024 - val_loss: 0.8119 - val_acc: 0.7535\n",
      "Epoch 3/10\n",
      "438/439 [============================>.] - ETA: 0s - loss: 0.7233 - acc: 0.8022Epoch 1/10\n",
      "439/439 [==============================] - 32s 72ms/step - loss: 0.7229 - acc: 0.8024 - val_loss: 0.6427 - val_acc: 0.8194\n",
      "Epoch 4/10\n",
      "438/439 [============================>.] - ETA: 0s - loss: 0.5931 - acc: 0.8378Epoch 1/10\n",
      "439/439 [==============================] - 32s 72ms/step - loss: 0.5927 - acc: 0.8380 - val_loss: 0.5392 - val_acc: 0.8507\n",
      "Epoch 5/10\n",
      "438/439 [============================>.] - ETA: 0s - loss: 0.5069 - acc: 0.8568Epoch 1/10\n",
      "439/439 [==============================] - 32s 73ms/step - loss: 0.5069 - acc: 0.8568 - val_loss: 0.4674 - val_acc: 0.8628\n",
      "Epoch 6/10\n",
      "438/439 [============================>.] - ETA: 0s - loss: 0.4473 - acc: 0.8687Epoch 1/10\n",
      "439/439 [==============================] - 32s 74ms/step - loss: 0.4474 - acc: 0.8687 - val_loss: 0.4163 - val_acc: 0.8698\n",
      "Epoch 7/10\n",
      "438/439 [============================>.] - ETA: 0s - loss: 0.4040 - acc: 0.8759Epoch 1/10\n",
      "439/439 [==============================] - 32s 74ms/step - loss: 0.4042 - acc: 0.8757 - val_loss: 0.3784 - val_acc: 0.8785\n",
      "Epoch 8/10\n",
      "438/439 [============================>.] - ETA: 0s - loss: 0.3724 - acc: 0.8822Epoch 1/10\n",
      "439/439 [==============================] - 32s 74ms/step - loss: 0.3721 - acc: 0.8823 - val_loss: 0.3510 - val_acc: 0.8837\n",
      "Epoch 9/10\n",
      "438/439 [============================>.] - ETA: 0s - loss: 0.3471 - acc: 0.8872Epoch 1/10\n",
      "439/439 [==============================] - 32s 74ms/step - loss: 0.3469 - acc: 0.8873 - val_loss: 0.3279 - val_acc: 0.8837\n",
      "Epoch 10/10\n",
      "438/439 [============================>.] - ETA: 0s - loss: 0.3274 - acc: 0.8904Epoch 1/10\n",
      "439/439 [==============================] - 33s 75ms/step - loss: 0.3274 - acc: 0.8903 - val_loss: 0.3107 - val_acc: 0.8889\n"
     ]
    }
   ],
   "source": [
    "newton_opt = es.EHNewtonOptimizer(0.001)\n",
    "\n",
    "model.compile(\n",
    "  optimizer=newton_opt,\n",
    "  loss=tf.keras.losses.CategoricalCrossentropy(from_logits=True),\n",
    "  metrics=['acc'])\n",
    "\n",
    "history = model.fit(train, epochs=10, verbose=1, steps_per_epoch=len(train), \n",
    "         validation_data=test, validation_steps= int(0.2*len(test)))"
   ]
  },
  {
   "cell_type": "code",
   "execution_count": 87,
   "metadata": {},
   "outputs": [
    {
     "name": "stdout",
     "output_type": "stream",
     "text": [
      "94/94 [==============================] - 6s 60ms/step - loss: 0.3196 - acc: 0.8963\n"
     ]
    },
    {
     "data": {
      "text/plain": [
       "[0.31961870304447537, 0.89633334]"
      ]
     },
     "execution_count": 87,
     "metadata": {},
     "output_type": "execute_result"
    }
   ],
   "source": [
    "model.evaluate(test)"
   ]
  },
  {
   "cell_type": "code",
   "execution_count": 88,
   "metadata": {},
   "outputs": [
    {
     "data": {
      "image/png": "[encoded data removed]",
      "text/plain": [
       "<Figure size 432x288 with 1 Axes>"
      ]
     },
     "metadata": {
      "needs_background": "light"
     },
     "output_type": "display_data"
    },
    {
     "data": {
      "image/png": "[encoded data removed]",
      "text/plain": [
       "<Figure size 432x288 with 1 Axes>"
      ]
     },
     "metadata": {
      "needs_background": "light"
     },
     "output_type": "display_data"
    }
   ],
   "source": [
    "import matplotlib.pyplot as plt\n",
    "\n",
    "# summarize history for accuracy\n",
    "plt.plot(history.history['acc'])\n",
    "plt.plot(history.history['val_acc'])\n",
    "plt.title('model accuracy')\n",
    "plt.ylabel('accuracy')\n",
    "plt.xlabel('epoch')\n",
    "plt.legend(['Train', 'Validation'], loc='upper left')\n",
    "plt.show()\n",
    "# summarize history for loss\n",
    "plt.plot(history.history['loss'])\n",
    "plt.plot(history.history['val_loss'])\n",
    "plt.title('model loss')\n",
    "plt.ylabel('loss')\n",
    "plt.xlabel('epoch')\n",
    "plt.legend(['Train', 'Validation'], loc='upper left')\n",
    "plt.show()"
   ]
  },
  {
   "cell_type": "code",
   "execution_count": 89,
   "metadata": {},
   "outputs": [
    {
     "data": {
      "text/plain": [
       "'savedModels/Intel_Resnet_newton'"
      ]
     },
     "execution_count": 89,
     "metadata": {},
     "output_type": "execute_result"
    }
   ],
   "source": [
    "import time\n",
    "import datetime\n",
    "\n",
    "t = time.time()\n",
    "\n",
    "export_path = \"savedModels/Intel_Resnet_newton\"\n",
    "model.save(export_path)\n",
    "\n",
    "export_path"
   ]
  },
  {
   "cell_type": "code",
   "execution_count": null,
   "metadata": {},
   "outputs": [],
   "source": [
    "export_path = \"savedModels/Intel_Resnet_newton\"\n",
    "reloaded = tf.keras.models.load_model(export_path,custom_objects={'KerasLayer':hub.KerasLayer})\n",
    "\n",
    "reloaded.evaluate(test)"
   ]
  },
  {
   "cell_type": "code",
   "execution_count": null,
   "metadata": {},
   "outputs": [],
   "source": []
  },
  {
   "cell_type": "markdown",
   "metadata": {},
   "source": [
    "# -----------------------------------------------------------------"
   ]
  },
  {
   "cell_type": "markdown",
   "metadata": {},
   "source": [
    "# NasNet Model"
   ]
  },
  {
   "cell_type": "code",
   "execution_count": 101,
   "metadata": {},
   "outputs": [],
   "source": [
    "feature_extractor_model = \"https://tfhub.dev/google/imagenet/nasnet_mobile/feature_vector/5\"\n",
    "\n",
    "pretrained_model_without_top_layer = hub.KerasLayer(\n",
    "    feature_extractor_model, input_shape=(224, 224, 3), trainable=False)"
   ]
  },
  {
   "cell_type": "markdown",
   "metadata": {},
   "source": [
    "# Adam Optimizer (NasNet)"
   ]
  },
  {
   "cell_type": "code",
   "execution_count": 11,
   "metadata": {},
   "outputs": [
    {
     "name": "stderr",
     "output_type": "stream",
     "text": [
      "2022-06-06 18:45:40.428341: I tensorflow/stream_executor/cuda/cuda_gpu_executor.cc:983] successful NUMA node read from SysFS had negative value (-1), but there must be at least one NUMA node, so returning NUMA node zero\n",
      "2022-06-06 18:45:40.429583: I tensorflow/core/common_runtime/gpu/gpu_device.cc:1618] Found device 0 with properties: \n",
      "name: TITAN Xp major: 6 minor: 1 memoryClockRate(GHz): 1.582\n",
      "pciBusID: 0000:01:00.0\n",
      "2022-06-06 18:45:40.429643: I tensorflow/stream_executor/platform/default/dso_loader.cc:44] Successfully opened dynamic library libcudart.so.10.0\n",
      "2022-06-06 18:45:40.429677: I tensorflow/stream_executor/platform/default/dso_loader.cc:44] Successfully opened dynamic library libcublas.so.10.0\n",
      "2022-06-06 18:45:40.429707: I tensorflow/stream_executor/platform/default/dso_loader.cc:44] Successfully opened dynamic library libcufft.so.10.0\n",
      "2022-06-06 18:45:40.429735: I tensorflow/stream_executor/platform/default/dso_loader.cc:44] Successfully opened dynamic library libcurand.so.10.0\n",
      "2022-06-06 18:45:40.429765: I tensorflow/stream_executor/platform/default/dso_loader.cc:44] Successfully opened dynamic library libcusolver.so.10.0\n",
      "2022-06-06 18:45:40.429806: I tensorflow/stream_executor/platform/default/dso_loader.cc:44] Successfully opened dynamic library libcusparse.so.10.0\n",
      "2022-06-06 18:45:40.429837: I tensorflow/stream_executor/platform/default/dso_loader.cc:44] Successfully opened dynamic library libcudnn.so.7\n",
      "2022-06-06 18:45:40.429931: I tensorflow/stream_executor/cuda/cuda_gpu_executor.cc:983] successful NUMA node read from SysFS had negative value (-1), but there must be at least one NUMA node, so returning NUMA node zero\n",
      "2022-06-06 18:45:40.431150: I tensorflow/stream_executor/cuda/cuda_gpu_executor.cc:983] successful NUMA node read from SysFS had negative value (-1), but there must be at least one NUMA node, so returning NUMA node zero\n",
      "2022-06-06 18:45:40.432339: I tensorflow/core/common_runtime/gpu/gpu_device.cc:1746] Adding visible gpu devices: 0\n",
      "2022-06-06 18:45:40.432376: I tensorflow/core/common_runtime/gpu/gpu_device.cc:1159] Device interconnect StreamExecutor with strength 1 edge matrix:\n",
      "2022-06-06 18:45:40.432390: I tensorflow/core/common_runtime/gpu/gpu_device.cc:1165]      0 \n",
      "2022-06-06 18:45:40.432400: I tensorflow/core/common_runtime/gpu/gpu_device.cc:1178] 0:   N \n",
      "2022-06-06 18:45:40.432528: I tensorflow/stream_executor/cuda/cuda_gpu_executor.cc:983] successful NUMA node read from SysFS had negative value (-1), but there must be at least one NUMA node, so returning NUMA node zero\n",
      "2022-06-06 18:45:40.433753: I tensorflow/stream_executor/cuda/cuda_gpu_executor.cc:983] successful NUMA node read from SysFS had negative value (-1), but there must be at least one NUMA node, so returning NUMA node zero\n",
      "2022-06-06 18:45:40.434953: I tensorflow/core/common_runtime/gpu/gpu_device.cc:1304] Created TensorFlow device (/job:localhost/replica:0/task:0/device:GPU:0 with 11437 MB memory) -> physical GPU (device: 0, name: TITAN Xp, pci bus id: 0000:01:00.0, compute capability: 6.1)\n"
     ]
    },
    {
     "name": "stdout",
     "output_type": "stream",
     "text": [
      "Model: \"sequential\"\n",
      "_________________________________________________________________\n",
      "Layer (type)                 Output Shape              Param #   \n",
      "=================================================================\n",
      "keras_layer (KerasLayer)     (None, 1056)              4269716   \n",
      "_________________________________________________________________\n",
      "dense (Dense)                (None, 6)                 6342      \n",
      "=================================================================\n",
      "Total params: 4,276,058\n",
      "Trainable params: 6,342\n",
      "Non-trainable params: 4,269,716\n",
      "_________________________________________________________________\n"
     ]
    }
   ],
   "source": [
    "num_of_classes = 6\n",
    "\n",
    "model = tf.keras.Sequential([\n",
    "  pretrained_model_without_top_layer,\n",
    "  tf.keras.layers.Dense(num_of_classes)\n",
    "])\n",
    "\n",
    "model.summary()"
   ]
  },
  {
   "cell_type": "code",
   "execution_count": 12,
   "metadata": {},
   "outputs": [
    {
     "name": "stderr",
     "output_type": "stream",
     "text": [
      "2022-06-06 18:46:46.518255: I tensorflow/stream_executor/cuda/cuda_gpu_executor.cc:983] successful NUMA node read from SysFS had negative value (-1), but there must be at least one NUMA node, so returning NUMA node zero\n",
      "2022-06-06 18:46:46.519660: I tensorflow/core/common_runtime/gpu/gpu_device.cc:1618] Found device 0 with properties: \n",
      "name: TITAN Xp major: 6 minor: 1 memoryClockRate(GHz): 1.582\n",
      "pciBusID: 0000:01:00.0\n",
      "2022-06-06 18:46:46.519784: I tensorflow/stream_executor/platform/default/dso_loader.cc:44] Successfully opened dynamic library libcudart.so.10.0\n",
      "2022-06-06 18:46:46.519850: I tensorflow/stream_executor/platform/default/dso_loader.cc:44] Successfully opened dynamic library libcublas.so.10.0\n",
      "2022-06-06 18:46:46.519913: I tensorflow/stream_executor/platform/default/dso_loader.cc:44] Successfully opened dynamic library libcufft.so.10.0\n",
      "2022-06-06 18:46:46.519974: I tensorflow/stream_executor/platform/default/dso_loader.cc:44] Successfully opened dynamic library libcurand.so.10.0\n",
      "2022-06-06 18:46:46.520034: I tensorflow/stream_executor/platform/default/dso_loader.cc:44] Successfully opened dynamic library libcusolver.so.10.0\n",
      "2022-06-06 18:46:46.520094: I tensorflow/stream_executor/platform/default/dso_loader.cc:44] Successfully opened dynamic library libcusparse.so.10.0\n",
      "2022-06-06 18:46:46.520154: I tensorflow/stream_executor/platform/default/dso_loader.cc:44] Successfully opened dynamic library libcudnn.so.7\n",
      "2022-06-06 18:46:46.520321: I tensorflow/stream_executor/cuda/cuda_gpu_executor.cc:983] successful NUMA node read from SysFS had negative value (-1), but there must be at least one NUMA node, so returning NUMA node zero\n",
      "2022-06-06 18:46:46.521759: I tensorflow/stream_executor/cuda/cuda_gpu_executor.cc:983] successful NUMA node read from SysFS had negative value (-1), but there must be at least one NUMA node, so returning NUMA node zero\n",
      "2022-06-06 18:46:46.523119: I tensorflow/core/common_runtime/gpu/gpu_device.cc:1746] Adding visible gpu devices: 0\n",
      "2022-06-06 18:46:46.523183: I tensorflow/core/common_runtime/gpu/gpu_device.cc:1159] Device interconnect StreamExecutor with strength 1 edge matrix:\n",
      "2022-06-06 18:46:46.523210: I tensorflow/core/common_runtime/gpu/gpu_device.cc:1165]      0 \n",
      "2022-06-06 18:46:46.523231: I tensorflow/core/common_runtime/gpu/gpu_device.cc:1178] 0:   N \n",
      "2022-06-06 18:46:46.523448: I tensorflow/stream_executor/cuda/cuda_gpu_executor.cc:983] successful NUMA node read from SysFS had negative value (-1), but there must be at least one NUMA node, so returning NUMA node zero\n",
      "2022-06-06 18:46:46.524902: I tensorflow/stream_executor/cuda/cuda_gpu_executor.cc:983] successful NUMA node read from SysFS had negative value (-1), but there must be at least one NUMA node, so returning NUMA node zero\n",
      "2022-06-06 18:46:46.526259: I tensorflow/core/common_runtime/gpu/gpu_device.cc:1304] Created TensorFlow device (/job:localhost/replica:0/task:0/device:GPU:0 with 11437 MB memory) -> physical GPU (device: 0, name: TITAN Xp, pci bus id: 0000:01:00.0, compute capability: 6.1)\n"
     ]
    },
    {
     "name": "stdout",
     "output_type": "stream",
     "text": [
      "Epoch 1/10\n"
     ]
    },
    {
     "name": "stderr",
     "output_type": "stream",
     "text": [
      "2022-06-06 18:47:09.515675: I tensorflow/stream_executor/platform/default/dso_loader.cc:44] Successfully opened dynamic library libcublas.so.10.0\n",
      "2022-06-06 18:47:12.537025: I tensorflow/stream_executor/platform/default/dso_loader.cc:44] Successfully opened dynamic library libcudnn.so.7\n"
     ]
    },
    {
     "name": "stdout",
     "output_type": "stream",
     "text": [
      "438/439 [============================>.] - ETA: 0s - loss: 0.3835 - acc: 0.8619Epoch 1/10\n",
      "439/439 [==============================] - 67s 153ms/step - loss: 0.3831 - acc: 0.8621 - val_loss: 0.2599 - val_acc: 0.8993\n",
      "Epoch 2/10\n",
      "437/439 [============================>.] - ETA: 0s - loss: 0.2509 - acc: 0.9065Epoch 1/10\n",
      "439/439 [==============================] - 35s 79ms/step - loss: 0.2508 - acc: 0.9067 - val_loss: 0.2432 - val_acc: 0.9167\n",
      "Epoch 3/10\n",
      "438/439 [============================>.] - ETA: 0s - loss: 0.2298 - acc: 0.9131Epoch 1/10\n",
      "439/439 [==============================] - 37s 84ms/step - loss: 0.2299 - acc: 0.9131 - val_loss: 0.2400 - val_acc: 0.9149\n",
      "Epoch 4/10\n",
      "438/439 [============================>.] - ETA: 0s - loss: 0.2163 - acc: 0.9176Epoch 1/10\n",
      "439/439 [==============================] - 35s 79ms/step - loss: 0.2160 - acc: 0.9177 - val_loss: 0.2232 - val_acc: 0.9236\n",
      "Epoch 5/10\n",
      "438/439 [============================>.] - ETA: 0s - loss: 0.2050 - acc: 0.9234Epoch 1/10\n",
      "439/439 [==============================] - 36s 81ms/step - loss: 0.2051 - acc: 0.9233 - val_loss: 0.2303 - val_acc: 0.9201\n",
      "Epoch 6/10\n",
      "438/439 [============================>.] - ETA: 0s - loss: 0.1974 - acc: 0.9274Epoch 1/10\n",
      "439/439 [==============================] - 35s 80ms/step - loss: 0.1977 - acc: 0.9272 - val_loss: 0.2279 - val_acc: 0.9167\n",
      "Epoch 7/10\n",
      "438/439 [============================>.] - ETA: 0s - loss: 0.1913 - acc: 0.9267Epoch 1/10\n",
      "439/439 [==============================] - 35s 79ms/step - loss: 0.1911 - acc: 0.9267 - val_loss: 0.2285 - val_acc: 0.9219\n",
      "Epoch 8/10\n",
      "438/439 [============================>.] - ETA: 0s - loss: 0.1837 - acc: 0.9312Epoch 1/10\n",
      "439/439 [==============================] - 35s 81ms/step - loss: 0.1838 - acc: 0.9312 - val_loss: 0.2284 - val_acc: 0.9184\n",
      "Epoch 9/10\n",
      "438/439 [============================>.] - ETA: 0s - loss: 0.1806 - acc: 0.9318Epoch 1/10\n",
      "439/439 [==============================] - 35s 81ms/step - loss: 0.1808 - acc: 0.9315 - val_loss: 0.2223 - val_acc: 0.9201\n",
      "Epoch 10/10\n",
      "438/439 [============================>.] - ETA: 0s - loss: 0.1762 - acc: 0.9350Epoch 1/10\n",
      "439/439 [==============================] - 36s 81ms/step - loss: 0.1762 - acc: 0.9349 - val_loss: 0.2227 - val_acc: 0.9201\n"
     ]
    }
   ],
   "source": [
    "model.compile(\n",
    "  optimizer=\"adam\",\n",
    "  loss=tf.keras.losses.CategoricalCrossentropy(from_logits=True),\n",
    "  metrics=['acc'])\n",
    "\n",
    "history = model.fit(train, epochs=10, verbose=1, steps_per_epoch=len(train), \n",
    "         validation_data=test, validation_steps= int(0.2*len(test)))"
   ]
  },
  {
   "cell_type": "code",
   "execution_count": 13,
   "metadata": {},
   "outputs": [
    {
     "name": "stdout",
     "output_type": "stream",
     "text": [
      "94/94 [==============================] - 8s 82ms/step - loss: 0.2337 - acc: 0.9150\n"
     ]
    },
    {
     "data": {
      "text/plain": [
       "[0.23374511325295935, 0.915]"
      ]
     },
     "execution_count": 13,
     "metadata": {},
     "output_type": "execute_result"
    }
   ],
   "source": [
    "model.evaluate(test)"
   ]
  },
  {
   "cell_type": "code",
   "execution_count": 14,
   "metadata": {},
   "outputs": [
    {
     "data": {
      "image/png": "[encoded data removed]",
      "text/plain": [
       "<Figure size 432x288 with 1 Axes>"
      ]
     },
     "metadata": {
      "needs_background": "light"
     },
     "output_type": "display_data"
    },
    {
     "data": {
      "image/png": "[encoded data removed]",
      "text/plain": [
       "<Figure size 432x288 with 1 Axes>"
      ]
     },
     "metadata": {
      "needs_background": "light"
     },
     "output_type": "display_data"
    }
   ],
   "source": [
    "import matplotlib.pyplot as plt\n",
    "\n",
    "# summarize history for accuracy\n",
    "plt.plot(history.history['acc'])\n",
    "plt.plot(history.history['val_acc'])\n",
    "plt.title('model accuracy')\n",
    "plt.ylabel('accuracy')\n",
    "plt.xlabel('epoch')\n",
    "plt.legend(['Train', 'Validation'], loc='upper left')\n",
    "plt.show()\n",
    "# summarize history for loss\n",
    "plt.plot(history.history['loss'])\n",
    "plt.plot(history.history['val_loss'])\n",
    "plt.title('model loss')\n",
    "plt.ylabel('loss')\n",
    "plt.xlabel('epoch')\n",
    "plt.legend(['Train', 'Validation'], loc='upper left')\n",
    "plt.show()"
   ]
  },
  {
   "cell_type": "code",
   "execution_count": 15,
   "metadata": {},
   "outputs": [
    {
     "data": {
      "text/plain": [
       "'savedModels/Intel_Nasnet_adam'"
      ]
     },
     "execution_count": 15,
     "metadata": {},
     "output_type": "execute_result"
    }
   ],
   "source": [
    "import time\n",
    "import datetime\n",
    "\n",
    "t = time.time()\n",
    "\n",
    "export_path = \"savedModels/Intel_Nasnet_adam\"\n",
    "model.save(export_path)\n",
    "\n",
    "export_path"
   ]
  },
  {
   "cell_type": "code",
   "execution_count": 16,
   "metadata": {},
   "outputs": [
    {
     "name": "stdout",
     "output_type": "stream",
     "text": [
      "WARNING:tensorflow:From /home/ge67per/.local/lib/python3.7/site-packages/tensorflow_core/python/ops/init_ops.py:97: calling GlorotUniform.__init__ (from tensorflow.python.ops.init_ops) with dtype is deprecated and will be removed in a future version.\n",
      "Instructions for updating:\n",
      "Call initializer instance with the dtype argument instead of passing it to the constructor\n"
     ]
    },
    {
     "name": "stderr",
     "output_type": "stream",
     "text": [
      "WARNING:tensorflow:From /home/ge67per/.local/lib/python3.7/site-packages/tensorflow_core/python/ops/init_ops.py:97: calling GlorotUniform.__init__ (from tensorflow.python.ops.init_ops) with dtype is deprecated and will be removed in a future version.\n",
      "Instructions for updating:\n",
      "Call initializer instance with the dtype argument instead of passing it to the constructor\n"
     ]
    },
    {
     "name": "stdout",
     "output_type": "stream",
     "text": [
      "WARNING:tensorflow:From /home/ge67per/.local/lib/python3.7/site-packages/tensorflow_core/python/ops/init_ops.py:97: calling Zeros.__init__ (from tensorflow.python.ops.init_ops) with dtype is deprecated and will be removed in a future version.\n",
      "Instructions for updating:\n",
      "Call initializer instance with the dtype argument instead of passing it to the constructor\n"
     ]
    },
    {
     "name": "stderr",
     "output_type": "stream",
     "text": [
      "WARNING:tensorflow:From /home/ge67per/.local/lib/python3.7/site-packages/tensorflow_core/python/ops/init_ops.py:97: calling Zeros.__init__ (from tensorflow.python.ops.init_ops) with dtype is deprecated and will be removed in a future version.\n",
      "Instructions for updating:\n",
      "Call initializer instance with the dtype argument instead of passing it to the constructor\n"
     ]
    },
    {
     "name": "stdout",
     "output_type": "stream",
     "text": [
      "94/94 [==============================] - 24s 255ms/step - loss: 0.2336 - acc: 0.9150\n"
     ]
    },
    {
     "data": {
      "text/plain": [
       "[0.2336150525494459, 0.915]"
      ]
     },
     "execution_count": 16,
     "metadata": {},
     "output_type": "execute_result"
    }
   ],
   "source": [
    "export_path = \"savedModels/Intel_Nasnet_adam\"\n",
    "reloaded = tf.keras.models.load_model(export_path,custom_objects={'KerasLayer':hub.KerasLayer})\n",
    "\n",
    "reloaded.evaluate(test)"
   ]
  },
  {
   "cell_type": "markdown",
   "metadata": {},
   "source": [
    "# SGD Optimizer (NasNet)"
   ]
  },
  {
   "cell_type": "code",
   "execution_count": 12,
   "metadata": {},
   "outputs": [
    {
     "name": "stdout",
     "output_type": "stream",
     "text": [
      "Model: \"sequential\"\n",
      "_________________________________________________________________\n",
      "Layer (type)                 Output Shape              Param #   \n",
      "=================================================================\n",
      "keras_layer (KerasLayer)     (None, 1056)              4269716   \n",
      "_________________________________________________________________\n",
      "dense (Dense)                (None, 6)                 6342      \n",
      "=================================================================\n",
      "Total params: 4,276,058\n",
      "Trainable params: 6,342\n",
      "Non-trainable params: 4,269,716\n",
      "_________________________________________________________________\n"
     ]
    }
   ],
   "source": [
    "num_of_classes = 6\n",
    "\n",
    "model = tf.keras.Sequential([\n",
    "  pretrained_model_without_top_layer,\n",
    "  tf.keras.layers.Dense(num_of_classes)\n",
    "])\n",
    "\n",
    "model.summary()"
   ]
  },
  {
   "cell_type": "code",
   "execution_count": 13,
   "metadata": {},
   "outputs": [
    {
     "name": "stdout",
     "output_type": "stream",
     "text": [
      "Epoch 1/10\n",
      "438/439 [============================>.] - ETA: 0s - loss: 0.4987 - acc: 0.8398Epoch 1/10\n",
      "439/439 [==============================] - 83s 189ms/step - loss: 0.4984 - acc: 0.8398 - val_loss: 0.3513 - val_acc: 0.8715\n",
      "Epoch 2/10\n",
      "438/439 [============================>.] - ETA: 0s - loss: 0.3150 - acc: 0.8849Epoch 1/10\n",
      "439/439 [==============================] - 31s 71ms/step - loss: 0.3149 - acc: 0.8849 - val_loss: 0.3028 - val_acc: 0.8958\n",
      "Epoch 3/10\n",
      "438/439 [============================>.] - ETA: 0s - loss: 0.2887 - acc: 0.8950Epoch 1/10\n",
      "439/439 [==============================] - 31s 70ms/step - loss: 0.2887 - acc: 0.8950 - val_loss: 0.2844 - val_acc: 0.9010\n",
      "Epoch 4/10\n",
      "438/439 [============================>.] - ETA: 0s - loss: 0.2745 - acc: 0.8997Epoch 1/10\n",
      "439/439 [==============================] - 30s 69ms/step - loss: 0.2745 - acc: 0.8997 - val_loss: 0.2747 - val_acc: 0.9028\n",
      "Epoch 5/10\n",
      "438/439 [============================>.] - ETA: 0s - loss: 0.2647 - acc: 0.9037Epoch 1/10\n",
      "439/439 [==============================] - 30s 68ms/step - loss: 0.2646 - acc: 0.9038 - val_loss: 0.2671 - val_acc: 0.9028\n",
      "Epoch 6/10\n",
      "438/439 [============================>.] - ETA: 0s - loss: 0.2569 - acc: 0.9062Epoch 1/10\n",
      "439/439 [==============================] - 30s 69ms/step - loss: 0.2570 - acc: 0.9060 - val_loss: 0.2610 - val_acc: 0.9045\n",
      "Epoch 7/10\n",
      "438/439 [============================>.] - ETA: 0s - loss: 0.2515 - acc: 0.9084Epoch 1/10\n",
      "439/439 [==============================] - 30s 69ms/step - loss: 0.2512 - acc: 0.9084 - val_loss: 0.2572 - val_acc: 0.8976\n",
      "Epoch 8/10\n",
      "438/439 [============================>.] - ETA: 0s - loss: 0.2463 - acc: 0.9096Epoch 1/10\n",
      "439/439 [==============================] - 30s 69ms/step - loss: 0.2463 - acc: 0.9095 - val_loss: 0.2534 - val_acc: 0.9010\n",
      "Epoch 9/10\n",
      "438/439 [============================>.] - ETA: 0s - loss: 0.2415 - acc: 0.9103Epoch 1/10\n",
      "439/439 [==============================] - 30s 68ms/step - loss: 0.2414 - acc: 0.9103 - val_loss: 0.2529 - val_acc: 0.8993\n",
      "Epoch 10/10\n",
      "438/439 [============================>.] - ETA: 0s - loss: 0.2386 - acc: 0.9128- ETA: 1s - Epoch 1/10\n",
      "439/439 [==============================] - 30s 67ms/step - loss: 0.2383 - acc: 0.9130 - val_loss: 0.2482 - val_acc: 0.9097\n"
     ]
    }
   ],
   "source": [
    "model.compile(\n",
    "  optimizer=\"SGD\",\n",
    "  loss=tf.keras.losses.CategoricalCrossentropy(from_logits=True),\n",
    "  metrics=['acc'])\n",
    "\n",
    "history = model.fit(train, epochs=10, verbose=1, steps_per_epoch=len(train), \n",
    "         validation_data=test, validation_steps= int(0.2*len(test)))"
   ]
  },
  {
   "cell_type": "code",
   "execution_count": 14,
   "metadata": {},
   "outputs": [
    {
     "name": "stdout",
     "output_type": "stream",
     "text": [
      "94/94 [==============================] - 6s 63ms/step - loss: 0.2474 - acc: 0.9060\n"
     ]
    },
    {
     "data": {
      "text/plain": [
       "[0.24743151886666076, 0.906]"
      ]
     },
     "execution_count": 14,
     "metadata": {},
     "output_type": "execute_result"
    }
   ],
   "source": [
    "model.evaluate(test)"
   ]
  },
  {
   "cell_type": "code",
   "execution_count": 15,
   "metadata": {},
   "outputs": [
    {
     "data": {
      "image/png": "[encoded data removed]",
      "text/plain": [
       "<Figure size 432x288 with 1 Axes>"
      ]
     },
     "metadata": {
      "needs_background": "light"
     },
     "output_type": "display_data"
    },
    {
     "data": {
      "image/png": "[encoded data removed]",
      "text/plain": [
       "<Figure size 432x288 with 1 Axes>"
      ]
     },
     "metadata": {
      "needs_background": "light"
     },
     "output_type": "display_data"
    }
   ],
   "source": [
    "import matplotlib.pyplot as plt\n",
    "\n",
    "# summarize history for accuracy\n",
    "plt.plot(history.history['acc'])\n",
    "plt.plot(history.history['val_acc'])\n",
    "plt.title('model accuracy')\n",
    "plt.ylabel('accuracy')\n",
    "plt.xlabel('epoch')\n",
    "plt.legend(['Train', 'Validation'], loc='upper left')\n",
    "plt.show()\n",
    "# summarize history for loss\n",
    "plt.plot(history.history['loss'])\n",
    "plt.plot(history.history['val_loss'])\n",
    "plt.title('model loss')\n",
    "plt.ylabel('loss')\n",
    "plt.xlabel('epoch')\n",
    "plt.legend(['Train', 'Validation'], loc='upper left')\n",
    "plt.show()"
   ]
  },
  {
   "cell_type": "code",
   "execution_count": 16,
   "metadata": {},
   "outputs": [
    {
     "data": {
      "text/plain": [
       "'savedModels/Intel_Nasnet_sgd'"
      ]
     },
     "execution_count": 16,
     "metadata": {},
     "output_type": "execute_result"
    }
   ],
   "source": [
    "import time\n",
    "import datetime\n",
    "\n",
    "t = time.time()\n",
    "\n",
    "export_path = \"savedModels/Intel_Nasnet_sgd\"\n",
    "model.save(export_path)\n",
    "\n",
    "export_path"
   ]
  },
  {
   "cell_type": "code",
   "execution_count": 17,
   "metadata": {},
   "outputs": [
    {
     "name": "stdout",
     "output_type": "stream",
     "text": [
      "94/94 [==============================] - 20s 212ms/step - loss: 0.2477 - acc: 0.9060\n"
     ]
    },
    {
     "data": {
      "text/plain": [
       "[0.24773935862678162, 0.906]"
      ]
     },
     "execution_count": 17,
     "metadata": {},
     "output_type": "execute_result"
    }
   ],
   "source": [
    "export_path = \"savedModels/Intel_Nasnet_sgd\"\n",
    "reloaded = tf.keras.models.load_model(export_path,custom_objects={'KerasLayer':hub.KerasLayer})\n",
    "\n",
    "reloaded.evaluate(test)"
   ]
  },
  {
   "cell_type": "markdown",
   "metadata": {},
   "source": [
    "# Newton Optimizer (NasNet)"
   ]
  },
  {
   "cell_type": "code",
   "execution_count": 102,
   "metadata": {},
   "outputs": [],
   "source": [
    "import newton_cg as es"
   ]
  },
  {
   "cell_type": "code",
   "execution_count": 103,
   "metadata": {},
   "outputs": [
    {
     "name": "stdout",
     "output_type": "stream",
     "text": [
      "Model: \"sequential_18\"\n",
      "_________________________________________________________________\n",
      "Layer (type)                 Output Shape              Param #   \n",
      "=================================================================\n",
      "keras_layer_4 (KerasLayer)   (None, 1056)              4269716   \n",
      "_________________________________________________________________\n",
      "dense_18 (Dense)             (None, 6)                 6342      \n",
      "=================================================================\n",
      "Total params: 4,276,058\n",
      "Trainable params: 6,342\n",
      "Non-trainable params: 4,269,716\n",
      "_________________________________________________________________\n"
     ]
    }
   ],
   "source": [
    "num_of_classes = 6\n",
    "\n",
    "model = tf.keras.Sequential([\n",
    "  pretrained_model_without_top_layer,\n",
    "  tf.keras.layers.Dense(num_of_classes)\n",
    "])\n",
    "\n",
    "model.summary()"
   ]
  },
  {
   "cell_type": "code",
   "execution_count": 104,
   "metadata": {},
   "outputs": [
    {
     "name": "stdout",
     "output_type": "stream",
     "text": [
      "Epoch 1/10\n",
      "eso._resource_compute_dense() called.\n",
      "eso._resource_compute_dense() FINISHED.\n",
      "eso._resource_compute_dense() called.\n",
      "eso._resource_compute_dense() FINISHED.\n",
      "438/439 [============================>.] - ETA: 0s - loss: 1.5098 - acc: 0.4161Epoch 1/10\n",
      "439/439 [==============================] - 54s 123ms/step - loss: 1.5093 - acc: 0.4164 - val_loss: 1.1652 - val_acc: 0.6997\n",
      "Epoch 2/10\n",
      "438/439 [============================>.] - ETA: 0s - loss: 0.9998 - acc: 0.7767Epoch 1/10\n",
      "439/439 [==============================] - 30s 69ms/step - loss: 0.9994 - acc: 0.7769 - val_loss: 0.8619 - val_acc: 0.8229\n",
      "Epoch 3/10\n",
      "438/439 [============================>.] - ETA: 0s - loss: 0.7679 - acc: 0.8402Epoch 1/10\n",
      "439/439 [==============================] - 30s 69ms/step - loss: 0.7676 - acc: 0.8405 - val_loss: 0.6946 - val_acc: 0.8438\n",
      "Epoch 4/10\n",
      "438/439 [============================>.] - ETA: 0s - loss: 0.6303 - acc: 0.8598Epoch 1/10\n",
      "439/439 [==============================] - 30s 69ms/step - loss: 0.6301 - acc: 0.8598 - val_loss: 0.5885 - val_acc: 0.8507\n",
      "Epoch 5/10\n",
      "438/439 [============================>.] - ETA: 0s - loss: 0.5391 - acc: 0.8693Epoch 1/10\n",
      "439/439 [==============================] - 31s 70ms/step - loss: 0.5393 - acc: 0.8690 - val_loss: 0.5154 - val_acc: 0.8628\n",
      "Epoch 6/10\n",
      "438/439 [============================>.] - ETA: 0s - loss: 0.4754 - acc: 0.8740Epoch 1/10\n",
      "439/439 [==============================] - 31s 70ms/step - loss: 0.4756 - acc: 0.8740 - val_loss: 0.4633 - val_acc: 0.8698\n",
      "Epoch 7/10\n",
      "438/439 [============================>.] - ETA: 0s - loss: 0.4300 - acc: 0.8777Epoch 1/10\n",
      "439/439 [==============================] - 31s 70ms/step - loss: 0.4299 - acc: 0.8777 - val_loss: 0.4251 - val_acc: 0.8715\n",
      "Epoch 8/10\n",
      "438/439 [============================>.] - ETA: 0s - loss: 0.3950 - acc: 0.8808Epoch 1/10\n",
      "439/439 [==============================] - 31s 71ms/step - loss: 0.3955 - acc: 0.8806 - val_loss: 0.3966 - val_acc: 0.8733\n",
      "Epoch 9/10\n",
      "438/439 [============================>.] - ETA: 0s - loss: 0.3700 - acc: 0.8823Epoch 1/10\n",
      "439/439 [==============================] - 31s 70ms/step - loss: 0.3697 - acc: 0.8825 - val_loss: 0.3748 - val_acc: 0.8785\n",
      "Epoch 10/10\n",
      "438/439 [============================>.] - ETA: 0s - loss: 0.3497 - acc: 0.8840Epoch 1/10\n",
      "439/439 [==============================] - 31s 70ms/step - loss: 0.3496 - acc: 0.8840 - val_loss: 0.3582 - val_acc: 0.8785\n"
     ]
    }
   ],
   "source": [
    "newton_opt = es.EHNewtonOptimizer(0.001)\n",
    "\n",
    "model.compile(\n",
    "  optimizer=newton_opt,\n",
    "  loss=tf.keras.losses.CategoricalCrossentropy(from_logits=True),\n",
    "  metrics=['acc'])\n",
    "\n",
    "history = model.fit(train, epochs=10, verbose=1, steps_per_epoch=len(train), \n",
    "         validation_data=test, validation_steps= int(0.2*len(test)))"
   ]
  },
  {
   "cell_type": "code",
   "execution_count": 105,
   "metadata": {},
   "outputs": [
    {
     "name": "stdout",
     "output_type": "stream",
     "text": [
      "94/94 [==============================] - 6s 59ms/step - loss: 0.3479 - acc: 0.8837\n"
     ]
    },
    {
     "data": {
      "text/plain": [
       "[0.3478652796846755, 0.8836667]"
      ]
     },
     "execution_count": 105,
     "metadata": {},
     "output_type": "execute_result"
    }
   ],
   "source": [
    "model.evaluate(test)"
   ]
  },
  {
   "cell_type": "code",
   "execution_count": 106,
   "metadata": {},
   "outputs": [
    {
     "data": {
      "image/png": "[encoded data removed]",
      "text/plain": [
       "<Figure size 432x288 with 1 Axes>"
      ]
     },
     "metadata": {
      "needs_background": "light"
     },
     "output_type": "display_data"
    },
    {
     "data": {
      "image/png": "[encoded data removed]",
      "text/plain": [
       "<Figure size 432x288 with 1 Axes>"
      ]
     },
     "metadata": {
      "needs_background": "light"
     },
     "output_type": "display_data"
    }
   ],
   "source": [
    "import matplotlib.pyplot as plt\n",
    "\n",
    "# summarize history for accuracy\n",
    "plt.plot(history.history['acc'])\n",
    "plt.plot(history.history['val_acc'])\n",
    "plt.title('model accuracy')\n",
    "plt.ylabel('accuracy')\n",
    "plt.xlabel('epoch')\n",
    "plt.legend(['Train', 'Validation'], loc='upper left')\n",
    "plt.show()\n",
    "# summarize history for loss\n",
    "plt.plot(history.history['loss'])\n",
    "plt.plot(history.history['val_loss'])\n",
    "plt.title('model loss')\n",
    "plt.ylabel('loss')\n",
    "plt.xlabel('epoch')\n",
    "plt.legend(['Train', 'Validation'], loc='upper left')\n",
    "plt.show()"
   ]
  },
  {
   "cell_type": "code",
   "execution_count": 107,
   "metadata": {},
   "outputs": [
    {
     "data": {
      "text/plain": [
       "'savedModels/Intel_Nasnet_newton'"
      ]
     },
     "execution_count": 107,
     "metadata": {},
     "output_type": "execute_result"
    }
   ],
   "source": [
    "import time\n",
    "import datetime\n",
    "\n",
    "t = time.time()\n",
    "\n",
    "export_path = \"savedModels/Intel_Nasnet_newton\"\n",
    "model.save(export_path)\n",
    "\n",
    "export_path"
   ]
  },
  {
   "cell_type": "code",
   "execution_count": null,
   "metadata": {},
   "outputs": [],
   "source": [
    "export_path = \"savedModels/Intel_Nasnet_newton\"\n",
    "reloaded = tf.keras.models.load_model(export_path,custom_objects={'KerasLayer':hub.KerasLayer})\n",
    "\n",
    "reloaded.evaluate(test)"
   ]
  },
  {
   "cell_type": "markdown",
   "metadata": {},
   "source": [
    "# ----------------------------------------------------------------------------"
   ]
  },
  {
   "cell_type": "markdown",
   "metadata": {},
   "source": [
    "# Inception_ResNet Model"
   ]
  },
  {
   "cell_type": "code",
   "execution_count": 122,
   "metadata": {},
   "outputs": [],
   "source": [
    "feature_extractor_model = \"https://tfhub.dev/google/imagenet/inception_resnet_v2/feature_vector/5\"\n",
    "\n",
    "pretrained_model_without_top_layer = hub.KerasLayer(\n",
    "    feature_extractor_model, input_shape=(224, 224, 3), trainable=False)"
   ]
  },
  {
   "cell_type": "markdown",
   "metadata": {},
   "source": [
    "# Adam Optimizer (Inception_ResNet)"
   ]
  },
  {
   "cell_type": "code",
   "execution_count": 123,
   "metadata": {},
   "outputs": [
    {
     "name": "stdout",
     "output_type": "stream",
     "text": [
      "Model: \"sequential_21\"\n",
      "_________________________________________________________________\n",
      "Layer (type)                 Output Shape              Param #   \n",
      "=================================================================\n",
      "keras_layer_7 (KerasLayer)   (None, 1536)              54336736  \n",
      "_________________________________________________________________\n",
      "dense_21 (Dense)             (None, 6)                 9222      \n",
      "=================================================================\n",
      "Total params: 54,345,958\n",
      "Trainable params: 9,222\n",
      "Non-trainable params: 54,336,736\n",
      "_________________________________________________________________\n"
     ]
    }
   ],
   "source": [
    "num_of_classes = 6\n",
    "\n",
    "model = tf.keras.Sequential([\n",
    "  pretrained_model_without_top_layer,\n",
    "  tf.keras.layers.Dense(num_of_classes)\n",
    "])\n",
    "\n",
    "model.summary()"
   ]
  },
  {
   "cell_type": "code",
   "execution_count": 124,
   "metadata": {},
   "outputs": [
    {
     "name": "stdout",
     "output_type": "stream",
     "text": [
      "Epoch 1/10\n",
      "438/439 [============================>.] - ETA: 0s - loss: 0.3272 - acc: 0.8807Epoch 1/10\n",
      "439/439 [==============================] - 76s 172ms/step - loss: 0.3270 - acc: 0.8807 - val_loss: 0.2452 - val_acc: 0.8958\n",
      "Epoch 2/10\n",
      "438/439 [============================>.] - ETA: 0s - loss: 0.2355 - acc: 0.9155Epoch 1/10\n",
      "439/439 [==============================] - 51s 117ms/step - loss: 0.2355 - acc: 0.9156 - val_loss: 0.2590 - val_acc: 0.9062\n",
      "Epoch 3/10\n",
      "438/439 [============================>.] - ETA: 0s - loss: 0.2142 - acc: 0.9206Epoch 1/10\n",
      "439/439 [==============================] - 51s 117ms/step - loss: 0.2142 - acc: 0.9206 - val_loss: 0.2228 - val_acc: 0.9097\n",
      "Epoch 4/10\n",
      "438/439 [============================>.] - ETA: 0s - loss: 0.2089 - acc: 0.9234Epoch 1/10\n",
      "439/439 [==============================] - 52s 118ms/step - loss: 0.2089 - acc: 0.9233 - val_loss: 0.2081 - val_acc: 0.9149\n",
      "Epoch 5/10\n",
      "438/439 [============================>.] - ETA: 0s - loss: 0.1956 - acc: 0.9280Epoch 1/10\n",
      "439/439 [==============================] - 52s 118ms/step - loss: 0.1953 - acc: 0.9282 - val_loss: 0.2384 - val_acc: 0.9045\n",
      "Epoch 6/10\n",
      "438/439 [============================>.] - ETA: 0s - loss: 0.1890 - acc: 0.9289Epoch 1/10\n",
      "439/439 [==============================] - 52s 118ms/step - loss: 0.1889 - acc: 0.9290 - val_loss: 0.2067 - val_acc: 0.9132\n",
      "Epoch 7/10\n",
      "438/439 [============================>.] - ETA: 0s - loss: 0.1825 - acc: 0.9312Epoch 1/10\n",
      "439/439 [==============================] - 52s 118ms/step - loss: 0.1824 - acc: 0.9312 - val_loss: 0.2057 - val_acc: 0.9201\n",
      "Epoch 8/10\n",
      "438/439 [============================>.] - ETA: 0s - loss: 0.1751 - acc: 0.9329Epoch 1/10\n",
      "439/439 [==============================] - 52s 118ms/step - loss: 0.1751 - acc: 0.9329 - val_loss: 0.2115 - val_acc: 0.9097\n",
      "Epoch 9/10\n",
      "438/439 [============================>.] - ETA: 0s - loss: 0.1687 - acc: 0.9377Epoch 1/10\n",
      "439/439 [==============================] - 52s 118ms/step - loss: 0.1685 - acc: 0.9379 - val_loss: 0.2092 - val_acc: 0.9167\n",
      "Epoch 10/10\n",
      "438/439 [============================>.] - ETA: 0s - loss: 0.1672 - acc: 0.9371Epoch 1/10\n",
      "439/439 [==============================] - 52s 118ms/step - loss: 0.1670 - acc: 0.9372 - val_loss: 0.2055 - val_acc: 0.9184\n"
     ]
    }
   ],
   "source": [
    "model.compile(\n",
    "  optimizer=\"adam\",\n",
    "  loss=tf.keras.losses.CategoricalCrossentropy(from_logits=True),\n",
    "  metrics=['acc'])\n",
    "\n",
    "history = model.fit(train, epochs=10, verbose=1, steps_per_epoch=len(train), \n",
    "         validation_data=test, validation_steps= int(0.2*len(test)))"
   ]
  },
  {
   "cell_type": "code",
   "execution_count": 125,
   "metadata": {},
   "outputs": [
    {
     "name": "stdout",
     "output_type": "stream",
     "text": [
      "94/94 [==============================] - 10s 106ms/step - loss: 0.2207 - acc: 0.9230\n"
     ]
    },
    {
     "data": {
      "text/plain": [
       "[0.22069641598995696, 0.923]"
      ]
     },
     "execution_count": 125,
     "metadata": {},
     "output_type": "execute_result"
    }
   ],
   "source": [
    "model.evaluate(test)"
   ]
  },
  {
   "cell_type": "code",
   "execution_count": 126,
   "metadata": {},
   "outputs": [
    {
     "data": {
      "image/png": "[encoded data removed]",
      "text/plain": [
       "<Figure size 432x288 with 1 Axes>"
      ]
     },
     "metadata": {
      "needs_background": "light"
     },
     "output_type": "display_data"
    },
    {
     "data": {
      "image/png": "[encoded data removed]",
      "text/plain": [
       "<Figure size 432x288 with 1 Axes>"
      ]
     },
     "metadata": {
      "needs_background": "light"
     },
     "output_type": "display_data"
    }
   ],
   "source": [
    "import matplotlib.pyplot as plt\n",
    "\n",
    "# summarize history for accuracy\n",
    "plt.plot(history.history['acc'])\n",
    "plt.plot(history.history['val_acc'])\n",
    "plt.title('model accuracy')\n",
    "plt.ylabel('accuracy')\n",
    "plt.xlabel('epoch')\n",
    "plt.legend(['Train', 'Validation'], loc='upper left')\n",
    "plt.show()\n",
    "# summarize history for loss\n",
    "plt.plot(history.history['loss'])\n",
    "plt.plot(history.history['val_loss'])\n",
    "plt.title('model loss')\n",
    "plt.ylabel('loss')\n",
    "plt.xlabel('epoch')\n",
    "plt.legend(['Train', 'Validation'], loc='upper left')\n",
    "plt.show()"
   ]
  },
  {
   "cell_type": "code",
   "execution_count": 127,
   "metadata": {},
   "outputs": [
    {
     "data": {
      "text/plain": [
       "'savedModels/Intel_incResnet_adam'"
      ]
     },
     "execution_count": 127,
     "metadata": {},
     "output_type": "execute_result"
    }
   ],
   "source": [
    "import time\n",
    "import datetime\n",
    "\n",
    "t = time.time()\n",
    "\n",
    "export_path = \"savedModels/Intel_incResnet_adam\"\n",
    "model.save(export_path)\n",
    "\n",
    "export_path"
   ]
  },
  {
   "cell_type": "code",
   "execution_count": 128,
   "metadata": {},
   "outputs": [
    {
     "name": "stdout",
     "output_type": "stream",
     "text": [
      "94/94 [==============================] - 21s 223ms/step - loss: 0.2205 - acc: 0.9230\n"
     ]
    },
    {
     "data": {
      "text/plain": [
       "[0.22045504028334262, 0.923]"
      ]
     },
     "execution_count": 128,
     "metadata": {},
     "output_type": "execute_result"
    }
   ],
   "source": [
    "export_path = \"savedModels/Intel_incResnet_adam\"\n",
    "reloaded = tf.keras.models.load_model(export_path,custom_objects={'KerasLayer':hub.KerasLayer})\n",
    "\n",
    "reloaded.evaluate(test)"
   ]
  },
  {
   "cell_type": "markdown",
   "metadata": {},
   "source": [
    "# SGD Optimizer (Inception_ResNet)"
   ]
  },
  {
   "cell_type": "code",
   "execution_count": 23,
   "metadata": {},
   "outputs": [
    {
     "name": "stdout",
     "output_type": "stream",
     "text": [
      "Model: \"sequential_2\"\n",
      "_________________________________________________________________\n",
      "Layer (type)                 Output Shape              Param #   \n",
      "=================================================================\n",
      "keras_layer_3 (KerasLayer)   (None, 1536)              54336736  \n",
      "_________________________________________________________________\n",
      "dense_2 (Dense)              (None, 6)                 9222      \n",
      "=================================================================\n",
      "Total params: 54,345,958\n",
      "Trainable params: 9,222\n",
      "Non-trainable params: 54,336,736\n",
      "_________________________________________________________________\n"
     ]
    }
   ],
   "source": [
    "num_of_classes = 6\n",
    "\n",
    "model = tf.keras.Sequential([\n",
    "  pretrained_model_without_top_layer,\n",
    "  tf.keras.layers.Dense(num_of_classes)\n",
    "])\n",
    "\n",
    "model.summary()"
   ]
  },
  {
   "cell_type": "code",
   "execution_count": 24,
   "metadata": {},
   "outputs": [
    {
     "name": "stdout",
     "output_type": "stream",
     "text": [
      "Epoch 1/10\n",
      "438/439 [============================>.] - ETA: 0s - loss: 0.3772 - acc: 0.8634Epoch 1/10\n",
      "439/439 [==============================] - 90s 204ms/step - loss: 0.3769 - acc: 0.8636 - val_loss: 0.2574 - val_acc: 0.8993\n",
      "Epoch 2/10\n",
      "438/439 [============================>.] - ETA: 0s - loss: 0.2632 - acc: 0.9048Epoch 1/10\n",
      "439/439 [==============================] - 53s 120ms/step - loss: 0.2637 - acc: 0.9048 - val_loss: 0.2310 - val_acc: 0.9149\n",
      "Epoch 3/10\n",
      "438/439 [============================>.] - ETA: 0s - loss: 0.2454 - acc: 0.9118Epoch 1/10\n",
      "439/439 [==============================] - 53s 121ms/step - loss: 0.2454 - acc: 0.9119 - val_loss: 0.2231 - val_acc: 0.9149\n",
      "Epoch 4/10\n",
      "438/439 [============================>.] - ETA: 0s - loss: 0.2343 - acc: 0.9157Epoch 1/10\n",
      "439/439 [==============================] - 53s 120ms/step - loss: 0.2341 - acc: 0.9158 - val_loss: 0.2098 - val_acc: 0.9236\n",
      "Epoch 5/10\n",
      "438/439 [============================>.] - ETA: 0s - loss: 0.2277 - acc: 0.9171Epoch 1/10\n",
      "439/439 [==============================] - 53s 121ms/step - loss: 0.2281 - acc: 0.9169 - val_loss: 0.2059 - val_acc: 0.9253\n",
      "Epoch 6/10\n",
      "438/439 [============================>.] - ETA: 0s - loss: 0.2209 - acc: 0.9205Epoch 1/10\n",
      "439/439 [==============================] - 53s 121ms/step - loss: 0.2208 - acc: 0.9206 - val_loss: 0.2037 - val_acc: 0.9340\n",
      "Epoch 7/10\n",
      "438/439 [============================>.] - ETA: 0s - loss: 0.2160 - acc: 0.9209Epoch 1/10\n",
      "439/439 [==============================] - 53s 122ms/step - loss: 0.2161 - acc: 0.9208 - val_loss: 0.1970 - val_acc: 0.9306\n",
      "Epoch 8/10\n",
      "438/439 [============================>.] - ETA: 0s - loss: 0.2112 - acc: 0.9227Epoch 1/10\n",
      "439/439 [==============================] - 53s 122ms/step - loss: 0.2114 - acc: 0.9226 - val_loss: 0.1997 - val_acc: 0.9288\n",
      "Epoch 9/10\n",
      "438/439 [============================>.] - ETA: 0s - loss: 0.2080 - acc: 0.9252Epoch 1/10\n",
      "439/439 [==============================] - 53s 121ms/step - loss: 0.2079 - acc: 0.9252 - val_loss: 0.2077 - val_acc: 0.9288\n",
      "Epoch 10/10\n",
      "438/439 [============================>.] - ETA: 0s - loss: 0.2054 - acc: 0.9262Epoch 1/10\n",
      "439/439 [==============================] - 53s 120ms/step - loss: 0.2053 - acc: 0.9263 - val_loss: 0.1916 - val_acc: 0.9323\n"
     ]
    }
   ],
   "source": [
    "model.compile(\n",
    "  optimizer=\"SGD\",\n",
    "  loss=tf.keras.losses.CategoricalCrossentropy(from_logits=True),\n",
    "  metrics=['acc'])\n",
    "\n",
    "history = model.fit(train, epochs=10, verbose=1, steps_per_epoch=len(train), \n",
    "         validation_data=test, validation_steps= int(0.2*len(test)))"
   ]
  },
  {
   "cell_type": "code",
   "execution_count": 25,
   "metadata": {},
   "outputs": [
    {
     "name": "stdout",
     "output_type": "stream",
     "text": [
      "94/94 [==============================] - 10s 112ms/step - loss: 0.2214 - acc: 0.9167\n"
     ]
    },
    {
     "data": {
      "text/plain": [
       "[0.22140892285932887, 0.9166667]"
      ]
     },
     "execution_count": 25,
     "metadata": {},
     "output_type": "execute_result"
    }
   ],
   "source": [
    "model.evaluate(test)"
   ]
  },
  {
   "cell_type": "code",
   "execution_count": 26,
   "metadata": {},
   "outputs": [
    {
     "data": {
      "image/png": "[encoded data removed]",
      "text/plain": [
       "<Figure size 432x288 with 1 Axes>"
      ]
     },
     "metadata": {
      "needs_background": "light"
     },
     "output_type": "display_data"
    },
    {
     "data": {
      "image/png": "[encoded data removed]",
      "text/plain": [
       "<Figure size 432x288 with 1 Axes>"
      ]
     },
     "metadata": {
      "needs_background": "light"
     },
     "output_type": "display_data"
    }
   ],
   "source": [
    "import matplotlib.pyplot as plt\n",
    "\n",
    "# summarize history for accuracy\n",
    "plt.plot(history.history['acc'])\n",
    "plt.plot(history.history['val_acc'])\n",
    "plt.title('model accuracy')\n",
    "plt.ylabel('accuracy')\n",
    "plt.xlabel('epoch')\n",
    "plt.legend(['Train', 'Validation'], loc='upper left')\n",
    "plt.show()\n",
    "# summarize history for loss\n",
    "plt.plot(history.history['loss'])\n",
    "plt.plot(history.history['val_loss'])\n",
    "plt.title('model loss')\n",
    "plt.ylabel('loss')\n",
    "plt.xlabel('epoch')\n",
    "plt.legend(['Train', 'Validation'], loc='upper left')\n",
    "plt.show()"
   ]
  },
  {
   "cell_type": "code",
   "execution_count": 27,
   "metadata": {},
   "outputs": [
    {
     "data": {
      "text/plain": [
       "'savedModels/Intel_incResnet_sgd'"
      ]
     },
     "execution_count": 27,
     "metadata": {},
     "output_type": "execute_result"
    }
   ],
   "source": [
    "import time\n",
    "import datetime\n",
    "\n",
    "t = time.time()\n",
    "\n",
    "export_path = \"savedModels/Intel_incResnet_sgd\"\n",
    "model.save(export_path)\n",
    "\n",
    "export_path"
   ]
  },
  {
   "cell_type": "code",
   "execution_count": null,
   "metadata": {},
   "outputs": [],
   "source": [
    "export_path = \"savedModels/Intel_incResnet_sgd\"\n",
    "reloaded = tf.keras.models.load_model(export_path,custom_objects={'KerasLayer':hub.KerasLayer})\n",
    "\n",
    "reloaded.evaluate(test)"
   ]
  },
  {
   "cell_type": "markdown",
   "metadata": {},
   "source": [
    "# Newton Optimizer (Inception_ResNet)"
   ]
  },
  {
   "cell_type": "code",
   "execution_count": 129,
   "metadata": {},
   "outputs": [],
   "source": [
    "import newton_cg as es"
   ]
  },
  {
   "cell_type": "code",
   "execution_count": 130,
   "metadata": {},
   "outputs": [
    {
     "name": "stdout",
     "output_type": "stream",
     "text": [
      "Model: \"sequential_22\"\n",
      "_________________________________________________________________\n",
      "Layer (type)                 Output Shape              Param #   \n",
      "=================================================================\n",
      "keras_layer_7 (KerasLayer)   (None, 1536)              54336736  \n",
      "_________________________________________________________________\n",
      "dense_22 (Dense)             (None, 6)                 9222      \n",
      "=================================================================\n",
      "Total params: 54,345,958\n",
      "Trainable params: 9,222\n",
      "Non-trainable params: 54,336,736\n",
      "_________________________________________________________________\n"
     ]
    }
   ],
   "source": [
    "num_of_classes = 6\n",
    "\n",
    "model = tf.keras.Sequential([\n",
    "  pretrained_model_without_top_layer,\n",
    "  tf.keras.layers.Dense(num_of_classes)\n",
    "])\n",
    "\n",
    "model.summary()"
   ]
  },
  {
   "cell_type": "code",
   "execution_count": 131,
   "metadata": {},
   "outputs": [
    {
     "name": "stdout",
     "output_type": "stream",
     "text": [
      "Epoch 1/10\n",
      "eso._resource_compute_dense() called.\n",
      "eso._resource_compute_dense() FINISHED.\n",
      "eso._resource_compute_dense() called.\n",
      "eso._resource_compute_dense() FINISHED.\n",
      "438/439 [============================>.] - ETA: 0s - loss: 1.3708 - acc: 0.4540Epoch 1/10\n",
      "439/439 [==============================] - 86s 196ms/step - loss: 1.3702 - acc: 0.4545 - val_loss: 1.0748 - val_acc: 0.6962\n",
      "Epoch 2/10\n",
      "438/439 [============================>.] - ETA: 0s - loss: 0.9003 - acc: 0.7877Epoch 1/10\n",
      "439/439 [==============================] - 58s 132ms/step - loss: 0.9000 - acc: 0.7878 - val_loss: 0.7812 - val_acc: 0.8368\n",
      "Epoch 3/10\n",
      "438/439 [============================>.] - ETA: 0s - loss: 0.6860 - acc: 0.8501Epoch 1/10\n",
      "439/439 [==============================] - 59s 135ms/step - loss: 0.6861 - acc: 0.8500 - val_loss: 0.6205 - val_acc: 0.8715\n",
      "Epoch 4/10\n",
      "438/439 [============================>.] - ETA: 0s - loss: 0.5598 - acc: 0.8695Epoch 1/10\n",
      "439/439 [==============================] - 59s 135ms/step - loss: 0.5599 - acc: 0.8693 - val_loss: 0.5204 - val_acc: 0.8889\n",
      "Epoch 5/10\n",
      "438/439 [============================>.] - ETA: 0s - loss: 0.4779 - acc: 0.8800Epoch 1/10\n",
      "439/439 [==============================] - 59s 134ms/step - loss: 0.4781 - acc: 0.8799 - val_loss: 0.4533 - val_acc: 0.8958\n",
      "Epoch 6/10\n",
      "438/439 [============================>.] - ETA: 0s - loss: 0.4224 - acc: 0.8869Epoch 1/10\n",
      "439/439 [==============================] - 59s 134ms/step - loss: 0.4221 - acc: 0.8869 - val_loss: 0.4062 - val_acc: 0.8993\n",
      "Epoch 7/10\n",
      "438/439 [============================>.] - ETA: 0s - loss: 0.3811 - acc: 0.8909Epoch 1/10\n",
      "439/439 [==============================] - 59s 135ms/step - loss: 0.3813 - acc: 0.8908 - val_loss: 0.3724 - val_acc: 0.9028\n",
      "Epoch 8/10\n",
      "438/439 [============================>.] - ETA: 0s - loss: 0.3520 - acc: 0.8939Epoch 1/10\n",
      "439/439 [==============================] - 59s 134ms/step - loss: 0.3519 - acc: 0.8938 - val_loss: 0.3473 - val_acc: 0.9062\n",
      "Epoch 9/10\n",
      "438/439 [============================>.] - ETA: 0s - loss: 0.3300 - acc: 0.8948Epoch 1/10\n",
      "439/439 [==============================] - 59s 134ms/step - loss: 0.3298 - acc: 0.8948 - val_loss: 0.3282 - val_acc: 0.9080\n",
      "Epoch 10/10\n",
      "438/439 [============================>.] - ETA: 0s - loss: 0.3131 - acc: 0.8970Epoch 1/10\n",
      "439/439 [==============================] - 59s 134ms/step - loss: 0.3129 - acc: 0.8970 - val_loss: 0.3135 - val_acc: 0.9080\n"
     ]
    }
   ],
   "source": [
    "newton_opt = es.EHNewtonOptimizer(0.001)\n",
    "\n",
    "model.compile(\n",
    "  optimizer=newton_opt,\n",
    "  loss=tf.keras.losses.CategoricalCrossentropy(from_logits=True),\n",
    "  metrics=['acc'])\n",
    "\n",
    "history = model.fit(train, epochs=10, verbose=1, steps_per_epoch=len(train), \n",
    "         validation_data=test, validation_steps= int(0.2*len(test)))"
   ]
  },
  {
   "cell_type": "code",
   "execution_count": 132,
   "metadata": {},
   "outputs": [
    {
     "name": "stdout",
     "output_type": "stream",
     "text": [
      "94/94 [==============================] - 10s 107ms/step - loss: 0.3127 - acc: 0.8947\n"
     ]
    },
    {
     "data": {
      "text/plain": [
       "[0.31269585127209093, 0.8946667]"
      ]
     },
     "execution_count": 132,
     "metadata": {},
     "output_type": "execute_result"
    }
   ],
   "source": [
    "model.evaluate(test)"
   ]
  },
  {
   "cell_type": "code",
   "execution_count": 133,
   "metadata": {},
   "outputs": [
    {
     "data": {
      "image/png": "[encoded data removed]",
      "text/plain": [
       "<Figure size 432x288 with 1 Axes>"
      ]
     },
     "metadata": {
      "needs_background": "light"
     },
     "output_type": "display_data"
    },
    {
     "data": {
      "image/png": "[encoded data removed]",
      "text/plain": [
       "<Figure size 432x288 with 1 Axes>"
      ]
     },
     "metadata": {
      "needs_background": "light"
     },
     "output_type": "display_data"
    }
   ],
   "source": [
    "import matplotlib.pyplot as plt\n",
    "\n",
    "# summarize history for accuracy\n",
    "plt.plot(history.history['acc'])\n",
    "plt.plot(history.history['val_acc'])\n",
    "plt.title('model accuracy')\n",
    "plt.ylabel('accuracy')\n",
    "plt.xlabel('epoch')\n",
    "plt.legend(['Train', 'Validation'], loc='upper left')\n",
    "plt.show()\n",
    "# summarize history for loss\n",
    "plt.plot(history.history['loss'])\n",
    "plt.plot(history.history['val_loss'])\n",
    "plt.title('model loss')\n",
    "plt.ylabel('loss')\n",
    "plt.xlabel('epoch')\n",
    "plt.legend(['Train', 'Validation'], loc='upper left')\n",
    "plt.show()"
   ]
  },
  {
   "cell_type": "code",
   "execution_count": 134,
   "metadata": {},
   "outputs": [
    {
     "data": {
      "text/plain": [
       "'savedModels/Intel_incResnet_newton'"
      ]
     },
     "execution_count": 134,
     "metadata": {},
     "output_type": "execute_result"
    }
   ],
   "source": [
    "import time\n",
    "import datetime\n",
    "\n",
    "t = time.time()\n",
    "\n",
    "export_path = \"savedModels/Intel_incResnet_newton\"\n",
    "model.save(export_path)\n",
    "\n",
    "export_path"
   ]
  },
  {
   "cell_type": "code",
   "execution_count": null,
   "metadata": {},
   "outputs": [],
   "source": [
    "export_path = \"savedModels/Intel_incResnet_newton\"\n",
    "reloaded = tf.keras.models.load_model(export_path,custom_objects={'KerasLayer':hub.KerasLayer})\n",
    "\n",
    "reloaded.evaluate(test)"
   ]
  }
 ],
 "metadata": {
  "kernelspec": {
   "display_name": "Python 3 (ipykernel)",
   "language": "python",
   "name": "python3"
  },
  "language_info": {
   "codemirror_mode": {
    "name": "ipython",
    "version": 3
   },
   "file_extension": ".py",
   "mimetype": "text/x-python",
   "name": "python",
   "nbconvert_exporter": "python",
   "pygments_lexer": "ipython3",
   "version": "3.7.10"
  }
 },
 "nbformat": 4,
 "nbformat_minor": 4
}
